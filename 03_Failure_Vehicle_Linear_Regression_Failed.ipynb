{
 "cells": [
  {
   "cell_type": "markdown",
   "metadata": {},
   "source": [
    "# Predicting Co2 emissions based on highway mpg, city mpg and engine displacement"
   ]
  },
  {
   "cell_type": "markdown",
   "metadata": {},
   "source": [
    "This notebook uses a historical dataset to build a linear regression model that predicts Co2 emissions based on highway mpg, city mpg and engine displacement"
   ]
  },
  {
   "cell_type": "markdown",
   "metadata": {
    "colab_type": "text",
    "id": "H4h5CV-p3fsD"
   },
   "source": [
    "## 1. Collect the Data  \n",
    "  \n",
    "The process starts with importing the Panda’s and numpy packages.  \n",
    "Next import the data into a Pandas data frame and preview the data frame.  \n",
    "Use the <span style=\"color:green\">.head() method </span>which provides a concise summary of the data frame. "
   ]
  },
  {
   "cell_type": "code",
   "execution_count": 66,
   "metadata": {
    "colab": {},
    "colab_type": "code",
    "id": "ZBtXnome3fr0"
   },
   "outputs": [
    {
     "data": {
      "text/html": [
       "<div>\n",
       "<style scoped>\n",
       "    .dataframe tbody tr th:only-of-type {\n",
       "        vertical-align: middle;\n",
       "    }\n",
       "\n",
       "    .dataframe tbody tr th {\n",
       "        vertical-align: top;\n",
       "    }\n",
       "\n",
       "    .dataframe thead th {\n",
       "        text-align: right;\n",
       "    }\n",
       "</style>\n",
       "<table border=\"1\" class=\"dataframe\">\n",
       "  <thead>\n",
       "    <tr style=\"text-align: right;\">\n",
       "      <th></th>\n",
       "      <th>citympg</th>\n",
       "      <th>displacement</th>\n",
       "      <th>highwaympg</th>\n",
       "      <th>co2emissions</th>\n",
       "    </tr>\n",
       "  </thead>\n",
       "  <tbody>\n",
       "    <tr>\n",
       "      <th>0</th>\n",
       "      <td>14</td>\n",
       "      <td>4.1</td>\n",
       "      <td>19</td>\n",
       "      <td>555.44</td>\n",
       "    </tr>\n",
       "    <tr>\n",
       "      <th>1</th>\n",
       "      <td>14</td>\n",
       "      <td>5.0</td>\n",
       "      <td>20</td>\n",
       "      <td>555.44</td>\n",
       "    </tr>\n",
       "    <tr>\n",
       "      <th>2</th>\n",
       "      <td>18</td>\n",
       "      <td>5.7</td>\n",
       "      <td>26</td>\n",
       "      <td>484.76</td>\n",
       "    </tr>\n",
       "    <tr>\n",
       "      <th>3</th>\n",
       "      <td>21</td>\n",
       "      <td>4.3</td>\n",
       "      <td>31</td>\n",
       "      <td>424.17</td>\n",
       "    </tr>\n",
       "    <tr>\n",
       "      <th>4</th>\n",
       "      <td>14</td>\n",
       "      <td>4.1</td>\n",
       "      <td>19</td>\n",
       "      <td>555.44</td>\n",
       "    </tr>\n",
       "  </tbody>\n",
       "</table>\n",
       "</div>"
      ],
      "text/plain": [
       "   citympg  displacement  highwaympg  co2emissions\n",
       "0       14           4.1          19        555.44\n",
       "1       14           5.0          20        555.44\n",
       "2       18           5.7          26        484.76\n",
       "3       21           4.3          31        424.17\n",
       "4       14           4.1          19        555.44"
      ]
     },
     "execution_count": 66,
     "metadata": {},
     "output_type": "execute_result"
    }
   ],
   "source": [
    "import pandas as pd # used to \"tidy\" up and manipulate our data\n",
    "import numpy as np # used for matrix and numerical calculations; foundation of pandas\n",
    "df = pd.read_excel(\"C:/Users/ke337467/OneDrive - Oxfordshire County Council/Data Scientist Apprenticeship/Module Portfolio - Data Science Professional Practice/Vehicles/vehicles_v1.xlsx\")\n",
    "df.head()"
   ]
  },
  {
   "cell_type": "markdown",
   "metadata": {},
   "source": [
    "## 2. Explore the Data  \n",
    "### 2.1 Structure of the data\n",
    "Next use the <span style=\"color:green\"> .info() method </span> to determine the structure of the data frame.  \n",
    "This allows us to preview the data frame and evaluate the structure of the data.  \n",
    "There are <span style=\"color:blue\">36,956 instances (rows or records) </span>and <span style=\"color:purple\">4 features (columns or fields).</span>  \n",
    "All the features are numeric and all are continuous variables.\n"
   ]
  },
  {
   "cell_type": "code",
   "execution_count": 67,
   "metadata": {},
   "outputs": [
    {
     "name": "stdout",
     "output_type": "stream",
     "text": [
      "<class 'pandas.core.frame.DataFrame'>\n",
      "RangeIndex: 36956 entries, 0 to 36955\n",
      "Data columns (total 4 columns):\n",
      " #   Column        Non-Null Count  Dtype  \n",
      "---  ------        --------------  -----  \n",
      " 0   citympg       36956 non-null  int64  \n",
      " 1   displacement  36956 non-null  float64\n",
      " 2   highwaympg    36956 non-null  int64  \n",
      " 3   co2emissions  36956 non-null  float64\n",
      "dtypes: float64(2), int64(2)\n",
      "memory usage: 1.1 MB\n"
     ]
    }
   ],
   "source": [
    "df.info()"
   ]
  },
  {
   "cell_type": "markdown",
   "metadata": {},
   "source": [
    "### 2.2 Statistics of the features in the data frame\n",
    "Next use the <span style=\"color:green\">.desribe() method</span> to get summary statistics for the data. The statistics show the following:  \n",
    "* Mean  \n",
    "* Minimum  \n",
    "* Maximum  \n",
    "* Standard Deviation\n",
    "* Percentile Values (25%, 50% and 75%)  \n",
    "for the 4 features in the data frame.\n"
   ]
  },
  {
   "cell_type": "code",
   "execution_count": 68,
   "metadata": {},
   "outputs": [
    {
     "data": {
      "text/html": [
       "<div>\n",
       "<style scoped>\n",
       "    .dataframe tbody tr th:only-of-type {\n",
       "        vertical-align: middle;\n",
       "    }\n",
       "\n",
       "    .dataframe tbody tr th {\n",
       "        vertical-align: top;\n",
       "    }\n",
       "\n",
       "    .dataframe thead th {\n",
       "        text-align: right;\n",
       "    }\n",
       "</style>\n",
       "<table border=\"1\" class=\"dataframe\">\n",
       "  <thead>\n",
       "    <tr style=\"text-align: right;\">\n",
       "      <th></th>\n",
       "      <th>citympg</th>\n",
       "      <th>displacement</th>\n",
       "      <th>highwaympg</th>\n",
       "      <th>co2emissions</th>\n",
       "    </tr>\n",
       "  </thead>\n",
       "  <tbody>\n",
       "    <tr>\n",
       "      <th>count</th>\n",
       "      <td>36956.000000</td>\n",
       "      <td>36956.000000</td>\n",
       "      <td>36956.000000</td>\n",
       "      <td>36956.000000</td>\n",
       "    </tr>\n",
       "    <tr>\n",
       "      <th>mean</th>\n",
       "      <td>17.530631</td>\n",
       "      <td>3.346244</td>\n",
       "      <td>23.767697</td>\n",
       "      <td>476.611910</td>\n",
       "    </tr>\n",
       "    <tr>\n",
       "      <th>std</th>\n",
       "      <td>4.472936</td>\n",
       "      <td>1.359974</td>\n",
       "      <td>5.719660</td>\n",
       "      <td>117.797861</td>\n",
       "    </tr>\n",
       "    <tr>\n",
       "      <th>min</th>\n",
       "      <td>6.000000</td>\n",
       "      <td>0.600000</td>\n",
       "      <td>9.000000</td>\n",
       "      <td>29.000000</td>\n",
       "    </tr>\n",
       "    <tr>\n",
       "      <th>25%</th>\n",
       "      <td>15.000000</td>\n",
       "      <td>2.200000</td>\n",
       "      <td>20.000000</td>\n",
       "      <td>400.000000</td>\n",
       "    </tr>\n",
       "    <tr>\n",
       "      <th>50%</th>\n",
       "      <td>17.000000</td>\n",
       "      <td>3.000000</td>\n",
       "      <td>24.000000</td>\n",
       "      <td>467.740000</td>\n",
       "    </tr>\n",
       "    <tr>\n",
       "      <th>75%</th>\n",
       "      <td>20.000000</td>\n",
       "      <td>4.300000</td>\n",
       "      <td>27.000000</td>\n",
       "      <td>555.440000</td>\n",
       "    </tr>\n",
       "    <tr>\n",
       "      <th>max</th>\n",
       "      <td>57.000000</td>\n",
       "      <td>8.400000</td>\n",
       "      <td>61.000000</td>\n",
       "      <td>1269.570000</td>\n",
       "    </tr>\n",
       "  </tbody>\n",
       "</table>\n",
       "</div>"
      ],
      "text/plain": [
       "            citympg  displacement    highwaympg  co2emissions\n",
       "count  36956.000000  36956.000000  36956.000000  36956.000000\n",
       "mean      17.530631      3.346244     23.767697    476.611910\n",
       "std        4.472936      1.359974      5.719660    117.797861\n",
       "min        6.000000      0.600000      9.000000     29.000000\n",
       "25%       15.000000      2.200000     20.000000    400.000000\n",
       "50%       17.000000      3.000000     24.000000    467.740000\n",
       "75%       20.000000      4.300000     27.000000    555.440000\n",
       "max       57.000000      8.400000     61.000000   1269.570000"
      ]
     },
     "execution_count": 68,
     "metadata": {},
     "output_type": "execute_result"
    }
   ],
   "source": [
    "df.describe()"
   ]
  },
  {
   "cell_type": "markdown",
   "metadata": {},
   "source": [
    "### 2.3 Determine if there is a linear relationship between the independent variable (displacement) and the dependent variable (co2emissions).\n",
    "Linear Regression Models assume that there exists a linear relationship between the <span style=\"color:blue\"> predictors (independent variables) </span>\n",
    "and the <span style=\"color:red\"> response (dependent variable).</span>\n",
    "  \n",
    "The next step is the determine that the assumption holds true in the dataset.  \n",
    "Scatterplot between the <span style=\"color:blue\"> predictor (independent variable) – displacement </span>and the <span style=\"color:red\"> response (dependent variable) co2emissions.</span>  "
   ]
  },
  {
   "cell_type": "code",
   "execution_count": 69,
   "metadata": {
    "scrolled": true
   },
   "outputs": [
    {
     "data": {
      "text/plain": [
       "<AxesSubplot:xlabel='displacement', ylabel='co2emissions'>"
      ]
     },
     "execution_count": 69,
     "metadata": {},
     "output_type": "execute_result"
    },
    {
     "data": {
      "image/png": "[encoded data removed]",
      "text/plain": [
       "<Figure size 800x330 with 1 Axes>"
      ]
     },
     "metadata": {},
     "output_type": "display_data"
    }
   ],
   "source": [
    "%matplotlib inline\n",
    "df.plot(kind = 'scatter', x = 'displacement', y = 'co2emissions',figsize = (8,3.3))"
   ]
  },
  {
   "cell_type": "markdown",
   "metadata": {},
   "source": [
    "#### 2.3 Results and observations\n",
    "Chart shows that there is a <span style=\"color:green\"> positive linear relationship </span>  \n",
    "between <span style=\"color:blue\"> displacement </span> and <span style=\"color:red\"> co2emissions.  </span>  \n",
    "This means that as the <span style=\"color:green\"> displacement increases </span>so co2emissions <span style=\"color:green\"> increase </span>.\n",
    "\n",
    "### 2.4 Is there a linear relationship between the independent variable (citympg) and the dependent variable (co2emissions).\n",
    "\n",
    "Create a scatterplot between the <span style=\"color:blue\"> predictor (independent variable) – citympg </span>and the <span style=\"color:red\"> response (dependent variable) co2emissions.</span>  "
   ]
  },
  {
   "cell_type": "code",
   "execution_count": 70,
   "metadata": {},
   "outputs": [
    {
     "data": {
      "text/plain": [
       "<AxesSubplot:xlabel='citympg', ylabel='co2emissions'>"
      ]
     },
     "execution_count": 70,
     "metadata": {},
     "output_type": "execute_result"
    },
    {
     "data": {
      "image/png": "[encoded data removed]",
      "text/plain": [
       "<Figure size 800x330 with 1 Axes>"
      ]
     },
     "metadata": {},
     "output_type": "display_data"
    }
   ],
   "source": [
    "%matplotlib inline\n",
    "df.plot(kind = 'scatter', x = 'citympg', y = 'co2emissions',figsize = (8,3.3))"
   ]
  },
  {
   "cell_type": "markdown",
   "metadata": {},
   "source": [
    "#### 2.4 Results and observations\n",
    "\n",
    "Chart shows that there is a <span style=\"color:red\"> **negative non-linear relationship** </span> between <span style=\"color:blue\"> citympg </span> and <span style=\"color:red\"> co2emissions</span>  \n",
    "This means that as the <span style=\"color:red\"> citympg increases </span>the co2emissions <span style=\"color:red\"> decreases </span>.\n",
    "\n",
    "### 2.5 Is there a linear relationship between the independent variable (highwaympg) and the dependent variable (co2emissions).\n",
    "\n",
    "Create a scatterplot between the <span style=\"color:blue\"> predictor (independent variable) – highwaympg </span>and the <span style=\"color:red\"> response (dependent variable) co2emissions.</span>\n"
   ]
  },
  {
   "cell_type": "code",
   "execution_count": 71,
   "metadata": {},
   "outputs": [
    {
     "data": {
      "text/plain": [
       "<AxesSubplot:xlabel='highwaympg', ylabel='co2emissions'>"
      ]
     },
     "execution_count": 71,
     "metadata": {},
     "output_type": "execute_result"
    },
    {
     "data": {
      "image/png": "[encoded data removed]",
      "text/plain": [
       "<Figure size 640x480 with 1 Axes>"
      ]
     },
     "metadata": {},
     "output_type": "display_data"
    }
   ],
   "source": [
    "df.plot(kind = 'scatter', x = 'highwaympg', y = 'co2emissions')"
   ]
  },
  {
   "cell_type": "markdown",
   "metadata": {},
   "source": [
    "#### 2.5 Results and observations\n",
    "Chart shows that there is a <span style=\"color:red\"> **negative non-linear relationship** </span> between <span style=\"color:blue\"> highwaympg </span> and <span style=\"color:red\"> co2emissions</span>  \n",
    "This means that as the <span style=\"color:red\"> highwaympg increases </span>the co2emissions <span style=\"color:red\"> decreases </span>.\n"
   ]
  },
  {
   "cell_type": "markdown",
   "metadata": {},
   "source": [
    "## 3. Prepare the Data\n",
    "\n",
    "Before building the model, it is necessary to split the data into train and test datasets.  \n",
    "#### Step 1\n",
    "1. Start by creating a data frame <span style=\"color:blue\">Y for the dependent variable</span> (this will only be one).  "
   ]
  },
  {
   "cell_type": "code",
   "execution_count": 72,
   "metadata": {},
   "outputs": [
    {
     "data": {
      "text/html": [
       "<div>\n",
       "<style scoped>\n",
       "    .dataframe tbody tr th:only-of-type {\n",
       "        vertical-align: middle;\n",
       "    }\n",
       "\n",
       "    .dataframe tbody tr th {\n",
       "        vertical-align: top;\n",
       "    }\n",
       "\n",
       "    .dataframe thead th {\n",
       "        text-align: right;\n",
       "    }\n",
       "</style>\n",
       "<table border=\"1\" class=\"dataframe\">\n",
       "  <thead>\n",
       "    <tr style=\"text-align: right;\">\n",
       "      <th></th>\n",
       "      <th>co2emissions</th>\n",
       "    </tr>\n",
       "  </thead>\n",
       "  <tbody>\n",
       "    <tr>\n",
       "      <th>0</th>\n",
       "      <td>555.44</td>\n",
       "    </tr>\n",
       "    <tr>\n",
       "      <th>1</th>\n",
       "      <td>555.44</td>\n",
       "    </tr>\n",
       "    <tr>\n",
       "      <th>2</th>\n",
       "      <td>484.76</td>\n",
       "    </tr>\n",
       "    <tr>\n",
       "      <th>3</th>\n",
       "      <td>424.17</td>\n",
       "    </tr>\n",
       "    <tr>\n",
       "      <th>4</th>\n",
       "      <td>555.44</td>\n",
       "    </tr>\n",
       "    <tr>\n",
       "      <th>...</th>\n",
       "      <td>...</td>\n",
       "    </tr>\n",
       "    <tr>\n",
       "      <th>36951</th>\n",
       "      <td>442.00</td>\n",
       "    </tr>\n",
       "    <tr>\n",
       "      <th>36952</th>\n",
       "      <td>466.00</td>\n",
       "    </tr>\n",
       "    <tr>\n",
       "      <th>36953</th>\n",
       "      <td>503.00</td>\n",
       "    </tr>\n",
       "    <tr>\n",
       "      <th>36954</th>\n",
       "      <td>661.00</td>\n",
       "    </tr>\n",
       "    <tr>\n",
       "      <th>36955</th>\n",
       "      <td>546.00</td>\n",
       "    </tr>\n",
       "  </tbody>\n",
       "</table>\n",
       "<p>36956 rows × 1 columns</p>\n",
       "</div>"
      ],
      "text/plain": [
       "       co2emissions\n",
       "0            555.44\n",
       "1            555.44\n",
       "2            484.76\n",
       "3            424.17\n",
       "4            555.44\n",
       "...             ...\n",
       "36951        442.00\n",
       "36952        466.00\n",
       "36953        503.00\n",
       "36954        661.00\n",
       "36955        546.00\n",
       "\n",
       "[36956 rows x 1 columns]"
      ]
     },
     "execution_count": 72,
     "metadata": {},
     "output_type": "execute_result"
    }
   ],
   "source": [
    "response = 'co2emissions' # in the variable \"response\" put the name of the dependent variable\n",
    "y = df[[response]] # create a single column data frame called y which willl contain the dependent variable\n",
    "y"
   ]
  },
  {
   "cell_type": "markdown",
   "metadata": {},
   "source": [
    "#### Step 2\n",
    "2. Next create another data frame <span style=\"color:red\">X for the independent variables</span> (there can be one or more independent variable).  "
   ]
  },
  {
   "cell_type": "code",
   "execution_count": 73,
   "metadata": {},
   "outputs": [
    {
     "data": {
      "text/html": [
       "<div>\n",
       "<style scoped>\n",
       "    .dataframe tbody tr th:only-of-type {\n",
       "        vertical-align: middle;\n",
       "    }\n",
       "\n",
       "    .dataframe tbody tr th {\n",
       "        vertical-align: top;\n",
       "    }\n",
       "\n",
       "    .dataframe thead th {\n",
       "        text-align: right;\n",
       "    }\n",
       "</style>\n",
       "<table border=\"1\" class=\"dataframe\">\n",
       "  <thead>\n",
       "    <tr style=\"text-align: right;\">\n",
       "      <th></th>\n",
       "      <th>citympg</th>\n",
       "      <th>displacement</th>\n",
       "      <th>highwaympg</th>\n",
       "    </tr>\n",
       "  </thead>\n",
       "  <tbody>\n",
       "    <tr>\n",
       "      <th>0</th>\n",
       "      <td>14</td>\n",
       "      <td>4.1</td>\n",
       "      <td>19</td>\n",
       "    </tr>\n",
       "    <tr>\n",
       "      <th>1</th>\n",
       "      <td>14</td>\n",
       "      <td>5.0</td>\n",
       "      <td>20</td>\n",
       "    </tr>\n",
       "    <tr>\n",
       "      <th>2</th>\n",
       "      <td>18</td>\n",
       "      <td>5.7</td>\n",
       "      <td>26</td>\n",
       "    </tr>\n",
       "    <tr>\n",
       "      <th>3</th>\n",
       "      <td>21</td>\n",
       "      <td>4.3</td>\n",
       "      <td>31</td>\n",
       "    </tr>\n",
       "    <tr>\n",
       "      <th>4</th>\n",
       "      <td>14</td>\n",
       "      <td>4.1</td>\n",
       "      <td>19</td>\n",
       "    </tr>\n",
       "    <tr>\n",
       "      <th>...</th>\n",
       "      <td>...</td>\n",
       "      <td>...</td>\n",
       "      <td>...</td>\n",
       "    </tr>\n",
       "    <tr>\n",
       "      <th>36951</th>\n",
       "      <td>17</td>\n",
       "      <td>4.7</td>\n",
       "      <td>25</td>\n",
       "    </tr>\n",
       "    <tr>\n",
       "      <th>36952</th>\n",
       "      <td>16</td>\n",
       "      <td>6.2</td>\n",
       "      <td>25</td>\n",
       "    </tr>\n",
       "    <tr>\n",
       "      <th>36953</th>\n",
       "      <td>15</td>\n",
       "      <td>6.2</td>\n",
       "      <td>22</td>\n",
       "    </tr>\n",
       "    <tr>\n",
       "      <th>36954</th>\n",
       "      <td>12</td>\n",
       "      <td>6.5</td>\n",
       "      <td>16</td>\n",
       "    </tr>\n",
       "    <tr>\n",
       "      <th>36955</th>\n",
       "      <td>13</td>\n",
       "      <td>6.0</td>\n",
       "      <td>22</td>\n",
       "    </tr>\n",
       "  </tbody>\n",
       "</table>\n",
       "<p>36956 rows × 3 columns</p>\n",
       "</div>"
      ],
      "text/plain": [
       "       citympg  displacement  highwaympg\n",
       "0           14           4.1          19\n",
       "1           14           5.0          20\n",
       "2           18           5.7          26\n",
       "3           21           4.3          31\n",
       "4           14           4.1          19\n",
       "...        ...           ...         ...\n",
       "36951       17           4.7          25\n",
       "36952       16           6.2          25\n",
       "36953       15           6.2          22\n",
       "36954       12           6.5          16\n",
       "36955       13           6.0          22\n",
       "\n",
       "[36956 rows x 3 columns]"
      ]
     },
     "execution_count": 73,
     "metadata": {},
     "output_type": "execute_result"
    }
   ],
   "source": [
    "predictors = list(df.columns) # lists the columns in the data frame stored in a variable called \"predictors\"\n",
    "predictors.remove(response) # from predictors remove the response field\n",
    "x = df[predictors] # put all the independent variables into a data frame called x\n",
    "x"
   ]
  },
  {
   "cell_type": "markdown",
   "metadata": {},
   "source": [
    "#### Step 3\n",
    "3. Import the train/test split function from SK Learn model selection sub package.  "
   ]
  },
  {
   "cell_type": "code",
   "execution_count": 74,
   "metadata": {},
   "outputs": [],
   "source": [
    "from sklearn.model_selection import train_test_split"
   ]
  },
  {
   "cell_type": "markdown",
   "metadata": {},
   "source": [
    "#### Step 4\n",
    "4. Split the X and Y data frames into X_Train, X_Test and Y_Train, Y_Test.  "
   ]
  },
  {
   "cell_type": "code",
   "execution_count": 75,
   "metadata": {},
   "outputs": [],
   "source": [
    "x_train, x_test, y_train, y_test = train_test_split(x, y, random_state = 1234) "
   ]
  },
  {
   "cell_type": "code",
   "execution_count": 76,
   "metadata": {},
   "outputs": [
    {
     "data": {
      "text/html": [
       "<div>\n",
       "<style scoped>\n",
       "    .dataframe tbody tr th:only-of-type {\n",
       "        vertical-align: middle;\n",
       "    }\n",
       "\n",
       "    .dataframe tbody tr th {\n",
       "        vertical-align: top;\n",
       "    }\n",
       "\n",
       "    .dataframe thead th {\n",
       "        text-align: right;\n",
       "    }\n",
       "</style>\n",
       "<table border=\"1\" class=\"dataframe\">\n",
       "  <thead>\n",
       "    <tr style=\"text-align: right;\">\n",
       "      <th></th>\n",
       "      <th>citympg</th>\n",
       "      <th>displacement</th>\n",
       "      <th>highwaympg</th>\n",
       "    </tr>\n",
       "  </thead>\n",
       "  <tbody>\n",
       "    <tr>\n",
       "      <th>23040</th>\n",
       "      <td>17</td>\n",
       "      <td>2.5</td>\n",
       "      <td>23</td>\n",
       "    </tr>\n",
       "    <tr>\n",
       "      <th>35811</th>\n",
       "      <td>15</td>\n",
       "      <td>3.5</td>\n",
       "      <td>21</td>\n",
       "    </tr>\n",
       "    <tr>\n",
       "      <th>24533</th>\n",
       "      <td>14</td>\n",
       "      <td>5.3</td>\n",
       "      <td>19</td>\n",
       "    </tr>\n",
       "    <tr>\n",
       "      <th>1175</th>\n",
       "      <td>18</td>\n",
       "      <td>2.6</td>\n",
       "      <td>21</td>\n",
       "    </tr>\n",
       "    <tr>\n",
       "      <th>17371</th>\n",
       "      <td>22</td>\n",
       "      <td>1.6</td>\n",
       "      <td>26</td>\n",
       "    </tr>\n",
       "    <tr>\n",
       "      <th>...</th>\n",
       "      <td>...</td>\n",
       "      <td>...</td>\n",
       "      <td>...</td>\n",
       "    </tr>\n",
       "    <tr>\n",
       "      <th>32399</th>\n",
       "      <td>23</td>\n",
       "      <td>2.0</td>\n",
       "      <td>31</td>\n",
       "    </tr>\n",
       "    <tr>\n",
       "      <th>17048</th>\n",
       "      <td>16</td>\n",
       "      <td>2.8</td>\n",
       "      <td>23</td>\n",
       "    </tr>\n",
       "    <tr>\n",
       "      <th>23924</th>\n",
       "      <td>15</td>\n",
       "      <td>3.9</td>\n",
       "      <td>22</td>\n",
       "    </tr>\n",
       "    <tr>\n",
       "      <th>34086</th>\n",
       "      <td>17</td>\n",
       "      <td>3.5</td>\n",
       "      <td>24</td>\n",
       "    </tr>\n",
       "    <tr>\n",
       "      <th>27439</th>\n",
       "      <td>12</td>\n",
       "      <td>4.6</td>\n",
       "      <td>16</td>\n",
       "    </tr>\n",
       "  </tbody>\n",
       "</table>\n",
       "<p>27717 rows × 3 columns</p>\n",
       "</div>"
      ],
      "text/plain": [
       "       citympg  displacement  highwaympg\n",
       "23040       17           2.5          23\n",
       "35811       15           3.5          21\n",
       "24533       14           5.3          19\n",
       "1175        18           2.6          21\n",
       "17371       22           1.6          26\n",
       "...        ...           ...         ...\n",
       "32399       23           2.0          31\n",
       "17048       16           2.8          23\n",
       "23924       15           3.9          22\n",
       "34086       17           3.5          24\n",
       "27439       12           4.6          16\n",
       "\n",
       "[27717 rows x 3 columns]"
      ]
     },
     "execution_count": 76,
     "metadata": {},
     "output_type": "execute_result"
    }
   ],
   "source": [
    "x_train"
   ]
  },
  {
   "cell_type": "markdown",
   "metadata": {},
   "source": [
    "## 4. Train the Model\n",
    "To build a Linear Regression Model in Python we need to import the linear regression class from the SK learn linear model sub package.\n"
   ]
  },
  {
   "cell_type": "code",
   "execution_count": 77,
   "metadata": {},
   "outputs": [],
   "source": [
    "from sklearn.linear_model import LinearRegression\n"
   ]
  },
  {
   "cell_type": "markdown",
   "metadata": {},
   "source": [
    "We can then use the linear regression function to build the model\n",
    "\n",
    "<span style=\"color:green\">*model = LinearRegression()*  </span>   \n",
    "within the function call the fit method and pass to the fit method the x_train and y_train  \n",
    "<span style=\"color:green\">*model = LinearRegression().fit(x_train, y_train)*</span>\n",
    "\n"
   ]
  },
  {
   "cell_type": "code",
   "execution_count": 78,
   "metadata": {},
   "outputs": [],
   "source": [
    "model = LinearRegression().fit(x_train, y_train) # note that the model(solution) is stored in the variable \"model\""
   ]
  },
  {
   "cell_type": "markdown",
   "metadata": {},
   "source": [
    "The objective of liner regression is to estimate:  \n",
    "* Intercept (of the regression line)  \n",
    "* Slope value (of the regression line)  \n",
    "that best fits the data.\n",
    "\n",
    "  \n",
    "### Intercept (of the regression line)\n",
    "The estimated intercept value for the model by referring to the intercept attributes of the model.  \n",
    "\n",
    "\n",
    "<span style=\"color:green\">*model.intercept_*</span>\n"
   ]
  },
  {
   "cell_type": "code",
   "execution_count": 79,
   "metadata": {},
   "outputs": [
    {
     "data": {
      "text/plain": [
       "array([759.11443342])"
      ]
     },
     "execution_count": 79,
     "metadata": {},
     "output_type": "execute_result"
    }
   ],
   "source": [
    "model.intercept_"
   ]
  },
  {
   "cell_type": "markdown",
   "metadata": {},
   "source": [
    "The intercept value for this regression line is 759.11443342  \n",
    "\n",
    "### Slope value (of the regression line) \n",
    "Next get the estimated slope values (coefficients) or the regression line by requesting the coef attributes of the model \n",
    "\n",
    "<span style=\"color:green\">*model.coef_*</span>\n",
    "\n",
    "\n"
   ]
  },
  {
   "cell_type": "code",
   "execution_count": 80,
   "metadata": {},
   "outputs": [
    {
     "data": {
      "text/plain": [
       "array([[ -2.86341576,  23.00624715, -13.00082732]])"
      ]
     },
     "execution_count": 80,
     "metadata": {},
     "output_type": "execute_result"
    }
   ],
   "source": [
    "model.coef_"
   ]
  },
  {
   "cell_type": "markdown",
   "metadata": {},
   "source": [
    "To make the coefficients easier to work with, convert the coefficients from a two-dimenionsal array to a one-dimensional array and round the values to two decimal places."
   ]
  },
  {
   "cell_type": "code",
   "execution_count": 81,
   "metadata": {},
   "outputs": [
    {
     "data": {
      "text/plain": [
       "array([ -2.86,  23.01, -13.  ])"
      ]
     },
     "execution_count": 81,
     "metadata": {},
     "output_type": "execute_result"
    }
   ],
   "source": [
    "coefficients = np.round(model.coef_[0],2) \n",
    "coefficients"
   ]
  },
  {
   "cell_type": "code",
   "execution_count": 82,
   "metadata": {},
   "outputs": [
    {
     "data": {
      "text/html": [
       "<div>\n",
       "<style scoped>\n",
       "    .dataframe tbody tr th:only-of-type {\n",
       "        vertical-align: middle;\n",
       "    }\n",
       "\n",
       "    .dataframe tbody tr th {\n",
       "        vertical-align: top;\n",
       "    }\n",
       "\n",
       "    .dataframe thead th {\n",
       "        text-align: right;\n",
       "    }\n",
       "</style>\n",
       "<table border=\"1\" class=\"dataframe\">\n",
       "  <thead>\n",
       "    <tr style=\"text-align: right;\">\n",
       "      <th></th>\n",
       "      <th>Coefficients</th>\n",
       "    </tr>\n",
       "  </thead>\n",
       "  <tbody>\n",
       "    <tr>\n",
       "      <th>citympg</th>\n",
       "      <td>-2.86</td>\n",
       "    </tr>\n",
       "    <tr>\n",
       "      <th>displacement</th>\n",
       "      <td>23.01</td>\n",
       "    </tr>\n",
       "    <tr>\n",
       "      <th>highwaympg</th>\n",
       "      <td>-13.00</td>\n",
       "    </tr>\n",
       "  </tbody>\n",
       "</table>\n",
       "</div>"
      ],
      "text/plain": [
       "              Coefficients\n",
       "citympg              -2.86\n",
       "displacement         23.01\n",
       "highwaympg          -13.00"
      ]
     },
     "execution_count": 82,
     "metadata": {},
     "output_type": "execute_result"
    }
   ],
   "source": [
    "coef = pd.DataFrame({'Coefficients':coefficients}, index = x.columns)\n",
    "coef"
   ]
  },
  {
   "cell_type": "markdown",
   "metadata": {},
   "source": [
    "<span style=\"color:red\">**Note:** the model coeficients correspond to  the order in which the independent variables are listed in the training data</span>  \n",
    "The model coefficient for:\n",
    "* citympg = -2.86\n",
    "* displacement = 23.01\n",
    "* highwaympg = -13.00\n"
   ]
  },
  {
   "cell_type": "markdown",
   "metadata": {},
   "source": [
    "The model coefficients correspond to the order in which the independent variables are listed in the training data. This means that the equation for the fitted regression line can be written as:\n",
    "\n",
    "y = $\\beta$0 + $\\beta$1x +$\\beta$2x +$\\beta$3x\n",
    "\n",
    "y = $\\beta$0 + ($\\beta$1 * citympg) + ($\\beta$2 * displacement)  + ($\\beta$3 * highwaympg)\n",
    "\n",
    "With the linear regression equation, we can estimate what our model will predict co2 emissions given City MPG, engine dispalcement in cubic inches and highway MPG."
   ]
  },
  {
   "cell_type": "markdown",
   "metadata": {},
   "source": [
    "### Example One (midrange)\n",
    "given a city MPG of $14$, engine displacement of $4.1$ cubic inches and highway MPG $19$, the model would predict:\n",
    "\n",
    "$\\text{ co2 emissions} \\approx$ 759 + (-2.86 \\times 14) + ( 23.01 \\times 4.1) + (-13.00 \\times 19)\n",
    "\n",
    "$\\text{ co2 emissions} \\approx$ 759 - 40.04 + 94.34 - 247\n",
    "\n",
    "$\\text{ co2 emissions} \\approx$ <span style=\"color:green\">**566.30** (actual is 555.43 over reporting by 2%)</span> "
   ]
  },
  {
   "cell_type": "markdown",
   "metadata": {},
   "source": [
    "### Example Two (high mpg, small displacement - extreme low co2 emissions)\n",
    "Vehicle with a city MPG of  36, engine displacement of 0.6 cubic inches and highway MPG 33, the model would predict:\n",
    "\n",
    " co2 emissions ≈ 759 + (-2.86 \\times 36) + ( 23.01 \\times 0.6) + (-13.00 \\times 33)\n",
    "\n",
    " co2 emissions ≈ 759 - 102.96 + 13.81 - 429\n",
    "\n",
    " co2 emissions ≈ <span style=\"color:red\">**240.85** (actual is 29 grossly over reporting by a significant percentage)</span> "
   ]
  },
  {
   "cell_type": "markdown",
   "metadata": {},
   "source": [
    "### Example Three (low mpg, large displacement - extreme high co2 emmissions)\n",
    "Vehicle with a city MPG of 6, engine displacement of 5.2 cubic inches and highway MPG 10, the model would predict:\n",
    "\n",
    "co2 emissions ≈ 759 + (-2.86 \\times 6) + ( 23.01 \\times 5.2) + (-13.00 \\times 10)\n",
    "\n",
    "co2 emissions ≈ 759 - 17.16 + 119.65 - 130\n",
    "\n",
    "co2 emissions≈ <span style=\"color:red\">**731.49**  (actual is 1269.57 under reporting by a significant percentage)</span> "
   ]
  },
  {
   "cell_type": "markdown",
   "metadata": {},
   "source": [
    "### Observation:\n",
    "The scatterplots for Citympg vs co2 emissions and highwaympg vs co2 emissions both demonstrate that there is NOT a liner relationship between fuel consumption measured in miles per galllon and co2 emissions.\n",
    "\n",
    "The examples at the two extremes demonstrate the problem with the model."
   ]
  },
  {
   "cell_type": "markdown",
   "metadata": {},
   "source": [
    "## 5. Evaluate the Model\n",
    "### Using the  R squared method to evaluate performance\n",
    "The next step in the process is to evaluate the performance of the model.  \n",
    "One way to evaluate the performance o a linear regression model is by calculating the <span style=\"color:blue\"> coefficient of determination </span> or <span style=\"color:blue\"> R squared</span>.  \n",
    "  \n",
    "The closer this metric is to 1 the better the model is.\n",
    "  \n",
    "To get the R squared or the model use the .score() method and pass to it x_test and y_test \n",
    "  \n",
    "<span style=\"color:green\">*model.score(x_test,y_test)*</span>  \n",
    "  "
   ]
  },
  {
   "cell_type": "code",
   "execution_count": 83,
   "metadata": {
    "scrolled": true
   },
   "outputs": [
    {
     "data": {
      "text/plain": [
       "0.9028020413862885"
      ]
     },
     "execution_count": 83,
     "metadata": {},
     "output_type": "execute_result"
    }
   ],
   "source": [
    "model.score(x_test,y_test)"
   ]
  },
  {
   "cell_type": "markdown",
   "metadata": {},
   "source": [
    "The R squared value reflects the degree of precision of the prediction.  \n",
    "  \n",
    "In this example the model can predict co2 emissions given engine displacemnt, city MPG and Highway MPG with an accuracy of 90.2% of the variability in the response (dependent) variable.   \n",
    "  \n",
    "The 3 examples show that this is NOT a reasonable model becuase at the extreme the reporting is incorrect. \n",
    "The model is incorrect becuase the relationship between cityMPG (highway MPG) and displacement is NOT linear"
   ]
  },
  {
   "cell_type": "markdown",
   "metadata": {},
   "source": [
    "### Using the Mean Absolute Error test to evaluate model performance \n",
    "Another method of performance evaluation for linear regression is to evaluate how accurate the model is. This means comparing the predicted values against the actual values (using the test data set).\n",
    "\n",
    "#### Step 1: \n",
    "Get the models predicted response values for the test data. We get the model predictions by calling the predict method of the model and pass it the method x_test\n",
    "\n",
    "<span style=\"color:green\">*y_predictions = model.predict(x_test)*</span>"
   ]
  },
  {
   "cell_type": "code",
   "execution_count": 84,
   "metadata": {},
   "outputs": [
    {
     "data": {
      "text/plain": [
       "array([[571.63253934],\n",
       "       [634.87498873],\n",
       "       [612.80365428],\n",
       "       ...,\n",
       "       [612.10887152],\n",
       "       [622.80907412],\n",
       "       [494.80261808]])"
      ]
     },
     "execution_count": 84,
     "metadata": {},
     "output_type": "execute_result"
    }
   ],
   "source": [
    "y_predictions = model.predict(x_test)\n",
    "y_predictions"
   ]
  },
  {
   "cell_type": "markdown",
   "metadata": {},
   "source": [
    "\n",
    "#### Step 2:\n",
    "Import the *Mean Absolute Error* function from the SK learn.metrics subpackage and calculate the mean absolute error between the actual response values (from test data) and the predicted response values.\n",
    "\n",
    "<span style=\"color:green\">*mean_absolute_error(y_test, y_ predictions)*</span>\n",
    "\n"
   ]
  },
  {
   "cell_type": "code",
   "execution_count": 85,
   "metadata": {
    "scrolled": true
   },
   "outputs": [
    {
     "data": {
      "text/plain": [
       "23.692365697529198"
      ]
     },
     "execution_count": 85,
     "metadata": {},
     "output_type": "execute_result"
    }
   ],
   "source": [
    "from sklearn.metrics import mean_absolute_error\n",
    "mean_absolute_error(y_test, y_predictions)"
   ]
  },
  {
   "cell_type": "markdown",
   "metadata": {},
   "source": [
    "## Conclusion\n",
    "The mean absolute error implies that the predictions for this model to have an average variance of between +-23.7 in co2 emissions and a model test score of 90%. \n",
    "  \n",
    "<span style=\"color:red\">**HOWEVER** despite the good indicators this model is **fundamentally flawed**.</span>\n",
    "\n",
    "At the extremes this linear model does not work because that there is <span style=\"color:red\">**NOT** a liner relationship between fuel consumption measured in miles per gallon and Co2 emissions.</span> The model must be built using a different technique or be adjusted to account for the curvature in the relationship between fuel consumption and Co2 emissions.\n"
   ]
  }
 ],
 "metadata": {
  "colab": {
   "collapsed_sections": [],
   "name": "3.3 - Pandas Data Selection.ipynb",
   "provenance": [],
   "toc_visible": true,
   "version": "0.3.2"
  },
  "kernelspec": {
   "display_name": "Python 3",
   "language": "python",
   "name": "python3"
  },
  "language_info": {
   "codemirror_mode": {
    "name": "ipython",
    "version": 3
   },
   "file_extension": ".py",
   "mimetype": "text/x-python",
   "name": "python",
   "nbconvert_exporter": "python",
   "pygments_lexer": "ipython3",
   "version": "3.9.13"
  }
 },
 "nbformat": 4,
 "nbformat_minor": 4
}
