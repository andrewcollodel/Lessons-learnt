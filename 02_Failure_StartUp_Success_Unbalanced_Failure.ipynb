{
 "cells": [
  {
   "cell_type": "markdown",
   "id": "509e40c1-639f-49cb-a818-74c6994f3a41",
   "metadata": {},
   "source": [
    "# Classifying Data with Logistic Regression in Python\n",
    "\n",
    "## Project Objective\n",
    "The purpose of this project is to predict if a new startup business will succeed. The predictors are xxxx and xxx, and the response is Succeed or Fail.\n",
    "\n",
    "### Data Source\n",
    "Business Start up dataset source information\n",
    "\n",
    "URL: https://www.kaggle.com/datasets/ankurzing/success-of-startup\n",
    "\n",
    "The dataset contains xxxx records and xxxxx fields"
   ]
  },
  {
   "cell_type": "markdown",
   "id": "480422ed-7f87-46ac-afa1-1d0e43637b38",
   "metadata": {},
   "source": [
    "## Importing the Python Packages\n",
    "\n",
    "import the required Python packages."
   ]
  },
  {
   "cell_type": "code",
   "execution_count": 1,
   "id": "30b3b7b9-8bf8-493f-b3d1-04622ed455f7",
   "metadata": {},
   "outputs": [],
   "source": [
    "import pandas as pd # used to \"tidy\" up and manipulate our data\n",
    "import numpy as np # used for matrix and numerical calculations; foundation of pandas\n",
    "from scipy import stats # contains stats functions and is used to visualise probability distributions\n",
    "from functools import reduce\n",
    "from scipy.stats import norm \n",
    "from scipy.stats import sem # Standard error of mean\n",
    "from scipy.stats import pearsonr # import pearsonr function to calculate  Pearson correlation coefficient\n",
    "import matplotlib.pyplot as plt # used for visualisations\n",
    "%matplotlib inline\n",
    "from matplotlib.axes._axes import _log as matplotlib_axes_logger\n",
    "matplotlib_axes_logger.setLevel('ERROR') # error handling\n",
    "import seaborn as sns # a more user-friendly library used for visualisations\n",
    "sns.set_theme(rc={'figure.figsize':(10,6)})\n",
    "import statistics\n",
    "import plotly.express as px\n",
    "from plotly.subplots import make_subplots\n",
    "from sklearn import preprocessing\n",
    "from sklearn.preprocessing import StandardScaler\n",
    "scaler = StandardScaler()\n",
    "# import model and matrics\n",
    "from sklearn.linear_model import LogisticRegression\n",
    "from sklearn.model_selection import train_test_split, GridSearchCV, cross_val_score, RepeatedStratifiedKFold, StratifiedKFold\n",
    "from sklearn.metrics import accuracy_score, confusion_matrix,roc_curve, roc_auc_score, precision_score, recall_score, precision_recall_curve\n",
    "from sklearn.metrics import f1_score"
   ]
  },
  {
   "cell_type": "markdown",
   "id": "85a7f7de-3c3a-4e52-8ca0-513bf040e44e",
   "metadata": {},
   "source": [
    "## 1. Collect the Data\n",
    "Import the data into a dataframe called `df`."
   ]
  },
  {
   "cell_type": "code",
   "execution_count": 2,
   "id": "1a8c1667-10d1-4b2e-8914-ac604f30ee7f",
   "metadata": {},
   "outputs": [],
   "source": [
    "df = pd.read_csv(\"C:/Users/ke337467/OneDrive - Oxfordshire County Council/Data Scientist Apprenticeship/Module Portfolio - Data Science Professional Practice/Business Start up logistic regression/big_startup_secsees_dataset.csv\")"
   ]
  },
  {
   "cell_type": "markdown",
   "id": "a0ad1e1c-3f24-43b0-ade2-c81664a39743",
   "metadata": {},
   "source": [
    "Drop any fields that are not required or this analysis.\n",
    "The following fields were dropped.  \n",
    "'state_code','permalink','homepage_url','category_list','country_code','region','city','name'  \n",
    "\n",
    "To verify that the import worked as expected, preview the data using the `head()` method."
   ]
  },
  {
   "cell_type": "code",
   "execution_count": 3,
   "id": "3871bf7f-0aca-4773-bff6-c426c6dd75e8",
   "metadata": {},
   "outputs": [
    {
     "data": {
      "text/html": [
       "<div>\n",
       "<style scoped>\n",
       "    .dataframe tbody tr th:only-of-type {\n",
       "        vertical-align: middle;\n",
       "    }\n",
       "\n",
       "    .dataframe tbody tr th {\n",
       "        vertical-align: top;\n",
       "    }\n",
       "\n",
       "    .dataframe thead th {\n",
       "        text-align: right;\n",
       "    }\n",
       "</style>\n",
       "<table border=\"1\" class=\"dataframe\">\n",
       "  <thead>\n",
       "    <tr style=\"text-align: right;\">\n",
       "      <th></th>\n",
       "      <th>permalink</th>\n",
       "      <th>name</th>\n",
       "      <th>homepage_url</th>\n",
       "      <th>category_list</th>\n",
       "      <th>funding_total_usd</th>\n",
       "      <th>status</th>\n",
       "      <th>country_code</th>\n",
       "      <th>state_code</th>\n",
       "      <th>region</th>\n",
       "      <th>city</th>\n",
       "      <th>funding_rounds</th>\n",
       "      <th>founded_at</th>\n",
       "      <th>first_funding_at</th>\n",
       "      <th>last_funding_at</th>\n",
       "    </tr>\n",
       "  </thead>\n",
       "  <tbody>\n",
       "    <tr>\n",
       "      <th>0</th>\n",
       "      <td>/organization/-fame</td>\n",
       "      <td>#fame</td>\n",
       "      <td>http://livfame.com</td>\n",
       "      <td>Media</td>\n",
       "      <td>10000000</td>\n",
       "      <td>operating</td>\n",
       "      <td>IND</td>\n",
       "      <td>16</td>\n",
       "      <td>Mumbai</td>\n",
       "      <td>Mumbai</td>\n",
       "      <td>1</td>\n",
       "      <td>NaN</td>\n",
       "      <td>2015-01-05</td>\n",
       "      <td>2015-01-05</td>\n",
       "    </tr>\n",
       "    <tr>\n",
       "      <th>1</th>\n",
       "      <td>/organization/-qounter</td>\n",
       "      <td>:Qounter</td>\n",
       "      <td>http://www.qounter.com</td>\n",
       "      <td>Application Platforms|Real Time|Social Network...</td>\n",
       "      <td>700000</td>\n",
       "      <td>operating</td>\n",
       "      <td>USA</td>\n",
       "      <td>DE</td>\n",
       "      <td>DE - Other</td>\n",
       "      <td>Delaware City</td>\n",
       "      <td>2</td>\n",
       "      <td>2014-09-04</td>\n",
       "      <td>2014-03-01</td>\n",
       "      <td>2014-10-14</td>\n",
       "    </tr>\n",
       "    <tr>\n",
       "      <th>2</th>\n",
       "      <td>/organization/-the-one-of-them-inc-</td>\n",
       "      <td>(THE) ONE of THEM,Inc.</td>\n",
       "      <td>http://oneofthem.jp</td>\n",
       "      <td>Apps|Games|Mobile</td>\n",
       "      <td>3406878</td>\n",
       "      <td>operating</td>\n",
       "      <td>NaN</td>\n",
       "      <td>NaN</td>\n",
       "      <td>NaN</td>\n",
       "      <td>NaN</td>\n",
       "      <td>1</td>\n",
       "      <td>NaN</td>\n",
       "      <td>2014-01-30</td>\n",
       "      <td>2014-01-30</td>\n",
       "    </tr>\n",
       "    <tr>\n",
       "      <th>3</th>\n",
       "      <td>/organization/0-6-com</td>\n",
       "      <td>0-6.com</td>\n",
       "      <td>http://www.0-6.com</td>\n",
       "      <td>Curated Web</td>\n",
       "      <td>2000000</td>\n",
       "      <td>operating</td>\n",
       "      <td>CHN</td>\n",
       "      <td>22</td>\n",
       "      <td>Beijing</td>\n",
       "      <td>Beijing</td>\n",
       "      <td>1</td>\n",
       "      <td>2007-01-01</td>\n",
       "      <td>2008-03-19</td>\n",
       "      <td>2008-03-19</td>\n",
       "    </tr>\n",
       "    <tr>\n",
       "      <th>4</th>\n",
       "      <td>/organization/004-technologies</td>\n",
       "      <td>004 Technologies</td>\n",
       "      <td>http://004gmbh.de/en/004-interact</td>\n",
       "      <td>Software</td>\n",
       "      <td>-</td>\n",
       "      <td>operating</td>\n",
       "      <td>USA</td>\n",
       "      <td>IL</td>\n",
       "      <td>Springfield, Illinois</td>\n",
       "      <td>Champaign</td>\n",
       "      <td>1</td>\n",
       "      <td>2010-01-01</td>\n",
       "      <td>2014-07-24</td>\n",
       "      <td>2014-07-24</td>\n",
       "    </tr>\n",
       "  </tbody>\n",
       "</table>\n",
       "</div>"
      ],
      "text/plain": [
       "                             permalink                    name  \\\n",
       "0                  /organization/-fame                   #fame   \n",
       "1               /organization/-qounter                :Qounter   \n",
       "2  /organization/-the-one-of-them-inc-  (THE) ONE of THEM,Inc.   \n",
       "3                /organization/0-6-com                 0-6.com   \n",
       "4       /organization/004-technologies        004 Technologies   \n",
       "\n",
       "                        homepage_url  \\\n",
       "0                 http://livfame.com   \n",
       "1             http://www.qounter.com   \n",
       "2                http://oneofthem.jp   \n",
       "3                 http://www.0-6.com   \n",
       "4  http://004gmbh.de/en/004-interact   \n",
       "\n",
       "                                       category_list funding_total_usd  \\\n",
       "0                                              Media          10000000   \n",
       "1  Application Platforms|Real Time|Social Network...            700000   \n",
       "2                                  Apps|Games|Mobile           3406878   \n",
       "3                                        Curated Web           2000000   \n",
       "4                                           Software                 -   \n",
       "\n",
       "      status country_code state_code                 region           city  \\\n",
       "0  operating          IND         16                 Mumbai         Mumbai   \n",
       "1  operating          USA         DE             DE - Other  Delaware City   \n",
       "2  operating          NaN        NaN                    NaN            NaN   \n",
       "3  operating          CHN         22                Beijing        Beijing   \n",
       "4  operating          USA         IL  Springfield, Illinois      Champaign   \n",
       "\n",
       "   funding_rounds  founded_at first_funding_at last_funding_at  \n",
       "0               1         NaN       2015-01-05      2015-01-05  \n",
       "1               2  2014-09-04       2014-03-01      2014-10-14  \n",
       "2               1         NaN       2014-01-30      2014-01-30  \n",
       "3               1  2007-01-01       2008-03-19      2008-03-19  \n",
       "4               1  2010-01-01       2014-07-24      2014-07-24  "
      ]
     },
     "execution_count": 3,
     "metadata": {},
     "output_type": "execute_result"
    }
   ],
   "source": [
    "df.head()"
   ]
  },
  {
   "cell_type": "markdown",
   "id": "6a8af9fd-af44-4604-8f76-011837f3cdc7",
   "metadata": {},
   "source": [
    "## 2. Tidy up the data set"
   ]
  },
  {
   "cell_type": "markdown",
   "id": "4109d5f2-1b0b-4739-9bba-f1c3beb43dd8",
   "metadata": {},
   "source": [
    "#### 2.1. Remove any fields that are not required"
   ]
  },
  {
   "cell_type": "code",
   "execution_count": 4,
   "id": "c8d52878-01b0-41f8-8034-a0ecdc1eb941",
   "metadata": {},
   "outputs": [],
   "source": [
    "df.drop(['state_code','permalink','homepage_url','country_code','region','city','name','category_list'], axis = 1, inplace = True)"
   ]
  },
  {
   "cell_type": "markdown",
   "id": "8bad4e23-c0fd-4c37-a16c-fe6aa805bd88",
   "metadata": {},
   "source": [
    "#### 2.2.Data frame does not have ad ID field\n",
    "Add an `ID` field to the dataframe"
   ]
  },
  {
   "cell_type": "code",
   "execution_count": 5,
   "id": "0d95c9ff-57f6-45ed-9e37-9e03fc5cd7ab",
   "metadata": {},
   "outputs": [],
   "source": [
    "df = df.assign(ID=range(1, len(df) + 1))"
   ]
  },
  {
   "cell_type": "markdown",
   "id": "a183d1a0-5e2d-44dc-b9b2-e51cbbc5d64c",
   "metadata": {},
   "source": [
    "#### 2.3.Verify the condition of the data frame\n",
    "Verify the condition of the data by checking:\n",
    ">* Missing values.  \n",
    ">* Data types.  "
   ]
  },
  {
   "cell_type": "code",
   "execution_count": 6,
   "id": "5206e6e3-fe82-47ef-93c1-dcdb57bf48f5",
   "metadata": {},
   "outputs": [
    {
     "name": "stdout",
     "output_type": "stream",
     "text": [
      "<class 'pandas.core.frame.DataFrame'>\n",
      "RangeIndex: 66368 entries, 0 to 66367\n",
      "Data columns (total 7 columns):\n",
      " #   Column             Non-Null Count  Dtype \n",
      "---  ------             --------------  ----- \n",
      " 0   funding_total_usd  66368 non-null  object\n",
      " 1   status             66368 non-null  object\n",
      " 2   funding_rounds     66368 non-null  int64 \n",
      " 3   founded_at         51147 non-null  object\n",
      " 4   first_funding_at   66344 non-null  object\n",
      " 5   last_funding_at    66368 non-null  object\n",
      " 6   ID                 66368 non-null  int64 \n",
      "dtypes: int64(2), object(5)\n",
      "memory usage: 3.5+ MB\n"
     ]
    }
   ],
   "source": [
    "df.info()"
   ]
  },
  {
   "cell_type": "markdown",
   "id": "c7d4d9cb-b340-40dd-881b-12551b901493",
   "metadata": {},
   "source": [
    "#### 2.4. Observations\n",
    ">* There are missing values in the data frame  \n",
    ">* Date types are incorrect and inconsistent  \n",
    ">* Field names could be revised  "
   ]
  },
  {
   "cell_type": "code",
   "execution_count": 7,
   "id": "0390cf4b-4342-4015-9681-7591a5592011",
   "metadata": {},
   "outputs": [],
   "source": [
    "df.rename(columns = {'founded_at':'Date_founded', 'first_funding_at':'Date_first_funded', 'last_funding_at':'Date_last_funded', 'funding_total_usd':'Total_Funding'}, inplace = True)"
   ]
  },
  {
   "cell_type": "markdown",
   "id": "3ffd6bcd-d1a5-4b26-850f-4cc9b8cc1ee9",
   "metadata": {},
   "source": [
    "<hr>\n",
    "<div class=\"alert alert-block alert-info\">\n",
    "<b>Discussion:</b> Filling in the missing dates from imputing missing values in **Section 2.9** .</div>\n",
    "<hr>"
   ]
  },
  {
   "cell_type": "markdown",
   "id": "3e958bd3-1432-4f32-a6df-180d5c4e4e3a",
   "metadata": {},
   "source": [
    "#### 2.5. Filling in the missing dates\n",
    "The date the business was founded contains `15,221` missing values. This information can be imputed from the date first funded. \n",
    "  \n",
    "If the company received funding it would be reasonable to assume that the business started 1 or 2 or 3 years before the first funding grant. \n",
    "  \n",
    "However the challenge is to work out what is the average difference between the date a company was founded and the first grant. This value rounded to the nearest year could be used to impute the `15,221` missing founding date. However calculating the average date with too many missing values is also problematic. This problem was resolved by initially imputing the missing dates using the date first funded plus one year.\n",
    "  \n",
    "The date the business was first funded contains 24 missing values. Using the average value between date of founding and date off first funding grant this value can also be imputed based on the data frame average\n",
    "\n",
    "Replace missing dates in `Date_founded` with dates from `Date_first_funded` **minus 3 years** see step 1.10.or discussion on how this 3 year was calculated\n",
    "\n",
    "Replace missing dates in `Date_first_funded` with dates from `Date_last_funded` **minus 1 year** see step 1.10.or discussion on how this 1 year was calculated\n",
    "  "
   ]
  },
  {
   "cell_type": "markdown",
   "id": "1fb93aea-b24c-4cfc-a68a-56ab94adf9ae",
   "metadata": {},
   "source": [
    "<hr>\n",
    "<div class=\"alert alert-block alert-info\">\n",
    "<b>Discussion:</b> End of discussion on missing dates.</div>\n",
    "<hr>"
   ]
  },
  {
   "cell_type": "markdown",
   "id": "0e2b7781-3d22-42c4-a2bf-f2496428b085",
   "metadata": {},
   "source": [
    "#### 2.6. Identifying invalid dates in the date fields\n",
    "When converting the date fields from Pandas objects to date type invalid dates were detected by Pandas. These erroneous dates needed to be identified, and the records removed from the data frame.\n"
   ]
  },
  {
   "cell_type": "code",
   "execution_count": 8,
   "id": "fa9e4f9d-966e-4dce-83e9-4dd10902a07f",
   "metadata": {},
   "outputs": [
    {
     "data": {
      "text/html": [
       "<div>\n",
       "<style scoped>\n",
       "    .dataframe tbody tr th:only-of-type {\n",
       "        vertical-align: middle;\n",
       "    }\n",
       "\n",
       "    .dataframe tbody tr th {\n",
       "        vertical-align: top;\n",
       "    }\n",
       "\n",
       "    .dataframe thead th {\n",
       "        text-align: right;\n",
       "    }\n",
       "</style>\n",
       "<table border=\"1\" class=\"dataframe\">\n",
       "  <thead>\n",
       "    <tr style=\"text-align: right;\">\n",
       "      <th></th>\n",
       "      <th>Total_Funding</th>\n",
       "      <th>status</th>\n",
       "      <th>funding_rounds</th>\n",
       "      <th>Date_founded</th>\n",
       "      <th>Date_first_funded</th>\n",
       "      <th>Date_last_funded</th>\n",
       "      <th>ID</th>\n",
       "      <th>dates_E</th>\n",
       "    </tr>\n",
       "  </thead>\n",
       "  <tbody>\n",
       "    <tr>\n",
       "      <th>0</th>\n",
       "      <td>10000000</td>\n",
       "      <td>operating</td>\n",
       "      <td>1</td>\n",
       "      <td>NaN</td>\n",
       "      <td>2015-01-05</td>\n",
       "      <td>2015-01-05</td>\n",
       "      <td>1</td>\n",
       "      <td>NaT</td>\n",
       "    </tr>\n",
       "    <tr>\n",
       "      <th>2</th>\n",
       "      <td>3406878</td>\n",
       "      <td>operating</td>\n",
       "      <td>1</td>\n",
       "      <td>NaN</td>\n",
       "      <td>2014-01-30</td>\n",
       "      <td>2014-01-30</td>\n",
       "      <td>3</td>\n",
       "      <td>NaT</td>\n",
       "    </tr>\n",
       "    <tr>\n",
       "      <th>5</th>\n",
       "      <td>41250</td>\n",
       "      <td>operating</td>\n",
       "      <td>1</td>\n",
       "      <td>NaN</td>\n",
       "      <td>2014-07-01</td>\n",
       "      <td>2014-07-01</td>\n",
       "      <td>6</td>\n",
       "      <td>NaT</td>\n",
       "    </tr>\n",
       "    <tr>\n",
       "      <th>10</th>\n",
       "      <td>-</td>\n",
       "      <td>operating</td>\n",
       "      <td>1</td>\n",
       "      <td>NaN</td>\n",
       "      <td>2013-04-21</td>\n",
       "      <td>2013-04-21</td>\n",
       "      <td>11</td>\n",
       "      <td>NaT</td>\n",
       "    </tr>\n",
       "    <tr>\n",
       "      <th>28</th>\n",
       "      <td>3000000</td>\n",
       "      <td>operating</td>\n",
       "      <td>2</td>\n",
       "      <td>NaN</td>\n",
       "      <td>2008-01-07</td>\n",
       "      <td>2010-08-13</td>\n",
       "      <td>29</td>\n",
       "      <td>NaT</td>\n",
       "    </tr>\n",
       "  </tbody>\n",
       "</table>\n",
       "</div>"
      ],
      "text/plain": [
       "   Total_Funding     status  funding_rounds Date_founded Date_first_funded  \\\n",
       "0       10000000  operating               1          NaN        2015-01-05   \n",
       "2        3406878  operating               1          NaN        2014-01-30   \n",
       "5          41250  operating               1          NaN        2014-07-01   \n",
       "10             -  operating               1          NaN        2013-04-21   \n",
       "28       3000000  operating               2          NaN        2008-01-07   \n",
       "\n",
       "   Date_last_funded  ID dates_E  \n",
       "0        2015-01-05   1     NaT  \n",
       "2        2014-01-30   3     NaT  \n",
       "5        2014-07-01   6     NaT  \n",
       "10       2013-04-21  11     NaT  \n",
       "28       2010-08-13  29     NaT  "
      ]
     },
     "execution_count": 8,
     "metadata": {},
     "output_type": "execute_result"
    }
   ],
   "source": [
    "# Convert to datetime, invalid parsing will be set as NaT\n",
    "df['dates_E'] = pd.to_datetime(df['Date_founded' ], errors='coerce')\n",
    "# Find invalid dates\n",
    "invalid_dates = df[df['dates_E'].isna()]\n",
    "invalid_dates.head()"
   ]
  },
  {
   "cell_type": "markdown",
   "id": "1f4fa9a7-a6f8-4091-81a5-9910917ccd87",
   "metadata": {},
   "source": [
    "#### 2.7. Invalid dates identified and dropped\n",
    "The invalid dates can be identified and the records dropped from the data frame.\n"
   ]
  },
  {
   "cell_type": "code",
   "execution_count": 9,
   "id": "91d1210b-4e5d-4f30-8b5a-18c35c661c51",
   "metadata": {},
   "outputs": [],
   "source": [
    "df = df.drop(index=[4776,22208,24841,47830,59382])"
   ]
  },
  {
   "cell_type": "markdown",
   "id": "bc7c9204-8d7a-4c9a-8373-e6ca00436e67",
   "metadata": {},
   "source": [
    "#### 2.8. Identifying invalid dates in the date field Date_first_funded"
   ]
  },
  {
   "cell_type": "code",
   "execution_count": 10,
   "id": "ac8cc687-6660-4d27-af90-f80e13cd596a",
   "metadata": {},
   "outputs": [
    {
     "data": {
      "text/html": [
       "<div>\n",
       "<style scoped>\n",
       "    .dataframe tbody tr th:only-of-type {\n",
       "        vertical-align: middle;\n",
       "    }\n",
       "\n",
       "    .dataframe tbody tr th {\n",
       "        vertical-align: top;\n",
       "    }\n",
       "\n",
       "    .dataframe thead th {\n",
       "        text-align: right;\n",
       "    }\n",
       "</style>\n",
       "<table border=\"1\" class=\"dataframe\">\n",
       "  <thead>\n",
       "    <tr style=\"text-align: right;\">\n",
       "      <th></th>\n",
       "      <th>Total_Funding</th>\n",
       "      <th>status</th>\n",
       "      <th>funding_rounds</th>\n",
       "      <th>Date_founded</th>\n",
       "      <th>Date_first_funded</th>\n",
       "      <th>Date_last_funded</th>\n",
       "      <th>ID</th>\n",
       "      <th>dates_E</th>\n",
       "    </tr>\n",
       "  </thead>\n",
       "  <tbody>\n",
       "    <tr>\n",
       "      <th>2445</th>\n",
       "      <td>12500000</td>\n",
       "      <td>operating</td>\n",
       "      <td>3</td>\n",
       "      <td>2014-02-01</td>\n",
       "      <td>NaN</td>\n",
       "      <td>2015-11-17</td>\n",
       "      <td>2446</td>\n",
       "      <td>NaT</td>\n",
       "    </tr>\n",
       "    <tr>\n",
       "      <th>3334</th>\n",
       "      <td>1190000</td>\n",
       "      <td>operating</td>\n",
       "      <td>6</td>\n",
       "      <td>2012-01-01</td>\n",
       "      <td>NaN</td>\n",
       "      <td>2014-03-23</td>\n",
       "      <td>3335</td>\n",
       "      <td>NaT</td>\n",
       "    </tr>\n",
       "    <tr>\n",
       "      <th>7409</th>\n",
       "      <td>32936998</td>\n",
       "      <td>operating</td>\n",
       "      <td>5</td>\n",
       "      <td>2010-01-01</td>\n",
       "      <td>1532-06-26</td>\n",
       "      <td>2013-12-03</td>\n",
       "      <td>7410</td>\n",
       "      <td>NaT</td>\n",
       "    </tr>\n",
       "    <tr>\n",
       "      <th>8029</th>\n",
       "      <td>1408347</td>\n",
       "      <td>operating</td>\n",
       "      <td>5</td>\n",
       "      <td>2011-11-01</td>\n",
       "      <td>NaN</td>\n",
       "      <td>2014-07-01</td>\n",
       "      <td>8030</td>\n",
       "      <td>NaT</td>\n",
       "    </tr>\n",
       "    <tr>\n",
       "      <th>9843</th>\n",
       "      <td>1000000</td>\n",
       "      <td>operating</td>\n",
       "      <td>2</td>\n",
       "      <td>2014-05-12</td>\n",
       "      <td>NaN</td>\n",
       "      <td>2014-10-22</td>\n",
       "      <td>9844</td>\n",
       "      <td>NaT</td>\n",
       "    </tr>\n",
       "  </tbody>\n",
       "</table>\n",
       "</div>"
      ],
      "text/plain": [
       "     Total_Funding     status  funding_rounds Date_founded Date_first_funded  \\\n",
       "2445      12500000  operating               3   2014-02-01               NaN   \n",
       "3334       1190000  operating               6   2012-01-01               NaN   \n",
       "7409      32936998  operating               5   2010-01-01        1532-06-26   \n",
       "8029       1408347  operating               5   2011-11-01               NaN   \n",
       "9843       1000000  operating               2   2014-05-12               NaN   \n",
       "\n",
       "     Date_last_funded    ID dates_E  \n",
       "2445       2015-11-17  2446     NaT  \n",
       "3334       2014-03-23  3335     NaT  \n",
       "7409       2013-12-03  7410     NaT  \n",
       "8029       2014-07-01  8030     NaT  \n",
       "9843       2014-10-22  9844     NaT  "
      ]
     },
     "execution_count": 10,
     "metadata": {},
     "output_type": "execute_result"
    }
   ],
   "source": [
    "# Convert to datetime, invalid parsing will be set as NaT\n",
    "df['dates_E'] = pd.to_datetime(df['Date_first_funded' ], errors='coerce')\n",
    "\n",
    "# Find invalid dates\n",
    "invalid_dates = df[df['dates_E'].isna()]\n",
    "invalid_dates.head()"
   ]
  },
  {
   "cell_type": "markdown",
   "id": "e1dd8d1c-e1ef-4e19-a7f3-4861252a9a03",
   "metadata": {},
   "source": [
    "#### 2.9. Invalid dates identified and dropped\n",
    "The invalid dates can be identified and the records dropped from the data frame."
   ]
  },
  {
   "cell_type": "code",
   "execution_count": 11,
   "id": "be5cb296-5fc3-48ab-b834-1b3492280fde",
   "metadata": {},
   "outputs": [],
   "source": [
    "df = df.drop(index=[7409,37176])"
   ]
  },
  {
   "cell_type": "code",
   "execution_count": 12,
   "id": "0ecb0f0f-af83-43bd-9dee-6f3bdd1c5637",
   "metadata": {},
   "outputs": [],
   "source": [
    "calc_date_first_funded = pd.to_datetime(df['Date_last_funded']) - pd.DateOffset(years=1)\n",
    "df['Date_first_funded'] = df['Date_first_funded'].fillna(calc_date_first_funded)\n",
    "calc_date_founded = pd.to_datetime(df['Date_first_funded']) - pd.DateOffset(years=3)\n",
    "df['Date_founded'] = df['Date_founded'].fillna(calc_date_founded)"
   ]
  },
  {
   "cell_type": "markdown",
   "id": "40e82386-fb0d-4915-8b2b-8d5fa8011e7a",
   "metadata": {},
   "source": [
    "#### 2.10. Compute average durations to impute missing dates in the data frame\n",
    ">1. Create a variable date_columns and store the date fields to be converted.  \n",
    ">2. Convert columns to datetime using .astype method.  \n",
    ">3. Calculate the average duration in years (rounded up) between date the business was `founded to the date of the first funding grant`\n",
    ">4. Calculate the average duration in years (rounded up) between date of the `first funding grant` to the date of the `last funding grant`\n",
    ">5. In `step 1.5` the missing dates in `Date_founded` were imputed with date from `Date_first_funded`.\n",
    ">6. In `step 1.5` the missing dates in `Date_first_funded` were imputed with date from `Date_last_funded`.\n",
    ">7. Steps 5 and 6 are incorrect but with these initial dates it is possible to calculate the average duration between ` Date_first_funded ` and `Date_last_funded` and between `Date_first_funded` and `Date_last_funded`.\n",
    ">8. These steps were implemented at this point to calculate the average duration between these respective dates.\n",
    ">9. The **average duration** between `date of founding` and `first funding grant` was calculated to be **`3 years`** (see image below of the original calculations and code which have now been commented out as this calculation is no longer required.\n",
    ">10. The **average duration** between date of `first funding grant` and date of `last funding grant` and was calculated to be **`1 year`** (see image below of the original calculations and code which have now been commented out as this calculation is no longer required.\n",
    "\n"
   ]
  },
  {
   "cell_type": "markdown",
   "id": "ff87a260-4d14-44f8-8a92-1822198a5829",
   "metadata": {},
   "source": [
    "<hr>\n",
    "<div class=\"alert alert-block alert-info\">\n",
    "<b>Discussion:</b> explanation on how the average duration between the key dates was calculated from imputing missing values in **Section 2.9** .</div>\n",
    "<hr>"
   ]
  },
  {
   "cell_type": "markdown",
   "id": "5792b78b-47cf-43df-81b7-e6e6485f2f4a",
   "metadata": {},
   "source": [
    "# Calculate the average duration between the key dates\n",
    "Section below was initially used to calculate the average duration between the key dates so that the missing values could be imputed backwards from the `Date_last_funded`"
   ]
  },
  {
   "cell_type": "markdown",
   "id": "3f7b2393-4299-406b-84cc-897434c5eacd",
   "metadata": {},
   "source": [
    "<hr>\n",
    "<div class=\"alert alert-block alert-warning\">\n",
    "<b>**Note:**</b> These step below have been commented out as they are no longer required see the image or the actual values and active code\n",
    "</div>\n",
    "<hr>"
   ]
  },
  {
   "cell_type": "code",
   "execution_count": 13,
   "id": "cd6da2b8-3153-4ee4-8c1c-2529a6fcb77c",
   "metadata": {},
   "outputs": [],
   "source": [
    "# Step 1 above \n",
    "#date_columns = ['Date_founded', 'Date_first_funded', 'Date_last_funded']\n",
    "# Step 2 above\n",
    "#df[date_columns] = df[date_columns].astype('datetime64[ns]')"
   ]
  },
  {
   "cell_type": "code",
   "execution_count": 14,
   "id": "5f8ccc42-0c2a-4349-bc60-c6602db624e6",
   "metadata": {},
   "outputs": [],
   "source": [
    "#Step 3 above\n",
    "#df['diff_founded_to_first_fund'] = (df['Date_first_funded'] - df['Date_founded']) / np.timedelta64(1, 'Y')\n",
    "#avg_diff_founded_to_first_fund = round(df['diff_founded_to_first_fund'].mean(),0)\n",
    "#avg_diff_founded_to_first_fund\n"
   ]
  },
  {
   "cell_type": "code",
   "execution_count": 15,
   "id": "e83a3ab8-a68b-437f-a274-e4fcb086885d",
   "metadata": {},
   "outputs": [],
   "source": [
    "#Step 4 above\n",
    "#df['diff_first_to_last_fund'] = (df['Date_last_funded'] - df['Date_first_funded']) / np.timedelta64(1, 'Y')\n",
    "#avg_diff_first_to_last_fund = round(df['diff_first_to_last_fund'].mean(),0)\n",
    "#avg_diff_first_to_last_fund\n"
   ]
  },
  {
   "attachments": {
    "35c2dc54-1e84-4c6b-a09c-f81b3da442c8.jpg": {
     "image/jpeg": "[encoded data removed]"
    }
   },
   "cell_type": "markdown",
   "id": "2fccf410-060a-4844-81ea-bcec544635ec",
   "metadata": {},
   "source": [
    "Below is the image when the calcualtion were ran before imputing the values for the missing dates in Step 1.5\n",
    "\n",
    "![Calculating the average duration between founding-first grant and last grant.jpg](attachment:35c2dc54-1e84-4c6b-a09c-f81b3da442c8.jpg)"
   ]
  },
  {
   "cell_type": "markdown",
   "id": "91abcef5-7d3f-4d0b-b3a8-07e5154f562d",
   "metadata": {},
   "source": [
    "<hr>\n",
    "<div class=\"alert alert-block alert-info\">\n",
    "<b>End of discussion:</b> above info/code is an image not code .</div>\n",
    "<hr>"
   ]
  },
  {
   "cell_type": "markdown",
   "id": "af14654e-507d-4251-a622-208b3e97c526",
   "metadata": {},
   "source": [
    "#### 2.11. Drop 'dates_E' field no longer required"
   ]
  },
  {
   "cell_type": "code",
   "execution_count": 16,
   "id": "0fab0b71-1fba-4161-bffa-27b2515d4a30",
   "metadata": {},
   "outputs": [],
   "source": [
    "df = df.drop(columns=['dates_E'])"
   ]
  },
  {
   "cell_type": "markdown",
   "id": "5ee8dd2c-e9b7-4d49-879c-1007e9c09552",
   "metadata": {},
   "source": [
    "#### 2.12.Assess how many missing values there are in the data frame"
   ]
  },
  {
   "cell_type": "code",
   "execution_count": 17,
   "id": "7c7adfce-3b11-4eb3-ab0e-a07dced49bcb",
   "metadata": {},
   "outputs": [
    {
     "data": {
      "text/plain": [
       "Total_Funding        0\n",
       "status               0\n",
       "funding_rounds       0\n",
       "Date_founded         0\n",
       "Date_first_funded    0\n",
       "Date_last_funded     0\n",
       "ID                   0\n",
       "dtype: int64"
      ]
     },
     "execution_count": 17,
     "metadata": {},
     "output_type": "execute_result"
    }
   ],
   "source": [
    "df.isnull().sum(axis=0)"
   ]
  },
  {
   "cell_type": "markdown",
   "id": "4b6c88c0-f491-4760-b6a1-4dcd8282db2c",
   "metadata": {},
   "source": [
    "#### 2.13 Correct data types for modelling purposes\n"
   ]
  },
  {
   "cell_type": "code",
   "execution_count": 18,
   "id": "873a982f-1e51-4fdb-8ccc-1d3c872ac299",
   "metadata": {},
   "outputs": [],
   "source": [
    "df['Date_founded'] = pd.to_datetime(df['Date_founded']).dt.normalize()\n",
    "df['Date_first_funded'] = pd.to_datetime(df['Date_first_funded']).dt.normalize()\n",
    "df['Date_last_funded'] = pd.to_datetime(df['Date_last_funded']).dt.normalize()\n",
    "df['Total_Funding'] = pd.to_numeric(df['Total_Funding'],errors='coerce').fillna(0).astype(int)"
   ]
  },
  {
   "cell_type": "code",
   "execution_count": 19,
   "id": "db90c02e-cc97-4edb-9f79-483ccc9484e0",
   "metadata": {},
   "outputs": [
    {
     "name": "stdout",
     "output_type": "stream",
     "text": [
      "<class 'pandas.core.frame.DataFrame'>\n",
      "Int64Index: 66361 entries, 0 to 66367\n",
      "Data columns (total 7 columns):\n",
      " #   Column             Non-Null Count  Dtype         \n",
      "---  ------             --------------  -----         \n",
      " 0   Total_Funding      66361 non-null  int32         \n",
      " 1   status             66361 non-null  object        \n",
      " 2   funding_rounds     66361 non-null  int64         \n",
      " 3   Date_founded       66361 non-null  datetime64[ns]\n",
      " 4   Date_first_funded  66361 non-null  datetime64[ns]\n",
      " 5   Date_last_funded   66361 non-null  datetime64[ns]\n",
      " 6   ID                 66361 non-null  int64         \n",
      "dtypes: datetime64[ns](3), int32(1), int64(2), object(1)\n",
      "memory usage: 3.8+ MB\n"
     ]
    }
   ],
   "source": [
    "df.info()"
   ]
  },
  {
   "cell_type": "code",
   "execution_count": 20,
   "id": "18275f3e-e415-4a12-aa81-a1ba810899c6",
   "metadata": {},
   "outputs": [
    {
     "data": {
      "text/html": [
       "<div>\n",
       "<style scoped>\n",
       "    .dataframe tbody tr th:only-of-type {\n",
       "        vertical-align: middle;\n",
       "    }\n",
       "\n",
       "    .dataframe tbody tr th {\n",
       "        vertical-align: top;\n",
       "    }\n",
       "\n",
       "    .dataframe thead th {\n",
       "        text-align: right;\n",
       "    }\n",
       "</style>\n",
       "<table border=\"1\" class=\"dataframe\">\n",
       "  <thead>\n",
       "    <tr style=\"text-align: right;\">\n",
       "      <th></th>\n",
       "      <th>Total_Funding</th>\n",
       "      <th>status</th>\n",
       "      <th>funding_rounds</th>\n",
       "      <th>Date_founded</th>\n",
       "      <th>Date_first_funded</th>\n",
       "      <th>Date_last_funded</th>\n",
       "      <th>ID</th>\n",
       "    </tr>\n",
       "  </thead>\n",
       "  <tbody>\n",
       "    <tr>\n",
       "      <th>0</th>\n",
       "      <td>10000000</td>\n",
       "      <td>operating</td>\n",
       "      <td>1</td>\n",
       "      <td>2012-01-05</td>\n",
       "      <td>2015-01-05</td>\n",
       "      <td>2015-01-05</td>\n",
       "      <td>1</td>\n",
       "    </tr>\n",
       "    <tr>\n",
       "      <th>1</th>\n",
       "      <td>700000</td>\n",
       "      <td>operating</td>\n",
       "      <td>2</td>\n",
       "      <td>2014-09-04</td>\n",
       "      <td>2014-03-01</td>\n",
       "      <td>2014-10-14</td>\n",
       "      <td>2</td>\n",
       "    </tr>\n",
       "    <tr>\n",
       "      <th>2</th>\n",
       "      <td>3406878</td>\n",
       "      <td>operating</td>\n",
       "      <td>1</td>\n",
       "      <td>2011-01-30</td>\n",
       "      <td>2014-01-30</td>\n",
       "      <td>2014-01-30</td>\n",
       "      <td>3</td>\n",
       "    </tr>\n",
       "    <tr>\n",
       "      <th>3</th>\n",
       "      <td>2000000</td>\n",
       "      <td>operating</td>\n",
       "      <td>1</td>\n",
       "      <td>2007-01-01</td>\n",
       "      <td>2008-03-19</td>\n",
       "      <td>2008-03-19</td>\n",
       "      <td>4</td>\n",
       "    </tr>\n",
       "    <tr>\n",
       "      <th>4</th>\n",
       "      <td>0</td>\n",
       "      <td>operating</td>\n",
       "      <td>1</td>\n",
       "      <td>2010-01-01</td>\n",
       "      <td>2014-07-24</td>\n",
       "      <td>2014-07-24</td>\n",
       "      <td>5</td>\n",
       "    </tr>\n",
       "  </tbody>\n",
       "</table>\n",
       "</div>"
      ],
      "text/plain": [
       "   Total_Funding     status  funding_rounds Date_founded Date_first_funded  \\\n",
       "0       10000000  operating               1   2012-01-05        2015-01-05   \n",
       "1         700000  operating               2   2014-09-04        2014-03-01   \n",
       "2        3406878  operating               1   2011-01-30        2014-01-30   \n",
       "3        2000000  operating               1   2007-01-01        2008-03-19   \n",
       "4              0  operating               1   2010-01-01        2014-07-24   \n",
       "\n",
       "  Date_last_funded  ID  \n",
       "0       2015-01-05   1  \n",
       "1       2014-10-14   2  \n",
       "2       2014-01-30   3  \n",
       "3       2008-03-19   4  \n",
       "4       2014-07-24   5  "
      ]
     },
     "execution_count": 20,
     "metadata": {},
     "output_type": "execute_result"
    }
   ],
   "source": [
    "df.head()"
   ]
  },
  {
   "cell_type": "markdown",
   "id": "1545d0a9-e52d-48a5-a798-4580156169cb",
   "metadata": {},
   "source": [
    "#### 2.14. Review the distribution of startup status"
   ]
  },
  {
   "cell_type": "code",
   "execution_count": 21,
   "id": "87d3c265-a0c9-4b32-b3c1-42ea95689e11",
   "metadata": {},
   "outputs": [
    {
     "data": {
      "text/plain": [
       "operating    53029\n",
       "closed        6236\n",
       "acquired      5549\n",
       "ipo           1547\n",
       "Name: status, dtype: int64"
      ]
     },
     "execution_count": 21,
     "metadata": {},
     "output_type": "execute_result"
    }
   ],
   "source": [
    "# Count occurrences of each status value\n",
    "status_counts = df['status'].value_counts()\n",
    "status_counts"
   ]
  },
  {
   "cell_type": "markdown",
   "id": "60f0a1b6-bbdf-47ba-8742-f316d7f2a8c1",
   "metadata": {},
   "source": [
    "#### 2.15. Calculate the duration in months from founding to first funding grant\n",
    "Duration is measured in months and rounded to the nearest month.\n"
   ]
  },
  {
   "cell_type": "code",
   "execution_count": 22,
   "id": "b982c8cb-9364-4b62-ad8b-a87d1e78b775",
   "metadata": {},
   "outputs": [
    {
     "data": {
      "text/html": [
       "<div>\n",
       "<style scoped>\n",
       "    .dataframe tbody tr th:only-of-type {\n",
       "        vertical-align: middle;\n",
       "    }\n",
       "\n",
       "    .dataframe tbody tr th {\n",
       "        vertical-align: top;\n",
       "    }\n",
       "\n",
       "    .dataframe thead th {\n",
       "        text-align: right;\n",
       "    }\n",
       "</style>\n",
       "<table border=\"1\" class=\"dataframe\">\n",
       "  <thead>\n",
       "    <tr style=\"text-align: right;\">\n",
       "      <th></th>\n",
       "      <th>Total_Funding</th>\n",
       "      <th>status</th>\n",
       "      <th>funding_rounds</th>\n",
       "      <th>Date_founded</th>\n",
       "      <th>Date_first_funded</th>\n",
       "      <th>Date_last_funded</th>\n",
       "      <th>ID</th>\n",
       "      <th>months_2_first_fund</th>\n",
       "    </tr>\n",
       "  </thead>\n",
       "  <tbody>\n",
       "    <tr>\n",
       "      <th>0</th>\n",
       "      <td>10000000</td>\n",
       "      <td>operating</td>\n",
       "      <td>1</td>\n",
       "      <td>2012-01-05</td>\n",
       "      <td>2015-01-05</td>\n",
       "      <td>2015-01-05</td>\n",
       "      <td>1</td>\n",
       "      <td>36</td>\n",
       "    </tr>\n",
       "    <tr>\n",
       "      <th>1</th>\n",
       "      <td>700000</td>\n",
       "      <td>operating</td>\n",
       "      <td>2</td>\n",
       "      <td>2014-09-04</td>\n",
       "      <td>2014-03-01</td>\n",
       "      <td>2014-10-14</td>\n",
       "      <td>2</td>\n",
       "      <td>-6</td>\n",
       "    </tr>\n",
       "    <tr>\n",
       "      <th>2</th>\n",
       "      <td>3406878</td>\n",
       "      <td>operating</td>\n",
       "      <td>1</td>\n",
       "      <td>2011-01-30</td>\n",
       "      <td>2014-01-30</td>\n",
       "      <td>2014-01-30</td>\n",
       "      <td>3</td>\n",
       "      <td>36</td>\n",
       "    </tr>\n",
       "    <tr>\n",
       "      <th>3</th>\n",
       "      <td>2000000</td>\n",
       "      <td>operating</td>\n",
       "      <td>1</td>\n",
       "      <td>2007-01-01</td>\n",
       "      <td>2008-03-19</td>\n",
       "      <td>2008-03-19</td>\n",
       "      <td>4</td>\n",
       "      <td>15</td>\n",
       "    </tr>\n",
       "    <tr>\n",
       "      <th>4</th>\n",
       "      <td>0</td>\n",
       "      <td>operating</td>\n",
       "      <td>1</td>\n",
       "      <td>2010-01-01</td>\n",
       "      <td>2014-07-24</td>\n",
       "      <td>2014-07-24</td>\n",
       "      <td>5</td>\n",
       "      <td>55</td>\n",
       "    </tr>\n",
       "    <tr>\n",
       "      <th>5</th>\n",
       "      <td>41250</td>\n",
       "      <td>operating</td>\n",
       "      <td>1</td>\n",
       "      <td>2011-07-01</td>\n",
       "      <td>2014-07-01</td>\n",
       "      <td>2014-07-01</td>\n",
       "      <td>6</td>\n",
       "      <td>36</td>\n",
       "    </tr>\n",
       "    <tr>\n",
       "      <th>6</th>\n",
       "      <td>762851</td>\n",
       "      <td>operating</td>\n",
       "      <td>2</td>\n",
       "      <td>1997-01-01</td>\n",
       "      <td>2009-09-11</td>\n",
       "      <td>2009-12-21</td>\n",
       "      <td>7</td>\n",
       "      <td>152</td>\n",
       "    </tr>\n",
       "    <tr>\n",
       "      <th>7</th>\n",
       "      <td>33600000</td>\n",
       "      <td>operating</td>\n",
       "      <td>4</td>\n",
       "      <td>2011-01-01</td>\n",
       "      <td>2013-01-03</td>\n",
       "      <td>2015-11-09</td>\n",
       "      <td>8</td>\n",
       "      <td>24</td>\n",
       "    </tr>\n",
       "    <tr>\n",
       "      <th>8</th>\n",
       "      <td>1150050</td>\n",
       "      <td>operating</td>\n",
       "      <td>3</td>\n",
       "      <td>2011-08-01</td>\n",
       "      <td>2011-07-20</td>\n",
       "      <td>2014-02-05</td>\n",
       "      <td>9</td>\n",
       "      <td>0</td>\n",
       "    </tr>\n",
       "    <tr>\n",
       "      <th>9</th>\n",
       "      <td>40000</td>\n",
       "      <td>operating</td>\n",
       "      <td>1</td>\n",
       "      <td>2012-01-01</td>\n",
       "      <td>2013-02-18</td>\n",
       "      <td>2013-02-18</td>\n",
       "      <td>10</td>\n",
       "      <td>14</td>\n",
       "    </tr>\n",
       "    <tr>\n",
       "      <th>10</th>\n",
       "      <td>0</td>\n",
       "      <td>operating</td>\n",
       "      <td>1</td>\n",
       "      <td>2010-04-21</td>\n",
       "      <td>2013-04-21</td>\n",
       "      <td>2013-04-21</td>\n",
       "      <td>11</td>\n",
       "      <td>36</td>\n",
       "    </tr>\n",
       "    <tr>\n",
       "      <th>11</th>\n",
       "      <td>0</td>\n",
       "      <td>operating</td>\n",
       "      <td>1</td>\n",
       "      <td>2013-12-07</td>\n",
       "      <td>2014-01-22</td>\n",
       "      <td>2014-01-22</td>\n",
       "      <td>12</td>\n",
       "      <td>2</td>\n",
       "    </tr>\n",
       "    <tr>\n",
       "      <th>12</th>\n",
       "      <td>0</td>\n",
       "      <td>operating</td>\n",
       "      <td>1</td>\n",
       "      <td>1986-01-01</td>\n",
       "      <td>2010-08-19</td>\n",
       "      <td>2010-08-19</td>\n",
       "      <td>13</td>\n",
       "      <td>296</td>\n",
       "    </tr>\n",
       "    <tr>\n",
       "      <th>13</th>\n",
       "      <td>1750000</td>\n",
       "      <td>operating</td>\n",
       "      <td>1</td>\n",
       "      <td>1984-01-01</td>\n",
       "      <td>2011-03-02</td>\n",
       "      <td>2011-03-02</td>\n",
       "      <td>14</td>\n",
       "      <td>326</td>\n",
       "    </tr>\n",
       "    <tr>\n",
       "      <th>14</th>\n",
       "      <td>6000000</td>\n",
       "      <td>operating</td>\n",
       "      <td>1</td>\n",
       "      <td>2013-10-24</td>\n",
       "      <td>2015-02-01</td>\n",
       "      <td>2015-02-01</td>\n",
       "      <td>15</td>\n",
       "      <td>15</td>\n",
       "    </tr>\n",
       "  </tbody>\n",
       "</table>\n",
       "</div>"
      ],
      "text/plain": [
       "    Total_Funding     status  funding_rounds Date_founded Date_first_funded  \\\n",
       "0        10000000  operating               1   2012-01-05        2015-01-05   \n",
       "1          700000  operating               2   2014-09-04        2014-03-01   \n",
       "2         3406878  operating               1   2011-01-30        2014-01-30   \n",
       "3         2000000  operating               1   2007-01-01        2008-03-19   \n",
       "4               0  operating               1   2010-01-01        2014-07-24   \n",
       "5           41250  operating               1   2011-07-01        2014-07-01   \n",
       "6          762851  operating               2   1997-01-01        2009-09-11   \n",
       "7        33600000  operating               4   2011-01-01        2013-01-03   \n",
       "8         1150050  operating               3   2011-08-01        2011-07-20   \n",
       "9           40000  operating               1   2012-01-01        2013-02-18   \n",
       "10              0  operating               1   2010-04-21        2013-04-21   \n",
       "11              0  operating               1   2013-12-07        2014-01-22   \n",
       "12              0  operating               1   1986-01-01        2010-08-19   \n",
       "13        1750000  operating               1   1984-01-01        2011-03-02   \n",
       "14        6000000  operating               1   2013-10-24        2015-02-01   \n",
       "\n",
       "   Date_last_funded  ID  months_2_first_fund  \n",
       "0        2015-01-05   1                   36  \n",
       "1        2014-10-14   2                   -6  \n",
       "2        2014-01-30   3                   36  \n",
       "3        2008-03-19   4                   15  \n",
       "4        2014-07-24   5                   55  \n",
       "5        2014-07-01   6                   36  \n",
       "6        2009-12-21   7                  152  \n",
       "7        2015-11-09   8                   24  \n",
       "8        2014-02-05   9                    0  \n",
       "9        2013-02-18  10                   14  \n",
       "10       2013-04-21  11                   36  \n",
       "11       2014-01-22  12                    2  \n",
       "12       2010-08-19  13                  296  \n",
       "13       2011-03-02  14                  326  \n",
       "14       2015-02-01  15                   15  "
      ]
     },
     "execution_count": 22,
     "metadata": {},
     "output_type": "execute_result"
    }
   ],
   "source": [
    "df['months_2_first_fund'] = round((df['Date_first_funded'] - df['Date_founded']) / np.timedelta64(1, 'M'),0).astype(int)\n",
    "df.head(15)"
   ]
  },
  {
   "cell_type": "markdown",
   "id": "225453cb-27f4-4efb-bf37-e733d0833d7b",
   "metadata": {},
   "source": [
    "<hr>\n",
    "<div class=\"alert alert-block alert-info\">\n",
    "<b>Discussion:</b> explanation on how more data quality issues were identified and resolved .</div>\n",
    "<hr>"
   ]
  },
  {
   "cell_type": "markdown",
   "id": "eab445dc-8394-4fb5-bc67-776b817ed7d2",
   "metadata": {},
   "source": [
    "# Data Quality and data cleaning challenges.\n",
    "### Summary of the challanges\n",
    "The dataset contains several complexities that need to be resolved\n",
    "1. **Incorrect data types:** Apart from the `funding_rounds` fields all fields are Pandas objects\n",
    "2. **Missing dates:** There are a significant number of missing values in the dataset. For the most part the missing values can be imputed from other fields (see discussion in `Section 2.10` and `Section 2.5` on how missing dates were resolved)\n",
    "3. **Invalid dates:** The dataset contains several invalid dates (seven were found and their respective records removed from the dataset).\n",
    "4. **Inconsistent dates:** The dataset was further enhanced by adding the duration field `months_2_first_fund` which calculated the duration in months between founding of the company ad their first funding grant. The problem encountered at this point in the data preparation was that based on the duration calculation it was then noted that there were 3,222 negative duration periods i.e. the date `Date_first_funded` was **before** the `Date_founded` which created a new problem that needed to be resolved.\n",
    "5. Zero or Negative funding: 12,736 companies received a total funding amount of `0.00` and 21 companies received **negative funding** which is unlikely and these should be considered as error and were removed from the dataframe.\n",
    "\n",
    "### Resolving the date errors\n",
    "Resolving the inconsistent date errors (`Date_first_funded` **before** the `Date_founded`). The error was inconsistent and gross making I very difficult to save any of the fields that were affected by this error.\n",
    "  \n",
    "*3,222 records were the `Date_first_funded` was before the `Date_founded`\n",
    "*Max error is 1,086 months\n",
    "*Min error is 1 month\n",
    "*Standard deviation of errors is 33 months (indicating a wide range of errors)\n",
    "*IQR is 10 months \n",
    "\n",
    "\n",
    "Use the Interquartile Range (IQR) to remove the significant outliers from the dataset\n",
    "Solution and code for this removing the error within the IQR\n",
    "\n",
    "Source: https://saturncloud.io/blog/how-to-detect-and-exclude-outliers-in-a-pandas-dataframe/\n",
    "\n",
    "### Resolving the Zero and Negative funding errors\n",
    "The records that received zero funding could be considered as being startup companies that succeeded or failed without `startup funding` there are 12,736 companies out of `66,057` representing 19.3% of the data set. It would be interesting to create a predictor variable for companies that were funded compared to those that were funded. The predictor variable could be `”Funded”` or `”Not Funded”` this will add a new and interesting variation to the problem.\n"
   ]
  },
  {
   "cell_type": "markdown",
   "id": "8c6128af-8c87-4ff3-8742-2efb23823be7",
   "metadata": {},
   "source": [
    "<hr>\n",
    "<div class=\"alert alert-block alert-info\">\n",
    "<b>End of discussion:</b> above disussion highllights some of the data quality problemms with the dataset .</div>\n",
    "<hr>"
   ]
  },
  {
   "cell_type": "code",
   "execution_count": 23,
   "id": "817f0520-01ea-49a6-9a63-1dd6aa8ba53f",
   "metadata": {},
   "outputs": [],
   "source": [
    "def daterror(row):\n",
    "    if row['months_2_first_fund'] < 0:\n",
    "        return 'Error'\n",
    "    else:\n",
    "        return 'OK'\n",
    "df = df.assign(Date_Error=df.apply(daterror, axis=1))"
   ]
  },
  {
   "cell_type": "code",
   "execution_count": 24,
   "id": "06bd0a8c-be9f-470b-81f7-0ba40516c5d0",
   "metadata": {},
   "outputs": [
    {
     "data": {
      "text/plain": [
       "OK       63139\n",
       "Error     3222\n",
       "Name: Date_Error, dtype: int64"
      ]
     },
     "execution_count": 24,
     "metadata": {},
     "output_type": "execute_result"
    }
   ],
   "source": [
    "# Count occurrences of each reccord that has a first funding date before the date the company was founded date\n",
    "date_errors = df['Date_Error'].value_counts()\n",
    "date_errors"
   ]
  },
  {
   "cell_type": "code",
   "execution_count": 25,
   "id": "6e9c6c69-fb7e-4aee-8d17-07279037cb1d",
   "metadata": {},
   "outputs": [
    {
     "data": {
      "text/html": [
       "<div>\n",
       "<style scoped>\n",
       "    .dataframe tbody tr th:only-of-type {\n",
       "        vertical-align: middle;\n",
       "    }\n",
       "\n",
       "    .dataframe tbody tr th {\n",
       "        vertical-align: top;\n",
       "    }\n",
       "\n",
       "    .dataframe thead th {\n",
       "        text-align: right;\n",
       "    }\n",
       "</style>\n",
       "<table border=\"1\" class=\"dataframe\">\n",
       "  <thead>\n",
       "    <tr style=\"text-align: right;\">\n",
       "      <th></th>\n",
       "      <th>Total_Funding</th>\n",
       "      <th>status</th>\n",
       "      <th>funding_rounds</th>\n",
       "      <th>Date_founded</th>\n",
       "      <th>Date_first_funded</th>\n",
       "      <th>Date_last_funded</th>\n",
       "      <th>ID</th>\n",
       "      <th>months_2_first_fund</th>\n",
       "      <th>Date_Error</th>\n",
       "    </tr>\n",
       "  </thead>\n",
       "  <tbody>\n",
       "    <tr>\n",
       "      <th>1</th>\n",
       "      <td>700000</td>\n",
       "      <td>operating</td>\n",
       "      <td>2</td>\n",
       "      <td>2014-09-04</td>\n",
       "      <td>2014-03-01</td>\n",
       "      <td>2014-10-14</td>\n",
       "      <td>2</td>\n",
       "      <td>-6</td>\n",
       "      <td>Error</td>\n",
       "    </tr>\n",
       "    <tr>\n",
       "      <th>23</th>\n",
       "      <td>2535000</td>\n",
       "      <td>acquired</td>\n",
       "      <td>2</td>\n",
       "      <td>2010-07-01</td>\n",
       "      <td>2010-01-01</td>\n",
       "      <td>2011-02-16</td>\n",
       "      <td>24</td>\n",
       "      <td>-6</td>\n",
       "      <td>Error</td>\n",
       "    </tr>\n",
       "    <tr>\n",
       "      <th>68</th>\n",
       "      <td>5500000</td>\n",
       "      <td>operating</td>\n",
       "      <td>2</td>\n",
       "      <td>2010-01-11</td>\n",
       "      <td>2009-07-01</td>\n",
       "      <td>2011-04-28</td>\n",
       "      <td>69</td>\n",
       "      <td>-6</td>\n",
       "      <td>Error</td>\n",
       "    </tr>\n",
       "    <tr>\n",
       "      <th>91</th>\n",
       "      <td>40000</td>\n",
       "      <td>operating</td>\n",
       "      <td>1</td>\n",
       "      <td>2009-01-19</td>\n",
       "      <td>2008-04-04</td>\n",
       "      <td>2008-04-04</td>\n",
       "      <td>92</td>\n",
       "      <td>-10</td>\n",
       "      <td>Error</td>\n",
       "    </tr>\n",
       "    <tr>\n",
       "      <th>98</th>\n",
       "      <td>43811</td>\n",
       "      <td>closed</td>\n",
       "      <td>2</td>\n",
       "      <td>2009-08-26</td>\n",
       "      <td>2009-05-01</td>\n",
       "      <td>2009-10-01</td>\n",
       "      <td>99</td>\n",
       "      <td>-4</td>\n",
       "      <td>Error</td>\n",
       "    </tr>\n",
       "  </tbody>\n",
       "</table>\n",
       "</div>"
      ],
      "text/plain": [
       "    Total_Funding     status  funding_rounds Date_founded Date_first_funded  \\\n",
       "1          700000  operating               2   2014-09-04        2014-03-01   \n",
       "23        2535000   acquired               2   2010-07-01        2010-01-01   \n",
       "68        5500000  operating               2   2010-01-11        2009-07-01   \n",
       "91          40000  operating               1   2009-01-19        2008-04-04   \n",
       "98          43811     closed               2   2009-08-26        2009-05-01   \n",
       "\n",
       "   Date_last_funded  ID  months_2_first_fund Date_Error  \n",
       "1        2014-10-14   2                   -6      Error  \n",
       "23       2011-02-16  24                   -6      Error  \n",
       "68       2011-04-28  69                   -6      Error  \n",
       "91       2008-04-04  92                  -10      Error  \n",
       "98       2009-10-01  99                   -4      Error  "
      ]
     },
     "execution_count": 25,
     "metadata": {},
     "output_type": "execute_result"
    }
   ],
   "source": [
    "Date_error_df = df[df['Date_Error'] == 'Error']\n",
    "Date_error_df.head(5)"
   ]
  },
  {
   "cell_type": "code",
   "execution_count": 26,
   "id": "692b277d-24c3-48ae-bbed-e30a0892d1ae",
   "metadata": {},
   "outputs": [
    {
     "data": {
      "text/html": [
       "<div>\n",
       "<style scoped>\n",
       "    .dataframe tbody tr th:only-of-type {\n",
       "        vertical-align: middle;\n",
       "    }\n",
       "\n",
       "    .dataframe tbody tr th {\n",
       "        vertical-align: top;\n",
       "    }\n",
       "\n",
       "    .dataframe thead th {\n",
       "        text-align: right;\n",
       "    }\n",
       "</style>\n",
       "<table border=\"1\" class=\"dataframe\">\n",
       "  <thead>\n",
       "    <tr style=\"text-align: right;\">\n",
       "      <th></th>\n",
       "      <th>Total_Funding</th>\n",
       "      <th>funding_rounds</th>\n",
       "      <th>ID</th>\n",
       "      <th>months_2_first_fund</th>\n",
       "    </tr>\n",
       "  </thead>\n",
       "  <tbody>\n",
       "    <tr>\n",
       "      <th>count</th>\n",
       "      <td>3.222000e+03</td>\n",
       "      <td>3222.000000</td>\n",
       "      <td>3222.000000</td>\n",
       "      <td>3222.000000</td>\n",
       "    </tr>\n",
       "    <tr>\n",
       "      <th>mean</th>\n",
       "      <td>1.056809e+07</td>\n",
       "      <td>2.099938</td>\n",
       "      <td>34011.354749</td>\n",
       "      <td>-11.831471</td>\n",
       "    </tr>\n",
       "    <tr>\n",
       "      <th>std</th>\n",
       "      <td>7.114472e+07</td>\n",
       "      <td>1.673786</td>\n",
       "      <td>19004.293249</td>\n",
       "      <td>33.213764</td>\n",
       "    </tr>\n",
       "    <tr>\n",
       "      <th>min</th>\n",
       "      <td>-2.147484e+09</td>\n",
       "      <td>1.000000</td>\n",
       "      <td>2.000000</td>\n",
       "      <td>-1086.000000</td>\n",
       "    </tr>\n",
       "    <tr>\n",
       "      <th>25%</th>\n",
       "      <td>1.500000e+04</td>\n",
       "      <td>1.000000</td>\n",
       "      <td>18364.750000</td>\n",
       "      <td>-12.000000</td>\n",
       "    </tr>\n",
       "    <tr>\n",
       "      <th>50%</th>\n",
       "      <td>2.500000e+05</td>\n",
       "      <td>1.000000</td>\n",
       "      <td>33829.000000</td>\n",
       "      <td>-5.000000</td>\n",
       "    </tr>\n",
       "    <tr>\n",
       "      <th>75%</th>\n",
       "      <td>2.652500e+06</td>\n",
       "      <td>3.000000</td>\n",
       "      <td>50646.000000</td>\n",
       "      <td>-2.000000</td>\n",
       "    </tr>\n",
       "    <tr>\n",
       "      <th>max</th>\n",
       "      <td>1.390267e+09</td>\n",
       "      <td>17.000000</td>\n",
       "      <td>66365.000000</td>\n",
       "      <td>-1.000000</td>\n",
       "    </tr>\n",
       "  </tbody>\n",
       "</table>\n",
       "</div>"
      ],
      "text/plain": [
       "       Total_Funding  funding_rounds            ID  months_2_first_fund\n",
       "count   3.222000e+03     3222.000000   3222.000000          3222.000000\n",
       "mean    1.056809e+07        2.099938  34011.354749           -11.831471\n",
       "std     7.114472e+07        1.673786  19004.293249            33.213764\n",
       "min    -2.147484e+09        1.000000      2.000000         -1086.000000\n",
       "25%     1.500000e+04        1.000000  18364.750000           -12.000000\n",
       "50%     2.500000e+05        1.000000  33829.000000            -5.000000\n",
       "75%     2.652500e+06        3.000000  50646.000000            -2.000000\n",
       "max     1.390267e+09       17.000000  66365.000000            -1.000000"
      ]
     },
     "execution_count": 26,
     "metadata": {},
     "output_type": "execute_result"
    }
   ],
   "source": [
    "Date_error_df.describe()"
   ]
  },
  {
   "cell_type": "code",
   "execution_count": 27,
   "id": "9054766d-7b85-4df6-864f-f8a548efc2b0",
   "metadata": {},
   "outputs": [
    {
     "data": {
      "text/html": [
       "<div>\n",
       "<style scoped>\n",
       "    .dataframe tbody tr th:only-of-type {\n",
       "        vertical-align: middle;\n",
       "    }\n",
       "\n",
       "    .dataframe tbody tr th {\n",
       "        vertical-align: top;\n",
       "    }\n",
       "\n",
       "    .dataframe thead th {\n",
       "        text-align: right;\n",
       "    }\n",
       "</style>\n",
       "<table border=\"1\" class=\"dataframe\">\n",
       "  <thead>\n",
       "    <tr style=\"text-align: right;\">\n",
       "      <th></th>\n",
       "      <th>Total_Funding</th>\n",
       "      <th>status</th>\n",
       "      <th>funding_rounds</th>\n",
       "      <th>Date_founded</th>\n",
       "      <th>Date_first_funded</th>\n",
       "      <th>Date_last_funded</th>\n",
       "      <th>ID</th>\n",
       "      <th>months_2_first_fund</th>\n",
       "      <th>Date_Error</th>\n",
       "    </tr>\n",
       "  </thead>\n",
       "  <tbody>\n",
       "    <tr>\n",
       "      <th>454</th>\n",
       "      <td>3987693</td>\n",
       "      <td>acquired</td>\n",
       "      <td>2</td>\n",
       "      <td>2013-06-18</td>\n",
       "      <td>2010-09-01</td>\n",
       "      <td>2013-09-03</td>\n",
       "      <td>455</td>\n",
       "      <td>-34</td>\n",
       "      <td>Error</td>\n",
       "    </tr>\n",
       "    <tr>\n",
       "      <th>753</th>\n",
       "      <td>17087500</td>\n",
       "      <td>operating</td>\n",
       "      <td>3</td>\n",
       "      <td>2013-02-05</td>\n",
       "      <td>2009-12-22</td>\n",
       "      <td>2014-06-10</td>\n",
       "      <td>754</td>\n",
       "      <td>-37</td>\n",
       "      <td>Error</td>\n",
       "    </tr>\n",
       "    <tr>\n",
       "      <th>909</th>\n",
       "      <td>5000000</td>\n",
       "      <td>acquired</td>\n",
       "      <td>1</td>\n",
       "      <td>2010-01-01</td>\n",
       "      <td>2004-07-21</td>\n",
       "      <td>2004-07-21</td>\n",
       "      <td>910</td>\n",
       "      <td>-65</td>\n",
       "      <td>Error</td>\n",
       "    </tr>\n",
       "    <tr>\n",
       "      <th>1101</th>\n",
       "      <td>400000</td>\n",
       "      <td>operating</td>\n",
       "      <td>1</td>\n",
       "      <td>2007-03-01</td>\n",
       "      <td>1994-07-09</td>\n",
       "      <td>1994-07-09</td>\n",
       "      <td>1102</td>\n",
       "      <td>-152</td>\n",
       "      <td>Error</td>\n",
       "    </tr>\n",
       "    <tr>\n",
       "      <th>1126</th>\n",
       "      <td>13360000</td>\n",
       "      <td>closed</td>\n",
       "      <td>2</td>\n",
       "      <td>2012-12-01</td>\n",
       "      <td>2005-11-07</td>\n",
       "      <td>2008-09-08</td>\n",
       "      <td>1127</td>\n",
       "      <td>-85</td>\n",
       "      <td>Error</td>\n",
       "    </tr>\n",
       "  </tbody>\n",
       "</table>\n",
       "</div>"
      ],
      "text/plain": [
       "      Total_Funding     status  funding_rounds Date_founded Date_first_funded  \\\n",
       "454         3987693   acquired               2   2013-06-18        2010-09-01   \n",
       "753        17087500  operating               3   2013-02-05        2009-12-22   \n",
       "909         5000000   acquired               1   2010-01-01        2004-07-21   \n",
       "1101         400000  operating               1   2007-03-01        1994-07-09   \n",
       "1126       13360000     closed               2   2012-12-01        2005-11-07   \n",
       "\n",
       "     Date_last_funded    ID  months_2_first_fund Date_Error  \n",
       "454        2013-09-03   455                  -34      Error  \n",
       "753        2014-06-10   754                  -37      Error  \n",
       "909        2004-07-21   910                  -65      Error  \n",
       "1101       1994-07-09  1102                 -152      Error  \n",
       "1126       2008-09-08  1127                  -85      Error  "
      ]
     },
     "execution_count": 27,
     "metadata": {},
     "output_type": "execute_result"
    }
   ],
   "source": [
    "# calculate IQR for column Height\n",
    "Q1 = Date_error_df['months_2_first_fund'].quantile(0.25)\n",
    "Q3 = Date_error_df['months_2_first_fund'].quantile(0.75)\n",
    "IQR = Q3 - Q1\n",
    "\n",
    "# identify outliers\n",
    "threshold = 1.5\n",
    "outliers = Date_error_df[(Date_error_df['months_2_first_fund'] < Q1 - threshold * IQR) | (Date_error_df['months_2_first_fund'] > Q3 + threshold * IQR)]\n",
    "outliers.head()"
   ]
  },
  {
   "cell_type": "code",
   "execution_count": 28,
   "id": "988c81f2-bd95-424e-adda-4facd80eb007",
   "metadata": {},
   "outputs": [],
   "source": [
    "# drop rows containing outliers in the main data frame \n",
    "df = df.drop(outliers.index)"
   ]
  },
  {
   "cell_type": "code",
   "execution_count": 29,
   "id": "27ca7f08-26dc-49d5-9c91-298407d11c14",
   "metadata": {},
   "outputs": [
    {
     "data": {
      "text/html": [
       "<div>\n",
       "<style scoped>\n",
       "    .dataframe tbody tr th:only-of-type {\n",
       "        vertical-align: middle;\n",
       "    }\n",
       "\n",
       "    .dataframe tbody tr th {\n",
       "        vertical-align: top;\n",
       "    }\n",
       "\n",
       "    .dataframe thead th {\n",
       "        text-align: right;\n",
       "    }\n",
       "</style>\n",
       "<table border=\"1\" class=\"dataframe\">\n",
       "  <thead>\n",
       "    <tr style=\"text-align: right;\">\n",
       "      <th></th>\n",
       "      <th>Total_Funding</th>\n",
       "      <th>status</th>\n",
       "      <th>funding_rounds</th>\n",
       "      <th>Date_founded</th>\n",
       "      <th>Date_first_funded</th>\n",
       "      <th>Date_last_funded</th>\n",
       "      <th>ID</th>\n",
       "      <th>months_2_first_fund</th>\n",
       "      <th>Date_Error</th>\n",
       "    </tr>\n",
       "  </thead>\n",
       "  <tbody>\n",
       "    <tr>\n",
       "      <th>1</th>\n",
       "      <td>700000</td>\n",
       "      <td>operating</td>\n",
       "      <td>2</td>\n",
       "      <td>2014-09-04</td>\n",
       "      <td>2014-03-01</td>\n",
       "      <td>2014-10-14</td>\n",
       "      <td>2</td>\n",
       "      <td>-6</td>\n",
       "      <td>Error</td>\n",
       "    </tr>\n",
       "    <tr>\n",
       "      <th>23</th>\n",
       "      <td>2535000</td>\n",
       "      <td>acquired</td>\n",
       "      <td>2</td>\n",
       "      <td>2010-07-01</td>\n",
       "      <td>2010-01-01</td>\n",
       "      <td>2011-02-16</td>\n",
       "      <td>24</td>\n",
       "      <td>-6</td>\n",
       "      <td>Error</td>\n",
       "    </tr>\n",
       "    <tr>\n",
       "      <th>68</th>\n",
       "      <td>5500000</td>\n",
       "      <td>operating</td>\n",
       "      <td>2</td>\n",
       "      <td>2010-01-11</td>\n",
       "      <td>2009-07-01</td>\n",
       "      <td>2011-04-28</td>\n",
       "      <td>69</td>\n",
       "      <td>-6</td>\n",
       "      <td>Error</td>\n",
       "    </tr>\n",
       "    <tr>\n",
       "      <th>91</th>\n",
       "      <td>40000</td>\n",
       "      <td>operating</td>\n",
       "      <td>1</td>\n",
       "      <td>2009-01-19</td>\n",
       "      <td>2008-04-04</td>\n",
       "      <td>2008-04-04</td>\n",
       "      <td>92</td>\n",
       "      <td>-10</td>\n",
       "      <td>Error</td>\n",
       "    </tr>\n",
       "    <tr>\n",
       "      <th>98</th>\n",
       "      <td>43811</td>\n",
       "      <td>closed</td>\n",
       "      <td>2</td>\n",
       "      <td>2009-08-26</td>\n",
       "      <td>2009-05-01</td>\n",
       "      <td>2009-10-01</td>\n",
       "      <td>99</td>\n",
       "      <td>-4</td>\n",
       "      <td>Error</td>\n",
       "    </tr>\n",
       "  </tbody>\n",
       "</table>\n",
       "</div>"
      ],
      "text/plain": [
       "    Total_Funding     status  funding_rounds Date_founded Date_first_funded  \\\n",
       "1          700000  operating               2   2014-09-04        2014-03-01   \n",
       "23        2535000   acquired               2   2010-07-01        2010-01-01   \n",
       "68        5500000  operating               2   2010-01-11        2009-07-01   \n",
       "91          40000  operating               1   2009-01-19        2008-04-04   \n",
       "98          43811     closed               2   2009-08-26        2009-05-01   \n",
       "\n",
       "   Date_last_funded  ID  months_2_first_fund Date_Error  \n",
       "1        2014-10-14   2                   -6      Error  \n",
       "23       2011-02-16  24                   -6      Error  \n",
       "68       2011-04-28  69                   -6      Error  \n",
       "91       2008-04-04  92                  -10      Error  \n",
       "98       2009-10-01  99                   -4      Error  "
      ]
     },
     "execution_count": 29,
     "metadata": {},
     "output_type": "execute_result"
    }
   ],
   "source": [
    "# drop rows containing outliers in the Date_error_df data frame so that there is only the IQR records in Date_errors_df\n",
    "Date_error_df = Date_error_df.drop(outliers.index)\n",
    "Date_error_df.head()"
   ]
  },
  {
   "cell_type": "code",
   "execution_count": 30,
   "id": "c2bba1ce-6d05-4f28-bb84-dd1fd33872f0",
   "metadata": {},
   "outputs": [
    {
     "data": {
      "text/plain": [
       "10.0"
      ]
     },
     "execution_count": 30,
     "metadata": {},
     "output_type": "execute_result"
    }
   ],
   "source": [
    "IQR"
   ]
  },
  {
   "cell_type": "markdown",
   "id": "29a7f361-1168-43cb-a23e-192255f72d41",
   "metadata": {},
   "source": [
    "In the data error `Date_error_df` the IQR was calculated and is indiated above as being `10 months` therefore to ressolve the error and not loose these records it is possible to use the index numbers from the `Date_error_df` to impute the `Date_last_funded`. \n",
    "  \n",
    "It was calculated that the average duration from the date the company was founded to the date of the first grant to be `3 years or 36 months`\n",
    "  \n",
    "Therefore the error reccords that remain in the dataframe `Date_error_df` can be resolved by adding a further 36 months to the `Date_founded`"
   ]
  },
  {
   "cell_type": "code",
   "execution_count": 31,
   "id": "ea3d2bc0-6f19-4c14-a0be-f96dbb1df11c",
   "metadata": {},
   "outputs": [],
   "source": [
    "Date_error_df['Date_founded1'] = Date_error_df['Date_founded'] - pd.DateOffset(years=3)"
   ]
  },
  {
   "cell_type": "code",
   "execution_count": 32,
   "id": "27368e31-2560-43d0-b06b-ab3668713048",
   "metadata": {},
   "outputs": [
    {
     "data": {
      "text/html": [
       "<div>\n",
       "<style scoped>\n",
       "    .dataframe tbody tr th:only-of-type {\n",
       "        vertical-align: middle;\n",
       "    }\n",
       "\n",
       "    .dataframe tbody tr th {\n",
       "        vertical-align: top;\n",
       "    }\n",
       "\n",
       "    .dataframe thead th {\n",
       "        text-align: right;\n",
       "    }\n",
       "</style>\n",
       "<table border=\"1\" class=\"dataframe\">\n",
       "  <thead>\n",
       "    <tr style=\"text-align: right;\">\n",
       "      <th></th>\n",
       "      <th>ID</th>\n",
       "      <th>Date_founded1</th>\n",
       "    </tr>\n",
       "  </thead>\n",
       "  <tbody>\n",
       "    <tr>\n",
       "      <th>1</th>\n",
       "      <td>2</td>\n",
       "      <td>2011-09-04</td>\n",
       "    </tr>\n",
       "    <tr>\n",
       "      <th>23</th>\n",
       "      <td>24</td>\n",
       "      <td>2007-07-01</td>\n",
       "    </tr>\n",
       "    <tr>\n",
       "      <th>68</th>\n",
       "      <td>69</td>\n",
       "      <td>2007-01-11</td>\n",
       "    </tr>\n",
       "    <tr>\n",
       "      <th>91</th>\n",
       "      <td>92</td>\n",
       "      <td>2006-01-19</td>\n",
       "    </tr>\n",
       "    <tr>\n",
       "      <th>98</th>\n",
       "      <td>99</td>\n",
       "      <td>2006-08-26</td>\n",
       "    </tr>\n",
       "  </tbody>\n",
       "</table>\n",
       "</div>"
      ],
      "text/plain": [
       "    ID Date_founded1\n",
       "1    2    2011-09-04\n",
       "23  24    2007-07-01\n",
       "68  69    2007-01-11\n",
       "91  92    2006-01-19\n",
       "98  99    2006-08-26"
      ]
     },
     "execution_count": 32,
     "metadata": {},
     "output_type": "execute_result"
    }
   ],
   "source": [
    "Date_error_df.drop(['Total_Funding','status','funding_rounds','Date_first_funded','Date_last_funded','months_2_first_fund','Date_Error','Date_founded'], axis = 1, inplace = True)\n",
    "Date_error_df.head()"
   ]
  },
  {
   "cell_type": "code",
   "execution_count": 33,
   "id": "c1a92f9c-5b9a-4eb7-8a39-505a7a735f95",
   "metadata": {},
   "outputs": [
    {
     "data": {
      "text/html": [
       "<div>\n",
       "<style scoped>\n",
       "    .dataframe tbody tr th:only-of-type {\n",
       "        vertical-align: middle;\n",
       "    }\n",
       "\n",
       "    .dataframe tbody tr th {\n",
       "        vertical-align: top;\n",
       "    }\n",
       "\n",
       "    .dataframe thead th {\n",
       "        text-align: right;\n",
       "    }\n",
       "</style>\n",
       "<table border=\"1\" class=\"dataframe\">\n",
       "  <thead>\n",
       "    <tr style=\"text-align: right;\">\n",
       "      <th></th>\n",
       "      <th>Total_Funding</th>\n",
       "      <th>status</th>\n",
       "      <th>funding_rounds</th>\n",
       "      <th>Date_founded</th>\n",
       "      <th>Date_first_funded</th>\n",
       "      <th>Date_last_funded</th>\n",
       "      <th>ID</th>\n",
       "      <th>months_2_first_fund</th>\n",
       "      <th>Date_Error</th>\n",
       "      <th>Date_founded1</th>\n",
       "    </tr>\n",
       "  </thead>\n",
       "  <tbody>\n",
       "    <tr>\n",
       "      <th>0</th>\n",
       "      <td>10000000</td>\n",
       "      <td>operating</td>\n",
       "      <td>1</td>\n",
       "      <td>2012-01-05</td>\n",
       "      <td>2015-01-05</td>\n",
       "      <td>2015-01-05</td>\n",
       "      <td>1</td>\n",
       "      <td>36</td>\n",
       "      <td>OK</td>\n",
       "      <td>NaT</td>\n",
       "    </tr>\n",
       "    <tr>\n",
       "      <th>1</th>\n",
       "      <td>700000</td>\n",
       "      <td>operating</td>\n",
       "      <td>2</td>\n",
       "      <td>2014-09-04</td>\n",
       "      <td>2014-03-01</td>\n",
       "      <td>2014-10-14</td>\n",
       "      <td>2</td>\n",
       "      <td>-6</td>\n",
       "      <td>Error</td>\n",
       "      <td>2011-09-04</td>\n",
       "    </tr>\n",
       "    <tr>\n",
       "      <th>2</th>\n",
       "      <td>3406878</td>\n",
       "      <td>operating</td>\n",
       "      <td>1</td>\n",
       "      <td>2011-01-30</td>\n",
       "      <td>2014-01-30</td>\n",
       "      <td>2014-01-30</td>\n",
       "      <td>3</td>\n",
       "      <td>36</td>\n",
       "      <td>OK</td>\n",
       "      <td>NaT</td>\n",
       "    </tr>\n",
       "    <tr>\n",
       "      <th>3</th>\n",
       "      <td>2000000</td>\n",
       "      <td>operating</td>\n",
       "      <td>1</td>\n",
       "      <td>2007-01-01</td>\n",
       "      <td>2008-03-19</td>\n",
       "      <td>2008-03-19</td>\n",
       "      <td>4</td>\n",
       "      <td>15</td>\n",
       "      <td>OK</td>\n",
       "      <td>NaT</td>\n",
       "    </tr>\n",
       "    <tr>\n",
       "      <th>4</th>\n",
       "      <td>0</td>\n",
       "      <td>operating</td>\n",
       "      <td>1</td>\n",
       "      <td>2010-01-01</td>\n",
       "      <td>2014-07-24</td>\n",
       "      <td>2014-07-24</td>\n",
       "      <td>5</td>\n",
       "      <td>55</td>\n",
       "      <td>OK</td>\n",
       "      <td>NaT</td>\n",
       "    </tr>\n",
       "    <tr>\n",
       "      <th>...</th>\n",
       "      <td>...</td>\n",
       "      <td>...</td>\n",
       "      <td>...</td>\n",
       "      <td>...</td>\n",
       "      <td>...</td>\n",
       "      <td>...</td>\n",
       "      <td>...</td>\n",
       "      <td>...</td>\n",
       "      <td>...</td>\n",
       "      <td>...</td>\n",
       "    </tr>\n",
       "    <tr>\n",
       "      <th>66052</th>\n",
       "      <td>1587301</td>\n",
       "      <td>operating</td>\n",
       "      <td>1</td>\n",
       "      <td>2009-04-01</td>\n",
       "      <td>2012-04-01</td>\n",
       "      <td>2012-04-01</td>\n",
       "      <td>66364</td>\n",
       "      <td>36</td>\n",
       "      <td>OK</td>\n",
       "      <td>NaT</td>\n",
       "    </tr>\n",
       "    <tr>\n",
       "      <th>66053</th>\n",
       "      <td>114304</td>\n",
       "      <td>operating</td>\n",
       "      <td>4</td>\n",
       "      <td>2012-05-13</td>\n",
       "      <td>2011-11-01</td>\n",
       "      <td>2014-03-01</td>\n",
       "      <td>66365</td>\n",
       "      <td>-6</td>\n",
       "      <td>Error</td>\n",
       "      <td>2009-05-13</td>\n",
       "    </tr>\n",
       "    <tr>\n",
       "      <th>66054</th>\n",
       "      <td>0</td>\n",
       "      <td>operating</td>\n",
       "      <td>1</td>\n",
       "      <td>2011-01-01</td>\n",
       "      <td>2014-08-01</td>\n",
       "      <td>2014-08-01</td>\n",
       "      <td>66366</td>\n",
       "      <td>43</td>\n",
       "      <td>OK</td>\n",
       "      <td>NaT</td>\n",
       "    </tr>\n",
       "    <tr>\n",
       "      <th>66055</th>\n",
       "      <td>18192</td>\n",
       "      <td>operating</td>\n",
       "      <td>1</td>\n",
       "      <td>2014-01-01</td>\n",
       "      <td>2015-01-01</td>\n",
       "      <td>2015-01-01</td>\n",
       "      <td>66367</td>\n",
       "      <td>12</td>\n",
       "      <td>OK</td>\n",
       "      <td>NaT</td>\n",
       "    </tr>\n",
       "    <tr>\n",
       "      <th>66056</th>\n",
       "      <td>14851</td>\n",
       "      <td>operating</td>\n",
       "      <td>1</td>\n",
       "      <td>2010-10-01</td>\n",
       "      <td>2013-10-01</td>\n",
       "      <td>2013-10-01</td>\n",
       "      <td>66368</td>\n",
       "      <td>36</td>\n",
       "      <td>OK</td>\n",
       "      <td>NaT</td>\n",
       "    </tr>\n",
       "  </tbody>\n",
       "</table>\n",
       "<p>66057 rows × 10 columns</p>\n",
       "</div>"
      ],
      "text/plain": [
       "       Total_Funding     status  funding_rounds Date_founded  \\\n",
       "0           10000000  operating               1   2012-01-05   \n",
       "1             700000  operating               2   2014-09-04   \n",
       "2            3406878  operating               1   2011-01-30   \n",
       "3            2000000  operating               1   2007-01-01   \n",
       "4                  0  operating               1   2010-01-01   \n",
       "...              ...        ...             ...          ...   \n",
       "66052        1587301  operating               1   2009-04-01   \n",
       "66053         114304  operating               4   2012-05-13   \n",
       "66054              0  operating               1   2011-01-01   \n",
       "66055          18192  operating               1   2014-01-01   \n",
       "66056          14851  operating               1   2010-10-01   \n",
       "\n",
       "      Date_first_funded Date_last_funded     ID  months_2_first_fund  \\\n",
       "0            2015-01-05       2015-01-05      1                   36   \n",
       "1            2014-03-01       2014-10-14      2                   -6   \n",
       "2            2014-01-30       2014-01-30      3                   36   \n",
       "3            2008-03-19       2008-03-19      4                   15   \n",
       "4            2014-07-24       2014-07-24      5                   55   \n",
       "...                 ...              ...    ...                  ...   \n",
       "66052        2012-04-01       2012-04-01  66364                   36   \n",
       "66053        2011-11-01       2014-03-01  66365                   -6   \n",
       "66054        2014-08-01       2014-08-01  66366                   43   \n",
       "66055        2015-01-01       2015-01-01  66367                   12   \n",
       "66056        2013-10-01       2013-10-01  66368                   36   \n",
       "\n",
       "      Date_Error Date_founded1  \n",
       "0             OK           NaT  \n",
       "1          Error    2011-09-04  \n",
       "2             OK           NaT  \n",
       "3             OK           NaT  \n",
       "4             OK           NaT  \n",
       "...          ...           ...  \n",
       "66052         OK           NaT  \n",
       "66053      Error    2009-05-13  \n",
       "66054         OK           NaT  \n",
       "66055         OK           NaT  \n",
       "66056         OK           NaT  \n",
       "\n",
       "[66057 rows x 10 columns]"
      ]
     },
     "execution_count": 33,
     "metadata": {},
     "output_type": "execute_result"
    }
   ],
   "source": [
    "dates = [df,Date_error_df]\n",
    "dfs = reduce(lambda  left,right: pd.merge(left,right,on=['ID'], how='outer'), dates)\n",
    "dfs"
   ]
  },
  {
   "cell_type": "code",
   "execution_count": 34,
   "id": "cffd1639-1b1c-40bf-9fbd-75ddf228cb2f",
   "metadata": {},
   "outputs": [
    {
     "data": {
      "text/html": [
       "<div>\n",
       "<style scoped>\n",
       "    .dataframe tbody tr th:only-of-type {\n",
       "        vertical-align: middle;\n",
       "    }\n",
       "\n",
       "    .dataframe tbody tr th {\n",
       "        vertical-align: top;\n",
       "    }\n",
       "\n",
       "    .dataframe thead th {\n",
       "        text-align: right;\n",
       "    }\n",
       "</style>\n",
       "<table border=\"1\" class=\"dataframe\">\n",
       "  <thead>\n",
       "    <tr style=\"text-align: right;\">\n",
       "      <th></th>\n",
       "      <th>Total_Funding</th>\n",
       "      <th>status</th>\n",
       "      <th>funding_rounds</th>\n",
       "      <th>Date_first_funded</th>\n",
       "      <th>Date_last_funded</th>\n",
       "      <th>ID</th>\n",
       "      <th>Date_founded</th>\n",
       "    </tr>\n",
       "  </thead>\n",
       "  <tbody>\n",
       "    <tr>\n",
       "      <th>0</th>\n",
       "      <td>10000000</td>\n",
       "      <td>operating</td>\n",
       "      <td>1</td>\n",
       "      <td>2015-01-05</td>\n",
       "      <td>2015-01-05</td>\n",
       "      <td>1</td>\n",
       "      <td>2012-01-05</td>\n",
       "    </tr>\n",
       "    <tr>\n",
       "      <th>1</th>\n",
       "      <td>700000</td>\n",
       "      <td>operating</td>\n",
       "      <td>2</td>\n",
       "      <td>2014-03-01</td>\n",
       "      <td>2014-10-14</td>\n",
       "      <td>2</td>\n",
       "      <td>2011-09-04</td>\n",
       "    </tr>\n",
       "    <tr>\n",
       "      <th>2</th>\n",
       "      <td>3406878</td>\n",
       "      <td>operating</td>\n",
       "      <td>1</td>\n",
       "      <td>2014-01-30</td>\n",
       "      <td>2014-01-30</td>\n",
       "      <td>3</td>\n",
       "      <td>2011-01-30</td>\n",
       "    </tr>\n",
       "    <tr>\n",
       "      <th>3</th>\n",
       "      <td>2000000</td>\n",
       "      <td>operating</td>\n",
       "      <td>1</td>\n",
       "      <td>2008-03-19</td>\n",
       "      <td>2008-03-19</td>\n",
       "      <td>4</td>\n",
       "      <td>2007-01-01</td>\n",
       "    </tr>\n",
       "    <tr>\n",
       "      <th>4</th>\n",
       "      <td>0</td>\n",
       "      <td>operating</td>\n",
       "      <td>1</td>\n",
       "      <td>2014-07-24</td>\n",
       "      <td>2014-07-24</td>\n",
       "      <td>5</td>\n",
       "      <td>2010-01-01</td>\n",
       "    </tr>\n",
       "  </tbody>\n",
       "</table>\n",
       "</div>"
      ],
      "text/plain": [
       "   Total_Funding     status  funding_rounds Date_first_funded  \\\n",
       "0       10000000  operating               1        2015-01-05   \n",
       "1         700000  operating               2        2014-03-01   \n",
       "2        3406878  operating               1        2014-01-30   \n",
       "3        2000000  operating               1        2008-03-19   \n",
       "4              0  operating               1        2014-07-24   \n",
       "\n",
       "  Date_last_funded  ID Date_founded  \n",
       "0       2015-01-05   1   2012-01-05  \n",
       "1       2014-10-14   2   2011-09-04  \n",
       "2       2014-01-30   3   2011-01-30  \n",
       "3       2008-03-19   4   2007-01-01  \n",
       "4       2014-07-24   5   2010-01-01  "
      ]
     },
     "execution_count": 34,
     "metadata": {},
     "output_type": "execute_result"
    }
   ],
   "source": [
    "date_founded = dfs['Date_founded']\n",
    "dfs['Date_founded1'] = dfs['Date_founded1'].fillna(date_founded)\n",
    "dfs.drop(['Date_founded','months_2_first_fund', 'Date_Error'], axis = 1, inplace = True)\n",
    "dfs.rename(columns ={'Date_founded1':'Date_founded'}, inplace = True)\n",
    "dfs.head()"
   ]
  },
  {
   "cell_type": "code",
   "execution_count": 35,
   "id": "d5a95a7b-9d01-463f-81aa-7e604e7dc4ab",
   "metadata": {},
   "outputs": [
    {
     "data": {
      "text/html": [
       "<div>\n",
       "<style scoped>\n",
       "    .dataframe tbody tr th:only-of-type {\n",
       "        vertical-align: middle;\n",
       "    }\n",
       "\n",
       "    .dataframe tbody tr th {\n",
       "        vertical-align: top;\n",
       "    }\n",
       "\n",
       "    .dataframe thead th {\n",
       "        text-align: right;\n",
       "    }\n",
       "</style>\n",
       "<table border=\"1\" class=\"dataframe\">\n",
       "  <thead>\n",
       "    <tr style=\"text-align: right;\">\n",
       "      <th></th>\n",
       "      <th>Total_Funding</th>\n",
       "      <th>status</th>\n",
       "      <th>funding_rounds</th>\n",
       "      <th>Date_first_funded</th>\n",
       "      <th>Date_last_funded</th>\n",
       "      <th>ID</th>\n",
       "      <th>Date_founded</th>\n",
       "      <th>months_2_first_fund</th>\n",
       "    </tr>\n",
       "  </thead>\n",
       "  <tbody>\n",
       "    <tr>\n",
       "      <th>0</th>\n",
       "      <td>10000000</td>\n",
       "      <td>operating</td>\n",
       "      <td>1</td>\n",
       "      <td>2015-01-05</td>\n",
       "      <td>2015-01-05</td>\n",
       "      <td>1</td>\n",
       "      <td>2012-01-05</td>\n",
       "      <td>36</td>\n",
       "    </tr>\n",
       "    <tr>\n",
       "      <th>1</th>\n",
       "      <td>700000</td>\n",
       "      <td>operating</td>\n",
       "      <td>2</td>\n",
       "      <td>2014-03-01</td>\n",
       "      <td>2014-10-14</td>\n",
       "      <td>2</td>\n",
       "      <td>2011-09-04</td>\n",
       "      <td>30</td>\n",
       "    </tr>\n",
       "    <tr>\n",
       "      <th>2</th>\n",
       "      <td>3406878</td>\n",
       "      <td>operating</td>\n",
       "      <td>1</td>\n",
       "      <td>2014-01-30</td>\n",
       "      <td>2014-01-30</td>\n",
       "      <td>3</td>\n",
       "      <td>2011-01-30</td>\n",
       "      <td>36</td>\n",
       "    </tr>\n",
       "    <tr>\n",
       "      <th>3</th>\n",
       "      <td>2000000</td>\n",
       "      <td>operating</td>\n",
       "      <td>1</td>\n",
       "      <td>2008-03-19</td>\n",
       "      <td>2008-03-19</td>\n",
       "      <td>4</td>\n",
       "      <td>2007-01-01</td>\n",
       "      <td>15</td>\n",
       "    </tr>\n",
       "    <tr>\n",
       "      <th>4</th>\n",
       "      <td>0</td>\n",
       "      <td>operating</td>\n",
       "      <td>1</td>\n",
       "      <td>2014-07-24</td>\n",
       "      <td>2014-07-24</td>\n",
       "      <td>5</td>\n",
       "      <td>2010-01-01</td>\n",
       "      <td>55</td>\n",
       "    </tr>\n",
       "  </tbody>\n",
       "</table>\n",
       "</div>"
      ],
      "text/plain": [
       "   Total_Funding     status  funding_rounds Date_first_funded  \\\n",
       "0       10000000  operating               1        2015-01-05   \n",
       "1         700000  operating               2        2014-03-01   \n",
       "2        3406878  operating               1        2014-01-30   \n",
       "3        2000000  operating               1        2008-03-19   \n",
       "4              0  operating               1        2014-07-24   \n",
       "\n",
       "  Date_last_funded  ID Date_founded  months_2_first_fund  \n",
       "0       2015-01-05   1   2012-01-05                   36  \n",
       "1       2014-10-14   2   2011-09-04                   30  \n",
       "2       2014-01-30   3   2011-01-30                   36  \n",
       "3       2008-03-19   4   2007-01-01                   15  \n",
       "4       2014-07-24   5   2010-01-01                   55  "
      ]
     },
     "execution_count": 35,
     "metadata": {},
     "output_type": "execute_result"
    }
   ],
   "source": [
    "dfs['months_2_first_fund'] = round((dfs['Date_first_funded'] - dfs['Date_founded']) / np.timedelta64(1, 'M'),0).astype(int)\n",
    "dfs.head()"
   ]
  },
  {
   "cell_type": "code",
   "execution_count": 36,
   "id": "f5bf0668-55f9-40b0-bfe7-fb668b61f658",
   "metadata": {},
   "outputs": [
    {
     "data": {
      "text/plain": [
       "0"
      ]
     },
     "execution_count": 36,
     "metadata": {},
     "output_type": "execute_result"
    }
   ],
   "source": [
    "(dfs['months_2_first_fund'] < 0).sum().sum()"
   ]
  },
  {
   "cell_type": "markdown",
   "id": "0e9b3fe9-0cf6-4f0a-8f58-558cd3d875ec",
   "metadata": {},
   "source": [
    "#### 2.17. Count number of businesses that received no funding (Total funding = 0)"
   ]
  },
  {
   "cell_type": "code",
   "execution_count": 37,
   "id": "e2d8c90f-374d-4093-973a-0f233cb69e2e",
   "metadata": {},
   "outputs": [
    {
     "data": {
      "text/plain": [
       "12736"
      ]
     },
     "execution_count": 37,
     "metadata": {},
     "output_type": "execute_result"
    }
   ],
   "source": [
    "unfunded = (dfs['Total_Funding'] == 0).sum().sum()\n",
    "unfunded"
   ]
  },
  {
   "cell_type": "markdown",
   "id": "ddfb4fbe-c05d-44a1-b52f-7cb58a1058fe",
   "metadata": {},
   "source": [
    "#### 2.18. Create the Success variable which will be the response variable (dependent variable). \n",
    "\n",
    "Startup status has the following categories and are recorded as indicated in the table below:\n",
    "\n",
    "<table>\n",
    "<thead>\n",
    "<tr><th>Status</th><th>SuccessFailure</th></tr>\n",
    "</thead>\n",
    "<tbody>\n",
    "<tr><td>operating</td><td>Success</td></tr>\n",
    "<tr><td>closed</td><td>Failure</td></tr>\n",
    "<tr><td>acquired</td><td>Success</td></tr>\n",
    "<tr><td>ipo</td><td> Success</td></tr>\n",
    "</tbody>\n",
    "</table>\n"
   ]
  },
  {
   "cell_type": "code",
   "execution_count": 38,
   "id": "681f86b9-6d02-454a-8b93-df042a852899",
   "metadata": {},
   "outputs": [],
   "source": [
    "def Success(row):\n",
    "    if row['status'] == \"closed\":\n",
    "        return 'Failure'\n",
    "    elif row['status'] == 'acquired':\n",
    "        return 'Success'\n",
    "    elif row['status'] == 'ipo':\n",
    "        return 'Success'\n",
    "    else:\n",
    "        return 'Success'\n",
    "dfs = dfs.assign(SuccessFailure=dfs.apply(Success, axis=1))"
   ]
  },
  {
   "cell_type": "markdown",
   "id": "f6545e91-34de-465c-ac39-f81d449af81b",
   "metadata": {},
   "source": [
    "#### 2.19. Create the Unfunded variable which will be a predictor variable (independent variable)."
   ]
  },
  {
   "cell_type": "code",
   "execution_count": 39,
   "id": "3c9de2ff-3f2e-43fc-b769-b803e75de44e",
   "metadata": {},
   "outputs": [],
   "source": [
    "def NotFunded(row):\n",
    "    if row['Total_Funding'] == 0:\n",
    "        return 'Unfunded'\n",
    "    else:\n",
    "        return 'Funded'\n",
    "dfs = dfs.assign(Unfunded_1 = dfs.apply(NotFunded, axis=1))"
   ]
  },
  {
   "cell_type": "markdown",
   "id": "6d5b0a69-cbc4-4f3f-840a-a040402411e0",
   "metadata": {},
   "source": [
    "#### 2.20. Drop fields that are not required for the regression model\n",
    "Drop the three date fields as they are not required or the regression model.  \n",
    "Drop the ID fields as it has no purpose in the regression model.  \n"
   ]
  },
  {
   "cell_type": "code",
   "execution_count": 40,
   "id": "389af754-6714-46eb-bd7f-42292bf9f5a0",
   "metadata": {},
   "outputs": [
    {
     "data": {
      "text/html": [
       "<div>\n",
       "<style scoped>\n",
       "    .dataframe tbody tr th:only-of-type {\n",
       "        vertical-align: middle;\n",
       "    }\n",
       "\n",
       "    .dataframe tbody tr th {\n",
       "        vertical-align: top;\n",
       "    }\n",
       "\n",
       "    .dataframe thead th {\n",
       "        text-align: right;\n",
       "    }\n",
       "</style>\n",
       "<table border=\"1\" class=\"dataframe\">\n",
       "  <thead>\n",
       "    <tr style=\"text-align: right;\">\n",
       "      <th></th>\n",
       "      <th>Total_Funding</th>\n",
       "      <th>funding_rounds</th>\n",
       "      <th>months_2_first_fund</th>\n",
       "      <th>SuccessFailure</th>\n",
       "      <th>Unfunded_1</th>\n",
       "    </tr>\n",
       "  </thead>\n",
       "  <tbody>\n",
       "    <tr>\n",
       "      <th>0</th>\n",
       "      <td>10000000</td>\n",
       "      <td>1</td>\n",
       "      <td>36</td>\n",
       "      <td>Success</td>\n",
       "      <td>Funded</td>\n",
       "    </tr>\n",
       "    <tr>\n",
       "      <th>1</th>\n",
       "      <td>700000</td>\n",
       "      <td>2</td>\n",
       "      <td>30</td>\n",
       "      <td>Success</td>\n",
       "      <td>Funded</td>\n",
       "    </tr>\n",
       "    <tr>\n",
       "      <th>2</th>\n",
       "      <td>3406878</td>\n",
       "      <td>1</td>\n",
       "      <td>36</td>\n",
       "      <td>Success</td>\n",
       "      <td>Funded</td>\n",
       "    </tr>\n",
       "    <tr>\n",
       "      <th>3</th>\n",
       "      <td>2000000</td>\n",
       "      <td>1</td>\n",
       "      <td>15</td>\n",
       "      <td>Success</td>\n",
       "      <td>Funded</td>\n",
       "    </tr>\n",
       "    <tr>\n",
       "      <th>4</th>\n",
       "      <td>0</td>\n",
       "      <td>1</td>\n",
       "      <td>55</td>\n",
       "      <td>Success</td>\n",
       "      <td>Unfunded</td>\n",
       "    </tr>\n",
       "  </tbody>\n",
       "</table>\n",
       "</div>"
      ],
      "text/plain": [
       "   Total_Funding  funding_rounds  months_2_first_fund SuccessFailure  \\\n",
       "0       10000000               1                   36        Success   \n",
       "1         700000               2                   30        Success   \n",
       "2        3406878               1                   36        Success   \n",
       "3        2000000               1                   15        Success   \n",
       "4              0               1                   55        Success   \n",
       "\n",
       "  Unfunded_1  \n",
       "0     Funded  \n",
       "1     Funded  \n",
       "2     Funded  \n",
       "3     Funded  \n",
       "4   Unfunded  "
      ]
     },
     "execution_count": 40,
     "metadata": {},
     "output_type": "execute_result"
    }
   ],
   "source": [
    "dfs.drop(['Date_founded','Date_first_funded','Date_last_funded','ID','status'], axis = 1, inplace = True)\n",
    "dfs.head()"
   ]
  },
  {
   "cell_type": "markdown",
   "id": "cdc40250-ca1e-49ea-ae40-ecb677834e3e",
   "metadata": {},
   "source": [
    "### 3. Create dummy variables"
   ]
  },
  {
   "cell_type": "markdown",
   "id": "22af393e-ad96-438e-be06-f61c95ade0bf",
   "metadata": {},
   "source": [
    "#### 3.1. Create dummy variables from categorical predictor funded/unfunded\n",
    "Create dummy variable column for the `NotFunded` column and assign them to variables. Remove unnecessary columns from the data frame."
   ]
  },
  {
   "cell_type": "code",
   "execution_count": 41,
   "id": "90c36ce5-e315-4b00-bbca-9682ab2dccb6",
   "metadata": {},
   "outputs": [
    {
     "data": {
      "text/html": [
       "<div>\n",
       "<style scoped>\n",
       "    .dataframe tbody tr th:only-of-type {\n",
       "        vertical-align: middle;\n",
       "    }\n",
       "\n",
       "    .dataframe tbody tr th {\n",
       "        vertical-align: top;\n",
       "    }\n",
       "\n",
       "    .dataframe thead th {\n",
       "        text-align: right;\n",
       "    }\n",
       "</style>\n",
       "<table border=\"1\" class=\"dataframe\">\n",
       "  <thead>\n",
       "    <tr style=\"text-align: right;\">\n",
       "      <th></th>\n",
       "      <th>Total_Funding</th>\n",
       "      <th>funding_rounds</th>\n",
       "      <th>months_2_first_fund</th>\n",
       "      <th>SuccessFailure</th>\n",
       "      <th>Unfunded_1</th>\n",
       "      <th>Unfunded</th>\n",
       "    </tr>\n",
       "  </thead>\n",
       "  <tbody>\n",
       "    <tr>\n",
       "      <th>8981</th>\n",
       "      <td>36962500</td>\n",
       "      <td>6</td>\n",
       "      <td>4</td>\n",
       "      <td>Success</td>\n",
       "      <td>Funded</td>\n",
       "      <td>0</td>\n",
       "    </tr>\n",
       "    <tr>\n",
       "      <th>52036</th>\n",
       "      <td>388333</td>\n",
       "      <td>2</td>\n",
       "      <td>2</td>\n",
       "      <td>Success</td>\n",
       "      <td>Funded</td>\n",
       "      <td>0</td>\n",
       "    </tr>\n",
       "    <tr>\n",
       "      <th>40319</th>\n",
       "      <td>549970</td>\n",
       "      <td>1</td>\n",
       "      <td>28</td>\n",
       "      <td>Failure</td>\n",
       "      <td>Funded</td>\n",
       "      <td>0</td>\n",
       "    </tr>\n",
       "    <tr>\n",
       "      <th>14009</th>\n",
       "      <td>2400000</td>\n",
       "      <td>1</td>\n",
       "      <td>43</td>\n",
       "      <td>Success</td>\n",
       "      <td>Funded</td>\n",
       "      <td>0</td>\n",
       "    </tr>\n",
       "    <tr>\n",
       "      <th>21014</th>\n",
       "      <td>953561</td>\n",
       "      <td>1</td>\n",
       "      <td>36</td>\n",
       "      <td>Success</td>\n",
       "      <td>Funded</td>\n",
       "      <td>0</td>\n",
       "    </tr>\n",
       "  </tbody>\n",
       "</table>\n",
       "</div>"
      ],
      "text/plain": [
       "       Total_Funding  funding_rounds  months_2_first_fund SuccessFailure  \\\n",
       "8981        36962500               6                    4        Success   \n",
       "52036         388333               2                    2        Success   \n",
       "40319         549970               1                   28        Failure   \n",
       "14009        2400000               1                   43        Success   \n",
       "21014         953561               1                   36        Success   \n",
       "\n",
       "      Unfunded_1  Unfunded  \n",
       "8981      Funded         0  \n",
       "52036     Funded         0  \n",
       "40319     Funded         0  \n",
       "14009     Funded         0  \n",
       "21014     Funded         0  "
      ]
     },
     "execution_count": 41,
     "metadata": {},
     "output_type": "execute_result"
    }
   ],
   "source": [
    "funding_data = pd.get_dummies(dfs['Unfunded_1'], drop_first = True)\n",
    "dfs = pd.concat([dfs, funding_data], axis = 1)\n",
    "dfs.sample(5)"
   ]
  },
  {
   "cell_type": "markdown",
   "id": "3579b4d0-1a62-4992-855b-562f5705b951",
   "metadata": {},
   "source": [
    "#### 3.2. Create dummy variables from response variable Succcess"
   ]
  },
  {
   "cell_type": "markdown",
   "id": "2e7c8f71-9c58-4e63-9d26-715b1c87ac37",
   "metadata": {},
   "source": [
    "Create dummy variable column for the `SuccessFailure` column and assign them to variables. Remove unnecessary columns from the data frame."
   ]
  },
  {
   "cell_type": "code",
   "execution_count": 42,
   "id": "1c20302f-ec46-4a11-8555-fa0a9bf23265",
   "metadata": {},
   "outputs": [
    {
     "data": {
      "text/html": [
       "<div>\n",
       "<style scoped>\n",
       "    .dataframe tbody tr th:only-of-type {\n",
       "        vertical-align: middle;\n",
       "    }\n",
       "\n",
       "    .dataframe tbody tr th {\n",
       "        vertical-align: top;\n",
       "    }\n",
       "\n",
       "    .dataframe thead th {\n",
       "        text-align: right;\n",
       "    }\n",
       "</style>\n",
       "<table border=\"1\" class=\"dataframe\">\n",
       "  <thead>\n",
       "    <tr style=\"text-align: right;\">\n",
       "      <th></th>\n",
       "      <th>Total_Funding</th>\n",
       "      <th>funding_rounds</th>\n",
       "      <th>months_2_first_fund</th>\n",
       "      <th>SuccessFailure</th>\n",
       "      <th>Unfunded_1</th>\n",
       "      <th>Unfunded</th>\n",
       "      <th>Success</th>\n",
       "    </tr>\n",
       "  </thead>\n",
       "  <tbody>\n",
       "    <tr>\n",
       "      <th>13417</th>\n",
       "      <td>350000</td>\n",
       "      <td>1</td>\n",
       "      <td>33</td>\n",
       "      <td>Success</td>\n",
       "      <td>Funded</td>\n",
       "      <td>0</td>\n",
       "      <td>1</td>\n",
       "    </tr>\n",
       "    <tr>\n",
       "      <th>51678</th>\n",
       "      <td>0</td>\n",
       "      <td>2</td>\n",
       "      <td>8</td>\n",
       "      <td>Failure</td>\n",
       "      <td>Unfunded</td>\n",
       "      <td>1</td>\n",
       "      <td>0</td>\n",
       "    </tr>\n",
       "    <tr>\n",
       "      <th>39295</th>\n",
       "      <td>500000</td>\n",
       "      <td>2</td>\n",
       "      <td>1</td>\n",
       "      <td>Success</td>\n",
       "      <td>Funded</td>\n",
       "      <td>0</td>\n",
       "      <td>1</td>\n",
       "    </tr>\n",
       "    <tr>\n",
       "      <th>57899</th>\n",
       "      <td>11791613</td>\n",
       "      <td>3</td>\n",
       "      <td>13</td>\n",
       "      <td>Success</td>\n",
       "      <td>Funded</td>\n",
       "      <td>0</td>\n",
       "      <td>1</td>\n",
       "    </tr>\n",
       "    <tr>\n",
       "      <th>4506</th>\n",
       "      <td>0</td>\n",
       "      <td>1</td>\n",
       "      <td>9</td>\n",
       "      <td>Success</td>\n",
       "      <td>Unfunded</td>\n",
       "      <td>1</td>\n",
       "      <td>1</td>\n",
       "    </tr>\n",
       "    <tr>\n",
       "      <th>6361</th>\n",
       "      <td>40000000</td>\n",
       "      <td>1</td>\n",
       "      <td>36</td>\n",
       "      <td>Success</td>\n",
       "      <td>Funded</td>\n",
       "      <td>0</td>\n",
       "      <td>1</td>\n",
       "    </tr>\n",
       "    <tr>\n",
       "      <th>27541</th>\n",
       "      <td>20000</td>\n",
       "      <td>1</td>\n",
       "      <td>9</td>\n",
       "      <td>Success</td>\n",
       "      <td>Funded</td>\n",
       "      <td>0</td>\n",
       "      <td>1</td>\n",
       "    </tr>\n",
       "    <tr>\n",
       "      <th>13969</th>\n",
       "      <td>5000000</td>\n",
       "      <td>1</td>\n",
       "      <td>0</td>\n",
       "      <td>Failure</td>\n",
       "      <td>Funded</td>\n",
       "      <td>0</td>\n",
       "      <td>0</td>\n",
       "    </tr>\n",
       "    <tr>\n",
       "      <th>63188</th>\n",
       "      <td>0</td>\n",
       "      <td>1</td>\n",
       "      <td>13</td>\n",
       "      <td>Success</td>\n",
       "      <td>Unfunded</td>\n",
       "      <td>1</td>\n",
       "      <td>1</td>\n",
       "    </tr>\n",
       "    <tr>\n",
       "      <th>13370</th>\n",
       "      <td>7122120</td>\n",
       "      <td>2</td>\n",
       "      <td>13</td>\n",
       "      <td>Success</td>\n",
       "      <td>Funded</td>\n",
       "      <td>0</td>\n",
       "      <td>1</td>\n",
       "    </tr>\n",
       "    <tr>\n",
       "      <th>36225</th>\n",
       "      <td>227064</td>\n",
       "      <td>1</td>\n",
       "      <td>9</td>\n",
       "      <td>Success</td>\n",
       "      <td>Funded</td>\n",
       "      <td>0</td>\n",
       "      <td>1</td>\n",
       "    </tr>\n",
       "    <tr>\n",
       "      <th>48864</th>\n",
       "      <td>2706060</td>\n",
       "      <td>4</td>\n",
       "      <td>18</td>\n",
       "      <td>Success</td>\n",
       "      <td>Funded</td>\n",
       "      <td>0</td>\n",
       "      <td>1</td>\n",
       "    </tr>\n",
       "    <tr>\n",
       "      <th>1444</th>\n",
       "      <td>46800000</td>\n",
       "      <td>4</td>\n",
       "      <td>33</td>\n",
       "      <td>Success</td>\n",
       "      <td>Funded</td>\n",
       "      <td>0</td>\n",
       "      <td>1</td>\n",
       "    </tr>\n",
       "    <tr>\n",
       "      <th>16803</th>\n",
       "      <td>1543920</td>\n",
       "      <td>1</td>\n",
       "      <td>23</td>\n",
       "      <td>Success</td>\n",
       "      <td>Funded</td>\n",
       "      <td>0</td>\n",
       "      <td>1</td>\n",
       "    </tr>\n",
       "    <tr>\n",
       "      <th>19559</th>\n",
       "      <td>25000</td>\n",
       "      <td>1</td>\n",
       "      <td>36</td>\n",
       "      <td>Failure</td>\n",
       "      <td>Funded</td>\n",
       "      <td>0</td>\n",
       "      <td>0</td>\n",
       "    </tr>\n",
       "  </tbody>\n",
       "</table>\n",
       "</div>"
      ],
      "text/plain": [
       "       Total_Funding  funding_rounds  months_2_first_fund SuccessFailure  \\\n",
       "13417         350000               1                   33        Success   \n",
       "51678              0               2                    8        Failure   \n",
       "39295         500000               2                    1        Success   \n",
       "57899       11791613               3                   13        Success   \n",
       "4506               0               1                    9        Success   \n",
       "6361        40000000               1                   36        Success   \n",
       "27541          20000               1                    9        Success   \n",
       "13969        5000000               1                    0        Failure   \n",
       "63188              0               1                   13        Success   \n",
       "13370        7122120               2                   13        Success   \n",
       "36225         227064               1                    9        Success   \n",
       "48864        2706060               4                   18        Success   \n",
       "1444        46800000               4                   33        Success   \n",
       "16803        1543920               1                   23        Success   \n",
       "19559          25000               1                   36        Failure   \n",
       "\n",
       "      Unfunded_1  Unfunded  Success  \n",
       "13417     Funded         0        1  \n",
       "51678   Unfunded         1        0  \n",
       "39295     Funded         0        1  \n",
       "57899     Funded         0        1  \n",
       "4506    Unfunded         1        1  \n",
       "6361      Funded         0        1  \n",
       "27541     Funded         0        1  \n",
       "13969     Funded         0        0  \n",
       "63188   Unfunded         1        1  \n",
       "13370     Funded         0        1  \n",
       "36225     Funded         0        1  \n",
       "48864     Funded         0        1  \n",
       "1444      Funded         0        1  \n",
       "16803     Funded         0        1  \n",
       "19559     Funded         0        0  "
      ]
     },
     "execution_count": 42,
     "metadata": {},
     "output_type": "execute_result"
    }
   ],
   "source": [
    "success_data = pd.get_dummies(dfs['SuccessFailure'], drop_first = True)\n",
    "dfs = pd.concat([dfs, success_data], axis = 1)\n",
    "dfs.sample(15)"
   ]
  },
  {
   "cell_type": "code",
   "execution_count": 43,
   "id": "3fb3d067-2d39-4741-a008-2a29caaa9b3c",
   "metadata": {},
   "outputs": [
    {
     "data": {
      "text/html": [
       "<div>\n",
       "<style scoped>\n",
       "    .dataframe tbody tr th:only-of-type {\n",
       "        vertical-align: middle;\n",
       "    }\n",
       "\n",
       "    .dataframe tbody tr th {\n",
       "        vertical-align: top;\n",
       "    }\n",
       "\n",
       "    .dataframe thead th {\n",
       "        text-align: right;\n",
       "    }\n",
       "</style>\n",
       "<table border=\"1\" class=\"dataframe\">\n",
       "  <thead>\n",
       "    <tr style=\"text-align: right;\">\n",
       "      <th></th>\n",
       "      <th>Total_Funding</th>\n",
       "      <th>funding_rounds</th>\n",
       "      <th>months_2_first_fund</th>\n",
       "      <th>Unfunded</th>\n",
       "      <th>Success</th>\n",
       "    </tr>\n",
       "  </thead>\n",
       "  <tbody>\n",
       "    <tr>\n",
       "      <th>65459</th>\n",
       "      <td>400000</td>\n",
       "      <td>1</td>\n",
       "      <td>36</td>\n",
       "      <td>0</td>\n",
       "      <td>1</td>\n",
       "    </tr>\n",
       "    <tr>\n",
       "      <th>54331</th>\n",
       "      <td>12000</td>\n",
       "      <td>1</td>\n",
       "      <td>19</td>\n",
       "      <td>0</td>\n",
       "      <td>1</td>\n",
       "    </tr>\n",
       "    <tr>\n",
       "      <th>32854</th>\n",
       "      <td>23280000</td>\n",
       "      <td>3</td>\n",
       "      <td>50</td>\n",
       "      <td>0</td>\n",
       "      <td>1</td>\n",
       "    </tr>\n",
       "    <tr>\n",
       "      <th>51825</th>\n",
       "      <td>50000</td>\n",
       "      <td>1</td>\n",
       "      <td>8</td>\n",
       "      <td>0</td>\n",
       "      <td>1</td>\n",
       "    </tr>\n",
       "    <tr>\n",
       "      <th>25742</th>\n",
       "      <td>0</td>\n",
       "      <td>2</td>\n",
       "      <td>25</td>\n",
       "      <td>1</td>\n",
       "      <td>1</td>\n",
       "    </tr>\n",
       "  </tbody>\n",
       "</table>\n",
       "</div>"
      ],
      "text/plain": [
       "       Total_Funding  funding_rounds  months_2_first_fund  Unfunded  Success\n",
       "65459         400000               1                   36         0        1\n",
       "54331          12000               1                   19         0        1\n",
       "32854       23280000               3                   50         0        1\n",
       "51825          50000               1                    8         0        1\n",
       "25742              0               2                   25         1        1"
      ]
     },
     "execution_count": 43,
     "metadata": {},
     "output_type": "execute_result"
    }
   ],
   "source": [
    "dfs.drop(['SuccessFailure','Unfunded_1'], axis = 1, inplace = True)\n",
    "dfs.sample(5)"
   ]
  },
  {
   "cell_type": "markdown",
   "id": "86c4e3c4-e24f-4b8a-8e7c-b583e9dc8a56",
   "metadata": {},
   "source": [
    "### 2.3. Understanding the values in the variables from categorical predictors\n",
    "\n",
    "**Note:** Only added one dummy variable less than the total number of dummy variables for the response variable. For example the `SuccessFailure` response variable `Succcess` and  not `failure` was added to the data frame. \n",
    "\n",
    "One dummy variable is dropped to avoid perfect collinearity as every startup business in the data set either  a `succcess` or a `failure`. The regression intercept captures the effect of a start up business being a success. Specifically, the estimated value of the regression intercept in the trained model is the estimated mean effect of all start up businesses that `failed`.\n",
    "\n",
    "Source: https://timeseriesreasoning.com/contents/dummy-variables-in-a-regression-model/\n",
    "\n",
    "\n",
    "The dataset has five columns. Four - `Total_Funding`,  `funding_rounds`, `Unfunded`, and `months_2_first_fund` - are the predictors (or independent variables), while - `Succcess` - is the response (or dependent variable).\n",
    "\n",
    "The objective is to train a logistic regression model to predict whether a start up business be successul based on the amount of funding recieved `Total_Funding`, the number of funding tranches `funding_rounds`and the duration from founding to the first funding grant `months_2_first_fund`. Note: Some businesses (20% did not recieve funding) and this is a  predictor variable.\n",
    "  \n",
    "In `Succcess`  **0** represents <span style=\"color:red\">**failure**</span> and **1** represents <span style=\"color:green\">**success**.</span>  \n",
    "In `Unfunded`  **1** represents <span style=\"color:red\">**unfunded**</span> and **0** represents <span style=\"color:green\">**funded**.</span>  \n"
   ]
  },
  {
   "cell_type": "markdown",
   "id": "c7f5636b-db6f-4dbe-bdb7-4f41769af062",
   "metadata": {},
   "source": [
    "## 3. Explore the Data\n",
    "  \n",
    "A concise summary data structure by calling the `info()` method."
   ]
  },
  {
   "cell_type": "code",
   "execution_count": 44,
   "id": "f2732bc0-072f-45ee-bb56-7b1d72dd7404",
   "metadata": {},
   "outputs": [
    {
     "name": "stdout",
     "output_type": "stream",
     "text": [
      "<class 'pandas.core.frame.DataFrame'>\n",
      "Int64Index: 66057 entries, 0 to 66056\n",
      "Data columns (total 5 columns):\n",
      " #   Column               Non-Null Count  Dtype\n",
      "---  ------               --------------  -----\n",
      " 0   Total_Funding        66057 non-null  int32\n",
      " 1   funding_rounds       66057 non-null  int64\n",
      " 2   months_2_first_fund  66057 non-null  int32\n",
      " 3   Unfunded             66057 non-null  uint8\n",
      " 4   Success              66057 non-null  uint8\n",
      "dtypes: int32(2), int64(1), uint8(2)\n",
      "memory usage: 1.6 MB\n"
     ]
    }
   ],
   "source": [
    "dfs.info()"
   ]
  },
  {
   "cell_type": "markdown",
   "id": "a96f5ae0-7e81-4e3e-a043-c9b8c8fef320",
   "metadata": {},
   "source": [
    "There are `66,057` instances (or rows) in the dataset.\n",
    "\n",
    "The dataset consists of 5 features (or columns) representing 4 predictor variables and 1 response variable. \n",
    "\n",
    "Summary statistics for the numeric features in the data by calling the describe() method."
   ]
  },
  {
   "cell_type": "markdown",
   "id": "9d33b6c9-a0cc-4348-b7ec-d3f8803ff98f",
   "metadata": {},
   "source": [
    "### 3.1. Resolving the negative funding records\n",
    "In the discussion `Data Quality and data cleaning challenges` above the problem of 21 companies with negative fuding grants was discussed. These 21 records should now be removed from the dataset."
   ]
  },
  {
   "cell_type": "code",
   "execution_count": 45,
   "id": "f7fc0916-6d42-41bc-a8bb-033eca6bdce4",
   "metadata": {},
   "outputs": [
    {
     "data": {
      "text/html": [
       "<div>\n",
       "<style scoped>\n",
       "    .dataframe tbody tr th:only-of-type {\n",
       "        vertical-align: middle;\n",
       "    }\n",
       "\n",
       "    .dataframe tbody tr th {\n",
       "        vertical-align: top;\n",
       "    }\n",
       "\n",
       "    .dataframe thead th {\n",
       "        text-align: right;\n",
       "    }\n",
       "</style>\n",
       "<table border=\"1\" class=\"dataframe\">\n",
       "  <thead>\n",
       "    <tr style=\"text-align: right;\">\n",
       "      <th></th>\n",
       "      <th>Total_Funding</th>\n",
       "      <th>funding_rounds</th>\n",
       "      <th>months_2_first_fund</th>\n",
       "      <th>Unfunded</th>\n",
       "      <th>Success</th>\n",
       "    </tr>\n",
       "  </thead>\n",
       "  <tbody>\n",
       "    <tr>\n",
       "      <th>count</th>\n",
       "      <td>6.603600e+04</td>\n",
       "      <td>66036.000000</td>\n",
       "      <td>66036.000000</td>\n",
       "      <td>66036.000000</td>\n",
       "      <td>66036.000000</td>\n",
       "    </tr>\n",
       "    <tr>\n",
       "      <th>mean</th>\n",
       "      <td>1.282227e+07</td>\n",
       "      <td>1.728027</td>\n",
       "      <td>44.995245</td>\n",
       "      <td>0.192864</td>\n",
       "      <td>0.906082</td>\n",
       "    </tr>\n",
       "    <tr>\n",
       "      <th>std</th>\n",
       "      <td>5.466431e+07</td>\n",
       "      <td>1.352066</td>\n",
       "      <td>101.947788</td>\n",
       "      <td>0.394551</td>\n",
       "      <td>0.291717</td>\n",
       "    </tr>\n",
       "    <tr>\n",
       "      <th>min</th>\n",
       "      <td>0.000000e+00</td>\n",
       "      <td>1.000000</td>\n",
       "      <td>0.000000</td>\n",
       "      <td>0.000000</td>\n",
       "      <td>0.000000</td>\n",
       "    </tr>\n",
       "    <tr>\n",
       "      <th>25%</th>\n",
       "      <td>4.000000e+04</td>\n",
       "      <td>1.000000</td>\n",
       "      <td>11.000000</td>\n",
       "      <td>0.000000</td>\n",
       "      <td>1.000000</td>\n",
       "    </tr>\n",
       "    <tr>\n",
       "      <th>50%</th>\n",
       "      <td>1.000000e+06</td>\n",
       "      <td>1.000000</td>\n",
       "      <td>33.000000</td>\n",
       "      <td>0.000000</td>\n",
       "      <td>1.000000</td>\n",
       "    </tr>\n",
       "    <tr>\n",
       "      <th>75%</th>\n",
       "      <td>6.750000e+06</td>\n",
       "      <td>2.000000</td>\n",
       "      <td>36.000000</td>\n",
       "      <td>0.000000</td>\n",
       "      <td>1.000000</td>\n",
       "    </tr>\n",
       "    <tr>\n",
       "      <th>max</th>\n",
       "      <td>2.000000e+09</td>\n",
       "      <td>19.000000</td>\n",
       "      <td>3057.000000</td>\n",
       "      <td>1.000000</td>\n",
       "      <td>1.000000</td>\n",
       "    </tr>\n",
       "  </tbody>\n",
       "</table>\n",
       "</div>"
      ],
      "text/plain": [
       "       Total_Funding  funding_rounds  months_2_first_fund      Unfunded  \\\n",
       "count   6.603600e+04    66036.000000         66036.000000  66036.000000   \n",
       "mean    1.282227e+07        1.728027            44.995245      0.192864   \n",
       "std     5.466431e+07        1.352066           101.947788      0.394551   \n",
       "min     0.000000e+00        1.000000             0.000000      0.000000   \n",
       "25%     4.000000e+04        1.000000            11.000000      0.000000   \n",
       "50%     1.000000e+06        1.000000            33.000000      0.000000   \n",
       "75%     6.750000e+06        2.000000            36.000000      0.000000   \n",
       "max     2.000000e+09       19.000000          3057.000000      1.000000   \n",
       "\n",
       "            Success  \n",
       "count  66036.000000  \n",
       "mean       0.906082  \n",
       "std        0.291717  \n",
       "min        0.000000  \n",
       "25%        1.000000  \n",
       "50%        1.000000  \n",
       "75%        1.000000  \n",
       "max        1.000000  "
      ]
     },
     "execution_count": 45,
     "metadata": {},
     "output_type": "execute_result"
    }
   ],
   "source": [
    "dfs = dfs[dfs['Total_Funding'] >= 0]\n",
    "(dfs['Total_Funding'] < 0).sum().sum()\n",
    "dfs.describe()"
   ]
  },
  {
   "cell_type": "code",
   "execution_count": 46,
   "id": "21375239-14d8-4a3a-88b2-bb33f5f6ecc5",
   "metadata": {},
   "outputs": [
    {
     "data": {
      "text/plain": [
       "0"
      ]
     },
     "execution_count": 46,
     "metadata": {},
     "output_type": "execute_result"
    }
   ],
   "source": [
    "(dfs['Total_Funding'] < 0).sum().sum()"
   ]
  },
  {
   "cell_type": "code",
   "execution_count": 47,
   "id": "50c178a4-ccf1-49fa-91a7-dcfe2dda2bb9",
   "metadata": {},
   "outputs": [
    {
     "data": {
      "text/plain": [
       "0"
      ]
     },
     "execution_count": 47,
     "metadata": {},
     "output_type": "execute_result"
    }
   ],
   "source": [
    "(dfs['months_2_first_fund'] < 0).sum().sum()"
   ]
  },
  {
   "attachments": {
    "14272266-903a-4b73-94de-c0d7d9342e63.jpg": {
     "image/jpeg": "[encoded data removed]"
    },
    "3a4e8e3b-045c-4b68-b7bb-220719f4a58f.jpg": {
     "image/jpeg": "[encoded data removed]"
    },
    "8a50d2c5-8571-4808-82f0-2da05c946dc1.jpg": {
     "image/jpeg": "[encoded data removed]"
    }
   },
   "cell_type": "markdown",
   "id": "e4d2568b-aa38-49c6-99c4-d0bed3c2ac92",
   "metadata": {},
   "source": [
    "### 3.2. Comparing the current processed data frame `dfs` to the original data frame `df`\n",
    "\n",
    "There are no longer any negative funding grants and the negative duration from founding to first grant has been resolved.  \n",
    "  \n",
    "However across all the predictors the range is very large as can be noted from the standard deviations.   \n",
    "  \n",
    "Therefore it will be necessary to standardise the predictors.  \n",
    "\n",
    "   \n",
    "![funding Date before founding date - the problem before it was resolved.jpg](attachment:14272266-903a-4b73-94de-c0d7d9342e63.jpg)\n",
    "  \n",
    "![funding Date AFTER founding date -  resolved.jpg](attachment:8a50d2c5-8571-4808-82f0-2da05c946dc1.jpg)\n",
    "  \n",
    "![Scatter plot of Funding Date before it was resolved.jpg](attachment:3a4e8e3b-045c-4b68-b7bb-220719f4a58f.jpg)"
   ]
  },
  {
   "cell_type": "code",
   "execution_count": 48,
   "id": "160e16ca-2d61-4638-ab8d-d0b4bcfd6bbe",
   "metadata": {},
   "outputs": [
    {
     "data": {
      "text/plain": [
       "<AxesSubplot:xlabel='Total_Funding', ylabel='months_2_first_fund'>"
      ]
     },
     "execution_count": 48,
     "metadata": {},
     "output_type": "execute_result"
    },
    {
     "data": {
      "image/png": "[encoded data removed]",
      "text/plain": [
       "<Figure size 1000x600 with 1 Axes>"
      ]
     },
     "metadata": {},
     "output_type": "display_data"
    }
   ],
   "source": [
    "%matplotlib inline\n",
    "dfs.plot(kind = 'scatter', x = 'Total_Funding', y = 'months_2_first_fund')"
   ]
  },
  {
   "cell_type": "markdown",
   "id": "eed75506-e038-42f6-91b4-8a6b2a47d4f3",
   "metadata": {},
   "source": [
    "### 3.3. Pair plot for data overview\n",
    "\n",
    "A useful way to have an overview of the data frame is by generating a pairplot (seaborn method pairplot) and pass in the entire data frame as a parameter. "
   ]
  },
  {
   "cell_type": "code",
   "execution_count": 49,
   "id": "0c541e5c-7420-47d7-925a-524ef14780a3",
   "metadata": {},
   "outputs": [
    {
     "data": {
      "text/plain": [
       "<seaborn.axisgrid.PairGrid at 0x133a04f94f0>"
      ]
     },
     "execution_count": 49,
     "metadata": {},
     "output_type": "execute_result"
    },
    {
     "data": {
      "image/png": "[encoded data removed]",
      "text/plain": [
       "<Figure size 1250x1250 with 30 Axes>"
      ]
     },
     "metadata": {},
     "output_type": "display_data"
    }
   ],
   "source": [
    "variables = dfs[['Total_Funding','funding_rounds','months_2_first_fund','Unfunded','Success']]\n",
    "sns.pairplot(variables)"
   ]
  },
  {
   "cell_type": "markdown",
   "id": "27ad8837-29f3-43c9-aed7-cfc36f40df61",
   "metadata": {},
   "source": [
    "### 3.4. Use Pearson correlation test to confirm correlation"
   ]
  },
  {
   "cell_type": "code",
   "execution_count": 50,
   "id": "0bb93401-5c66-4006-936c-a45a836bc4d5",
   "metadata": {},
   "outputs": [
    {
     "data": {
      "text/plain": [
       "PearsonRResult(statistic=0.0250943178126551, pvalue=1.1222091666447952e-10)"
      ]
     },
     "execution_count": 50,
     "metadata": {},
     "output_type": "execute_result"
    }
   ],
   "source": [
    "pc1 = pearsonr(dfs['Total_Funding'], dfs['Success'])\n",
    "pc1"
   ]
  },
  {
   "cell_type": "markdown",
   "id": "6e4195db-680a-4371-b955-e93f00656c1c",
   "metadata": {},
   "source": [
    "Pearson correlation coefficient (r):0.02510. There is **no correlation between total funding and succcess**.  (Note: a value below -0.5 or above 0.5 indicates a notable correlation, and values below those values suggests a less notable correlation.)\n",
    "\n",
    "The Two-tailed p-value:1.122 is greater than 0.05 indicating that there is a **NOT a statistically significant association** between the two variables "
   ]
  },
  {
   "cell_type": "code",
   "execution_count": 51,
   "id": "6776145a-3a06-444f-bef0-058fb3ed4517",
   "metadata": {},
   "outputs": [
    {
     "data": {
      "text/plain": [
       "PearsonRResult(statistic=0.30277156569776087, pvalue=0.0)"
      ]
     },
     "execution_count": 51,
     "metadata": {},
     "output_type": "execute_result"
    }
   ],
   "source": [
    "pc2 = pearsonr(dfs['Total_Funding'], dfs['funding_rounds'])\n",
    "pc2"
   ]
  },
  {
   "cell_type": "markdown",
   "id": "cd67410d-426e-433b-bf37-034d49cfd266",
   "metadata": {},
   "source": [
    "Pearson correlation coefficient (r):0.30278. There is a **weak positive correlation between total funding and funding_rounds**. (Note: a value below -0.5 or above 0.5 indicates a notable correlation, and values below those values suggests a less notable correlation.)\n",
    "\n",
    "The Two-tailed p-value:0.0 is less than 0.05 indicating that there **is a statistically significant association** between the two variables"
   ]
  },
  {
   "cell_type": "code",
   "execution_count": 52,
   "id": "f4d0343d-6ffd-4f69-b43c-fad57c596690",
   "metadata": {},
   "outputs": [
    {
     "data": {
      "text/plain": [
       "PearsonRResult(statistic=0.08909569248630954, pvalue=1.8315215417365756e-116)"
      ]
     },
     "execution_count": 52,
     "metadata": {},
     "output_type": "execute_result"
    }
   ],
   "source": [
    "pc3 = pearsonr(dfs['Total_Funding'], dfs['months_2_first_fund'])\n",
    "pc3"
   ]
  },
  {
   "cell_type": "markdown",
   "id": "1773642e-2628-46a0-afd7-aff53c15f009",
   "metadata": {},
   "source": [
    "Pearson correlation coefficient (r):0.0891. There is **no correlation between total funding and months_2_first_fund**.  (Note: a value below -0.5 or above 0.5 indicates a notable correlation, and values below those values suggests a less notable correlation.)\n",
    "\n",
    "The Two-tailed p-value:1.8315 is greater than 0.05 indicating that there is a **NOT a statistically significant association** between the two variables "
   ]
  },
  {
   "cell_type": "code",
   "execution_count": 53,
   "id": "9623b65d-5723-4694-8f2a-9c92de00a9c1",
   "metadata": {},
   "outputs": [
    {
     "data": {
      "text/plain": [
       "PearsonRResult(statistic=-0.016558808081365922, pvalue=2.0866998946085058e-05)"
      ]
     },
     "execution_count": 53,
     "metadata": {},
     "output_type": "execute_result"
    }
   ],
   "source": [
    "pc4 = pearsonr(dfs['Success'], dfs['Unfunded'])\n",
    "pc4"
   ]
  },
  {
   "cell_type": "markdown",
   "id": "82d60744-7de6-432c-bf6a-1c33d7f6dc01",
   "metadata": {},
   "source": [
    "Pearson correlation coefficient (r):-0.01656. There is **no correlation between total success and funding**.  (Note: a value below -0.5 or above 0.5 indicates a notable correlation, and values below those values suggests a less notable correlation.)\n",
    "\n",
    "The Two-tailed p-value:2.0867 is greater than 0.05 indicating that there is a **NOT a statistically significant association** between the two variables "
   ]
  },
  {
   "cell_type": "markdown",
   "id": "9e259358-81a2-44f8-a955-dd2f7693c6d3",
   "metadata": {},
   "source": [
    "### 3.5. Normalise (or standardise) the data in the Total_Funding, funding_rounds and months_2_first_fund fields.\n",
    "\n",
    "Use the scaler.fit_transform method from the sklearn.preprocessing subpackage to standerdise the `Total_Funding`, `funding_rounds` and `months_2_first_fund` fields."
   ]
  },
  {
   "cell_type": "code",
   "execution_count": 54,
   "id": "00dd621c-0df7-4ccf-a3f8-ecfe01119569",
   "metadata": {},
   "outputs": [
    {
     "name": "stdout",
     "output_type": "stream",
     "text": [
      "[[-0.05162951 -0.53845953 -0.08823451 -0.48882445]\n",
      " [-0.22176009  0.20115511 -0.14708861 -0.48882445]\n",
      " [-0.17224152 -0.53845953 -0.08823451 -0.48882445]\n",
      " [-0.1979784  -0.53845953 -0.29422386 -0.48882445]\n",
      " [-0.23456562 -0.53845953  0.09813681  2.04572418]]\n"
     ]
    }
   ],
   "source": [
    "dfst = scaler.fit_transform(dfs[['Total_Funding', 'funding_rounds', 'months_2_first_fund','Unfunded']])\n",
    "print(dfst[0:5]) # print the first five elements in the array"
   ]
  },
  {
   "cell_type": "markdown",
   "id": "2af0c563-75d7-42f9-9977-cf5a1d5568be",
   "metadata": {},
   "source": [
    "The scaler transformation returns a NumPy array that needs to be converted to a data frame (for convenience)."
   ]
  },
  {
   "cell_type": "code",
   "execution_count": 55,
   "id": "d32f6891-70f3-4212-85bc-64e02bbc5a21",
   "metadata": {},
   "outputs": [],
   "source": [
    "dfst = pd.DataFrame(dfst, columns = ['Total_Funding', 'funding_rounds', 'months_2_first_fund','Unfunded'])"
   ]
  },
  {
   "cell_type": "code",
   "execution_count": 56,
   "id": "0a35523a-dd90-4ecb-ad61-b7c17663804c",
   "metadata": {},
   "outputs": [
    {
     "data": {
      "text/html": [
       "<div>\n",
       "<style scoped>\n",
       "    .dataframe tbody tr th:only-of-type {\n",
       "        vertical-align: middle;\n",
       "    }\n",
       "\n",
       "    .dataframe tbody tr th {\n",
       "        vertical-align: top;\n",
       "    }\n",
       "\n",
       "    .dataframe thead th {\n",
       "        text-align: right;\n",
       "    }\n",
       "</style>\n",
       "<table border=\"1\" class=\"dataframe\">\n",
       "  <thead>\n",
       "    <tr style=\"text-align: right;\">\n",
       "      <th></th>\n",
       "      <th>Total_Funding</th>\n",
       "      <th>funding_rounds</th>\n",
       "      <th>months_2_first_fund</th>\n",
       "      <th>Unfunded</th>\n",
       "    </tr>\n",
       "  </thead>\n",
       "  <tbody>\n",
       "    <tr>\n",
       "      <th>0</th>\n",
       "      <td>-0.051630</td>\n",
       "      <td>-0.538460</td>\n",
       "      <td>-0.088235</td>\n",
       "      <td>-0.488824</td>\n",
       "    </tr>\n",
       "    <tr>\n",
       "      <th>1</th>\n",
       "      <td>-0.221760</td>\n",
       "      <td>0.201155</td>\n",
       "      <td>-0.147089</td>\n",
       "      <td>-0.488824</td>\n",
       "    </tr>\n",
       "    <tr>\n",
       "      <th>2</th>\n",
       "      <td>-0.172242</td>\n",
       "      <td>-0.538460</td>\n",
       "      <td>-0.088235</td>\n",
       "      <td>-0.488824</td>\n",
       "    </tr>\n",
       "    <tr>\n",
       "      <th>3</th>\n",
       "      <td>-0.197978</td>\n",
       "      <td>-0.538460</td>\n",
       "      <td>-0.294224</td>\n",
       "      <td>-0.488824</td>\n",
       "    </tr>\n",
       "    <tr>\n",
       "      <th>4</th>\n",
       "      <td>-0.234566</td>\n",
       "      <td>-0.538460</td>\n",
       "      <td>0.098137</td>\n",
       "      <td>2.045724</td>\n",
       "    </tr>\n",
       "  </tbody>\n",
       "</table>\n",
       "</div>"
      ],
      "text/plain": [
       "   Total_Funding  funding_rounds  months_2_first_fund  Unfunded\n",
       "0      -0.051630       -0.538460            -0.088235 -0.488824\n",
       "1      -0.221760        0.201155            -0.147089 -0.488824\n",
       "2      -0.172242       -0.538460            -0.088235 -0.488824\n",
       "3      -0.197978       -0.538460            -0.294224 -0.488824\n",
       "4      -0.234566       -0.538460             0.098137  2.045724"
      ]
     },
     "execution_count": 56,
     "metadata": {},
     "output_type": "execute_result"
    }
   ],
   "source": [
    "dfst.head()"
   ]
  },
  {
   "cell_type": "code",
   "execution_count": 57,
   "id": "6b85f62c-ae57-46ec-8915-d72475ac8acb",
   "metadata": {},
   "outputs": [
    {
     "data": {
      "text/html": [
       "<div>\n",
       "<style scoped>\n",
       "    .dataframe tbody tr th:only-of-type {\n",
       "        vertical-align: middle;\n",
       "    }\n",
       "\n",
       "    .dataframe tbody tr th {\n",
       "        vertical-align: top;\n",
       "    }\n",
       "\n",
       "    .dataframe thead th {\n",
       "        text-align: right;\n",
       "    }\n",
       "</style>\n",
       "<table border=\"1\" class=\"dataframe\">\n",
       "  <thead>\n",
       "    <tr style=\"text-align: right;\">\n",
       "      <th></th>\n",
       "      <th>Total_Funding</th>\n",
       "      <th>funding_rounds</th>\n",
       "      <th>months_2_first_fund</th>\n",
       "      <th>Unfunded</th>\n",
       "      <th>Success</th>\n",
       "    </tr>\n",
       "  </thead>\n",
       "  <tbody>\n",
       "    <tr>\n",
       "      <th>0</th>\n",
       "      <td>-0.051630</td>\n",
       "      <td>-0.538460</td>\n",
       "      <td>-0.088235</td>\n",
       "      <td>-0.488824</td>\n",
       "      <td>1</td>\n",
       "    </tr>\n",
       "    <tr>\n",
       "      <th>1</th>\n",
       "      <td>-0.221760</td>\n",
       "      <td>0.201155</td>\n",
       "      <td>-0.147089</td>\n",
       "      <td>-0.488824</td>\n",
       "      <td>1</td>\n",
       "    </tr>\n",
       "    <tr>\n",
       "      <th>2</th>\n",
       "      <td>-0.172242</td>\n",
       "      <td>-0.538460</td>\n",
       "      <td>-0.088235</td>\n",
       "      <td>-0.488824</td>\n",
       "      <td>1</td>\n",
       "    </tr>\n",
       "    <tr>\n",
       "      <th>3</th>\n",
       "      <td>-0.197978</td>\n",
       "      <td>-0.538460</td>\n",
       "      <td>-0.294224</td>\n",
       "      <td>-0.488824</td>\n",
       "      <td>1</td>\n",
       "    </tr>\n",
       "    <tr>\n",
       "      <th>4</th>\n",
       "      <td>-0.234566</td>\n",
       "      <td>-0.538460</td>\n",
       "      <td>0.098137</td>\n",
       "      <td>2.045724</td>\n",
       "      <td>1</td>\n",
       "    </tr>\n",
       "  </tbody>\n",
       "</table>\n",
       "</div>"
      ],
      "text/plain": [
       "   Total_Funding  funding_rounds  months_2_first_fund  Unfunded  Success\n",
       "0      -0.051630       -0.538460            -0.088235 -0.488824        1\n",
       "1      -0.221760        0.201155            -0.147089 -0.488824        1\n",
       "2      -0.172242       -0.538460            -0.088235 -0.488824        1\n",
       "3      -0.197978       -0.538460            -0.294224 -0.488824        1\n",
       "4      -0.234566       -0.538460             0.098137  2.045724        1"
      ]
     },
     "execution_count": 57,
     "metadata": {},
     "output_type": "execute_result"
    }
   ],
   "source": [
    "dfm = pd.concat([dfst, dfs['Success']], axis=1, join=\"inner\")\n",
    "dfm.head()"
   ]
  },
  {
   "cell_type": "markdown",
   "id": "b4b1f39b-b898-420d-b2b9-886672736800",
   "metadata": {},
   "source": [
    "## 4. Prepare the Data for the data model"
   ]
  },
  {
   "cell_type": "markdown",
   "id": "c40ecb5f-52e0-4d4c-b39f-4a12a271bfcf",
   "metadata": {},
   "source": [
    "#### Stage 1: separate the dependent variable\n",
    "Separate the dependent variable 'y' from the independent variables. \n",
    "\n",
    "Create a pandas series `y` for the dependent variable."
   ]
  },
  {
   "cell_type": "code",
   "execution_count": 58,
   "id": "bdd9b428-f3a1-4219-a1de-60ab4c509414",
   "metadata": {},
   "outputs": [
    {
     "data": {
      "text/plain": [
       "0    1\n",
       "1    1\n",
       "2    1\n",
       "3    1\n",
       "4    1\n",
       "Name: Success, dtype: uint8"
      ]
     },
     "execution_count": 58,
     "metadata": {},
     "output_type": "execute_result"
    }
   ],
   "source": [
    "y = dfm['Success'] #in variable 'y' save the column ['Success'] = response/dependent variable (categorial)\n",
    "y.head()"
   ]
  },
  {
   "cell_type": "markdown",
   "id": "d801d7c2-c3c5-4b94-b2cb-c1e0278601dc",
   "metadata": {},
   "source": [
    "Then create a pandas DataFrame called X for the independent variables."
   ]
  },
  {
   "cell_type": "code",
   "execution_count": 59,
   "id": "291dbaae-7ba8-4918-bc8d-8a54746168ce",
   "metadata": {},
   "outputs": [
    {
     "data": {
      "text/html": [
       "<div>\n",
       "<style scoped>\n",
       "    .dataframe tbody tr th:only-of-type {\n",
       "        vertical-align: middle;\n",
       "    }\n",
       "\n",
       "    .dataframe tbody tr th {\n",
       "        vertical-align: top;\n",
       "    }\n",
       "\n",
       "    .dataframe thead th {\n",
       "        text-align: right;\n",
       "    }\n",
       "</style>\n",
       "<table border=\"1\" class=\"dataframe\">\n",
       "  <thead>\n",
       "    <tr style=\"text-align: right;\">\n",
       "      <th></th>\n",
       "      <th>Total_Funding</th>\n",
       "      <th>funding_rounds</th>\n",
       "      <th>months_2_first_fund</th>\n",
       "      <th>Unfunded</th>\n",
       "    </tr>\n",
       "  </thead>\n",
       "  <tbody>\n",
       "    <tr>\n",
       "      <th>0</th>\n",
       "      <td>-0.051630</td>\n",
       "      <td>-0.538460</td>\n",
       "      <td>-0.088235</td>\n",
       "      <td>-0.488824</td>\n",
       "    </tr>\n",
       "    <tr>\n",
       "      <th>1</th>\n",
       "      <td>-0.221760</td>\n",
       "      <td>0.201155</td>\n",
       "      <td>-0.147089</td>\n",
       "      <td>-0.488824</td>\n",
       "    </tr>\n",
       "    <tr>\n",
       "      <th>2</th>\n",
       "      <td>-0.172242</td>\n",
       "      <td>-0.538460</td>\n",
       "      <td>-0.088235</td>\n",
       "      <td>-0.488824</td>\n",
       "    </tr>\n",
       "    <tr>\n",
       "      <th>3</th>\n",
       "      <td>-0.197978</td>\n",
       "      <td>-0.538460</td>\n",
       "      <td>-0.294224</td>\n",
       "      <td>-0.488824</td>\n",
       "    </tr>\n",
       "    <tr>\n",
       "      <th>4</th>\n",
       "      <td>-0.234566</td>\n",
       "      <td>-0.538460</td>\n",
       "      <td>0.098137</td>\n",
       "      <td>2.045724</td>\n",
       "    </tr>\n",
       "  </tbody>\n",
       "</table>\n",
       "</div>"
      ],
      "text/plain": [
       "   Total_Funding  funding_rounds  months_2_first_fund  Unfunded\n",
       "0      -0.051630       -0.538460            -0.088235 -0.488824\n",
       "1      -0.221760        0.201155            -0.147089 -0.488824\n",
       "2      -0.172242       -0.538460            -0.088235 -0.488824\n",
       "3      -0.197978       -0.538460            -0.294224 -0.488824\n",
       "4      -0.234566       -0.538460             0.098137  2.045724"
      ]
     },
     "execution_count": 59,
     "metadata": {},
     "output_type": "execute_result"
    }
   ],
   "source": [
    "x = dfm[['Total_Funding', 'funding_rounds', 'months_2_first_fund','Unfunded']] \n",
    "# Notice the use of TWO sets of square brackets - because this is a dataframe, x is a dataframe and y is a series\n",
    "x.head()"
   ]
  },
  {
   "cell_type": "markdown",
   "id": "3de84c67-3c24-4b11-90b3-8e8b111ba885",
   "metadata": {},
   "source": [
    "#### Stage 2: split the data into training and test sets\n",
    "The  objective of this step is to split the data into training and test sets. The training set will be used to train the model, while the test set will be used to evaluate the model.  \n",
    "\n",
    "Next, import the `train_test_split()` function from the `sklearn.model_selection` subpackage. "
   ]
  },
  {
   "cell_type": "code",
   "execution_count": 60,
   "id": "576309f4-b3dc-44d4-96c0-34385bdb61ea",
   "metadata": {},
   "outputs": [],
   "source": [
    "from sklearn.model_selection import train_test_split"
   ]
  },
  {
   "cell_type": "markdown",
   "id": "b2decd23-15db-4cdd-93fb-ddb66ee0ec70",
   "metadata": {},
   "source": [
    "#### Stage 3: Setting up the train and test data\n",
    "\n",
    "Using the `train_test_split()` function, split `X` and `y` into `X_train`, `X_test`, `y_train` and `y_test`.\n",
    "\n",
    "Note that within the `train_test_split()` function, set:\n",
    "\n",
    "* `train_size` to `0.7`. This means we want $70\\%$ of the original data to be assigned to the training data while $30\\%$ is assigned to the test data. \n",
    "\n",
    "* Note that the default is 0.8 so that willl split the train at 80% and test at 20%\n",
    "\n",
    "* Stratified random sampling is used because there are fewer *No* defaults in the categorical data `loan_status`. This ensures  that the sampling refects the distribution in the categories in the test and train data sets. \n",
    "\n",
    "* `stratify` as `y`. split the data using a stratified random sampling approach based on the values of `y`(which is the `loan_status`data. \n",
    "\n",
    "* `random_state` to `123`, ensures same results every time the data is split. "
   ]
  },
  {
   "cell_type": "code",
   "execution_count": 61,
   "id": "bbb26706-1465-4e95-a73a-a6488927cd0f",
   "metadata": {},
   "outputs": [],
   "source": [
    "x_train, x_test, y_train, y_test = train_test_split(x,y,train_size = 0.7,stratify = y, random_state = 123)"
   ]
  },
  {
   "cell_type": "markdown",
   "id": "cf5c176a-6ad0-4fac-9322-24b49042006a",
   "metadata": {},
   "source": [
    "After the data is split, the newly created `X_train` and `X_test` data sets hold the independent variables for the training and test sets, respectively. While the `y_train` and `y_test` data sets hold the dependent variable for the training and test sets respectively."
   ]
  },
  {
   "cell_type": "code",
   "execution_count": 62,
   "id": "8bb917a8-d00b-4fdf-840f-82dd6fb75e08",
   "metadata": {},
   "outputs": [
    {
     "data": {
      "text/plain": [
       "(46210, 4)"
      ]
     },
     "execution_count": 62,
     "metadata": {},
     "output_type": "execute_result"
    }
   ],
   "source": [
    "x_train.shape # Note that you do not use .shape() but just .shape"
   ]
  },
  {
   "cell_type": "markdown",
   "id": "b2d535cf-8e1f-4e6d-903e-308931ba75bd",
   "metadata": {},
   "source": [
    "The result tells is that  46,225 out of the 66,057 instances in the startup data were assigned to the test set."
   ]
  },
  {
   "cell_type": "markdown",
   "id": "7e3f43cd-f49c-489e-81b0-0a4c440e35f9",
   "metadata": {},
   "source": [
    "## 5. Training the Logistic Regression Model\n",
    "\n",
    "Use the `LogisticRegression` class from the `sklearn.linear_model` subpackage to train the model."
   ]
  },
  {
   "cell_type": "code",
   "execution_count": 63,
   "id": "c664c9df-5fe5-4f1c-9726-660566603c43",
   "metadata": {},
   "outputs": [],
   "source": [
    "from sklearn.linear_model import LogisticRegression"
   ]
  },
  {
   "cell_type": "markdown",
   "id": "ec810d96-318f-4da4-a476-5a5f8d849a7b",
   "metadata": {},
   "source": [
    "Create the model as a LogisticRegression object"
   ]
  },
  {
   "cell_type": "code",
   "execution_count": 64,
   "id": "12097170-13e6-4bc8-af65-afb15d48088c",
   "metadata": {},
   "outputs": [],
   "source": [
    "model = LogisticRegression()"
   ]
  },
  {
   "cell_type": "markdown",
   "id": "a4c63310-7537-4049-97f0-1e01c36ccf4d",
   "metadata": {},
   "source": [
    "Train the model using the fit method on the model by passing in the x_train and y_train variables.  \n",
    "\n",
    "Note: predict_proba(x)\n",
    "Probability estimates. The returned estimates for all classes are ordered by the label of classes. Returns the log-probability of the sample for each class in the model."
   ]
  },
  {
   "cell_type": "code",
   "execution_count": 65,
   "id": "a93d2750-4def-40c2-a8aa-4f2eabfafd36",
   "metadata": {},
   "outputs": [
    {
     "data": {
      "text/plain": [
       "array([[0.09233046, 0.90766954],\n",
       "       [0.0931877 , 0.9068123 ],\n",
       "       [0.09316478, 0.90683522],\n",
       "       ...,\n",
       "       [0.09338717, 0.90661283],\n",
       "       [0.09206783, 0.90793217],\n",
       "       [0.09308038, 0.90691962]])"
      ]
     },
     "execution_count": 65,
     "metadata": {},
     "output_type": "execute_result"
    }
   ],
   "source": [
    "model.fit(x_train, y_train).predict_proba(x_test)"
   ]
  },
  {
   "cell_type": "markdown",
   "id": "0dc0e75d-84c6-4dfe-b5eb-8371bf254a4b",
   "metadata": {},
   "source": [
    "The model is trained and is ready to make predictions."
   ]
  },
  {
   "cell_type": "markdown",
   "id": "5f826059-b9d1-4268-946a-19671cc396f0",
   "metadata": {},
   "source": [
    "## 6. Making Predictions With  Logistic Regression Model\n",
    "Make a set of predictions with the test data using the logistic regression model and store the predictions in a variable called predictions."
   ]
  },
  {
   "cell_type": "code",
   "execution_count": 66,
   "id": "95e6f5b0-23b6-4061-8f8c-ee3a15a46a46",
   "metadata": {},
   "outputs": [
    {
     "data": {
      "text/plain": [
       "(19805,)"
      ]
     },
     "execution_count": 66,
     "metadata": {},
     "output_type": "execute_result"
    }
   ],
   "source": [
    "predictions = model.predict(x_test)\n",
    "predictions.shape"
   ]
  },
  {
   "cell_type": "markdown",
   "id": "0af792f7-c666-4920-a28a-574f223d7ee4",
   "metadata": {},
   "source": [
    "There are $19,805$ instances (or rows) in the test set. To predict labels for the test instances, we pass the independent variables of the test set (`X_test`) to the `predict()` method of the model."
   ]
  },
  {
   "cell_type": "markdown",
   "id": "e20b3f0a-30bf-4761-949f-7a5bc3fa5ad9",
   "metadata": {},
   "source": [
    "## 7. Measuring the Performance of a Logistic Regression Machine Learning Model"
   ]
  },
  {
   "cell_type": "markdown",
   "id": "e66a411b-e384-4847-ba26-71f6618d563e",
   "metadata": {},
   "source": [
    "*scikit-learn* has an excellent built-in module called classification_report that simplifies measuring the performance of a classification model."
   ]
  },
  {
   "cell_type": "code",
   "execution_count": 67,
   "id": "3cf3e94f-37d8-45ea-8c31-317cfb927edf",
   "metadata": {},
   "outputs": [],
   "source": [
    "from sklearn.metrics import classification_report"
   ]
  },
  {
   "cell_type": "markdown",
   "id": "53d835f3-ab2f-41d7-97e5-63b17b26139f",
   "metadata": {},
   "source": [
    "Use the classification report module to calculate the performance metrics for the logistic regression model"
   ]
  },
  {
   "cell_type": "code",
   "execution_count": 68,
   "id": "3c8f76f2-054b-4d8b-b15e-960481a562b6",
   "metadata": {},
   "outputs": [],
   "source": [
    "#classification_report(y_test, predictions)\n",
    "#print(classification_report(y_test, predictions))"
   ]
  },
  {
   "cell_type": "code",
   "execution_count": 69,
   "id": "006cfdde-5057-478c-81eb-d4c55925ea97",
   "metadata": {},
   "outputs": [
    {
     "data": {
      "text/plain": [
       "0.9060843221408735"
      ]
     },
     "execution_count": 69,
     "metadata": {},
     "output_type": "execute_result"
    }
   ],
   "source": [
    "model.score(x_test, y_test)"
   ]
  },
  {
   "cell_type": "markdown",
   "id": "58cccf79-8bf6-4279-94f9-2928ffe1d9d0",
   "metadata": {},
   "source": [
    "\n",
    "To evaluate how accurate our model is, pass the test data (X_test and y_test) to the score() method of the model.\n",
    "\n",
    "The output 0.9061 shows that the model is able to correctly predict 9 out of ten (or 90%) of the labels in the test set"
   ]
  },
  {
   "cell_type": "markdown",
   "id": "b0374499-6c89-46fc-88d6-0364f1692aab",
   "metadata": {},
   "source": [
    "### 7.1. Confusion Matrix\n",
    "\n",
    "The accuracy of a model only gives us a one-dimensional perspective of performance. To get a broader perspective, generate a confusion (or error) matrix of the model's performance. \n",
    "  \n",
    "The confusion matrix clarifies the model output which can be evaluated against the test data. Next step is to interpret the model and use the model coefficients.\n",
    "  \n",
    "Import the `confusion_matrix` function from the `sklearn.metrics` subpackage."
   ]
  },
  {
   "cell_type": "code",
   "execution_count": 70,
   "id": "d0a196a6-bacf-4fd6-9295-15f8a4095a31",
   "metadata": {},
   "outputs": [],
   "source": [
    "from sklearn.metrics import confusion_matrix\n",
    "from sklearn import metrics\n",
    "from sklearn.metrics import confusion_matrix, ConfusionMatrixDisplay"
   ]
  },
  {
   "cell_type": "markdown",
   "id": "22bc98e0-79a3-4f37-81d2-0e7c9898297d",
   "metadata": {},
   "source": [
    "Pass the dependent variable from the test set (which are the actual labels) and the model's predicted labels to the `confusion_matrix()` function.\n",
    "\n",
    "1) The first argument to the confusion matrix is y_test which are the actual labels.\n",
    "2) The second argument to the confusion matrix is model.predict(x_test) which are the predicted labels \n",
    "3) The output is an array the array that we get is a 2 x 2 array that shows how many instances the model predicted correctly.\n",
    "4) The confusion matrix is shown in the image below which shows for the first tuple (row 1) 3 true negatives 1 false positive.\n",
    "5) For the seond tuple (row 2) 0 false negatives 5 true positives."
   ]
  },
  {
   "cell_type": "code",
   "execution_count": 71,
   "id": "a27718f2-9dff-4866-85b4-37ee75eb7514",
   "metadata": {},
   "outputs": [
    {
     "data": {
      "text/plain": [
       "array([[    0,  1860],\n",
       "       [    0, 17945]], dtype=int64)"
      ]
     },
     "execution_count": 71,
     "metadata": {},
     "output_type": "execute_result"
    }
   ],
   "source": [
    "cm = confusion_matrix(y_test,predictions)\n",
    "cm"
   ]
  },
  {
   "cell_type": "code",
   "execution_count": 72,
   "id": "d2df25bc-bb93-40e2-8661-083d470fa266",
   "metadata": {},
   "outputs": [
    {
     "data": {
      "text/plain": [
       "[Text(0, 0, '6201'), Text(0, 0, '59814')]"
      ]
     },
     "execution_count": 72,
     "metadata": {},
     "output_type": "execute_result"
    },
    {
     "data": {
      "image/png": "[encoded data removed]",
      "text/plain": [
       "<Figure size 1000x600 with 1 Axes>"
      ]
     },
     "metadata": {},
     "output_type": "display_data"
    }
   ],
   "source": [
    "ax = sns.countplot(x ='Success', data = dfm);\n",
    "defaults = dfm['Success'].value_counts(ascending=True).values\n",
    "ax.bar_label(container=ax.containers[0], labels=defaults)"
   ]
  },
  {
   "cell_type": "code",
   "execution_count": 73,
   "id": "7145d232-72eb-411c-9235-144398e9ea65",
   "metadata": {},
   "outputs": [
    {
     "name": "stdout",
     "output_type": "stream",
     "text": [
      "Class Ratio: 0.9060668029993183\n"
     ]
    }
   ],
   "source": [
    "print('Class Ratio:',sum(dfm['Success'])/len(dfm['Success']))"
   ]
  },
  {
   "cell_type": "code",
   "execution_count": 74,
   "id": "89519f33-0a02-4835-a683-093e7f6996d6",
   "metadata": {},
   "outputs": [
    {
     "data": {
      "text/plain": [
       "1    0.906067\n",
       "0    0.093933\n",
       "Name: Success, dtype: float64"
      ]
     },
     "execution_count": 74,
     "metadata": {},
     "output_type": "execute_result"
    }
   ],
   "source": [
    "# check the distribution of the response variable (same as working out the ratio above)\n",
    "dfm['Success'].value_counts()/dfm.shape[0]"
   ]
  },
  {
   "cell_type": "code",
   "execution_count": 75,
   "id": "e3468801-5202-436e-8394-6e8eebc6e47d",
   "metadata": {},
   "outputs": [
    {
     "name": "stdout",
     "output_type": "stream",
     "text": [
      "Accuracy Score: 0.9060843221408735\n",
      "Confusion Matrix: \n",
      "[[    0  1860]\n",
      " [    0 17945]]\n",
      "Area Under Curve: 0.5\n",
      "Recall score: 1.0\n"
     ]
    }
   ],
   "source": [
    "# performance\n",
    "print(f'Accuracy Score: {accuracy_score(y_test,predictions)}')\n",
    "print(f'Confusion Matrix: \\n{confusion_matrix(y_test, predictions)}')\n",
    "print(f'Area Under Curve: {roc_auc_score(y_test, predictions)}')\n",
    "print(f'Recall score: {recall_score(y_test,predictions)}')"
   ]
  },
  {
   "cell_type": "markdown",
   "id": "e4bc6ae2-cbea-4270-89ca-80afe07cf620",
   "metadata": {},
   "source": [
    "## 7.2.Imbalanced Success/failure ration in the response variable \n",
    "The `Success` response variable is imbalanced (90% sucess and 10% failure) but it is important to preserve that imbalance as it informs the model of the likelihood of a startup succeeding or failing.\n",
    "\n",
    "Source: https://medium.com/towards-data-science/weighted-logistic-regression-for-imbalanced-dataset-9a5cd88e68b"
   ]
  },
  {
   "cell_type": "markdown",
   "id": "f9e1dcc0-acaf-4e2b-ac12-288a922244f0",
   "metadata": {},
   "source": [
    "## 7.3 Weighted Logistic Regression\n",
    "To specify weights we will make use of class_weight hyperparameter of Logistic-regression. The class_weight hyperparameter is a dictionary that defines weight of each label. Weights associated with classes in the form {class_label: weight}. If not given, all classes are supposed to have same weight value."
   ]
  },
  {
   "cell_type": "code",
   "execution_count": 79,
   "id": "ff64c232-fdfb-4745-bc9d-c63ebf05ff11",
   "metadata": {},
   "outputs": [],
   "source": [
    "# define class weights\n",
    "w = {0:10, 1:90}"
   ]
  },
  {
   "cell_type": "markdown",
   "id": "a9647d5c-3161-4261-acd6-08f5bf4638a1",
   "metadata": {},
   "source": [
    "Using the ratio in the response variable as the weighting in the regression algorithm then run the model again but this time as model_2"
   ]
  },
  {
   "cell_type": "code",
   "execution_count": 80,
   "id": "d805b78d-1d8e-4253-8fd0-0ffb1066b6b8",
   "metadata": {},
   "outputs": [],
   "source": [
    "# define the model again this time using the weighted regression\n",
    "model_2 = LogisticRegression(random_state=13, class_weight=w)\n",
    "# fit model_2 again using the test/train set\n",
    "model_2.fit(x_train,y_train)\n",
    "# test the predictions \n",
    "predictions_2 = model_2.predict(x_test)"
   ]
  },
  {
   "cell_type": "markdown",
   "id": "18064e53-dc98-490b-9540-60b70d0a73a1",
   "metadata": {},
   "source": [
    "Review the performance of the model that is using a weighted response variable "
   ]
  },
  {
   "cell_type": "code",
   "execution_count": 83,
   "id": "def3ce69-7b35-4f65-8dc8-1276ee2ecccb",
   "metadata": {},
   "outputs": [
    {
     "name": "stdout",
     "output_type": "stream",
     "text": [
      "Accuracy Score: 0.9060843221408735\n",
      "Confusion Matrix: \n",
      "[[    0  1860]\n",
      " [    0 17945]]\n",
      "Area Under Curve: 0.5\n",
      "Recall score: 1.0\n"
     ]
    }
   ],
   "source": [
    "# performance\n",
    "print(f'Accuracy Score: {accuracy_score(y_test,predictions_2)}')\n",
    "print(f'Confusion Matrix: \\n{confusion_matrix(y_test, predictions_2)}')\n",
    "print(f'Area Under Curve: {roc_auc_score(y_test, predictions_2)}')\n",
    "print(f'Recall score: {recall_score(y_test,predictions_2)}')"
   ]
  },
  {
   "cell_type": "code",
   "execution_count": 84,
   "id": "1c2d0f95-ceb3-490d-a468-963978911ab6",
   "metadata": {},
   "outputs": [],
   "source": [
    "# define hyperparameters\n",
    "w = [{0:1000,1:100},{0:1000,1:10}, {0:1000,1:1.0}, \n",
    "     {0:500,1:1.0}, {0:400,1:1.0}, {0:300,1:1.0}, {0:200,1:1.0}, \n",
    "     {0:150,1:1.0}, {0:100,1:1.0}, {0:99,1:1.0}, {0:10,1:1.0}, \n",
    "     {0:0.01,1:1.0}, {0:0.01,1:10}, {0:0.01,1:100}, \n",
    "     {0:0.001,1:1.0}, {0:0.005,1:1.0}, {0:1.0,1:1.0}, \n",
    "     {0:1.0,1:0.1}, {0:10,1:0.1}, {0:100,1:0.1}, \n",
    "     {0:10,1:0.01}, {0:1.0,1:0.01}, {0:1.0,1:0.001}, {0:1.0,1:0.005}, \n",
    "     {0:1.0,1:10}, {0:1.0,1:99}, {0:1.0,1:100}, {0:1.0,1:150}, \n",
    "     {0:1.0,1:200}, {0:1.0,1:300},{0:1.0,1:400},{0:1.0,1:500}, \n",
    "     {0:1.0,1:1000}, {0:10,1:1000},{0:100,1:1000} ]\n",
    "crange = np.arange(0.5, 20.0, 0.5)\n",
    "hyperparam_grid = {\"class_weight\": w\n",
    "                   ,\"penalty\": [\"l1\", \"l2\"]\n",
    "                   ,\"C\": crange\n",
    "                   ,\"fit_intercept\": [True, False]  }"
   ]
  },
  {
   "cell_type": "code",
   "execution_count": 85,
   "id": "0f75b8df-ccfe-4347-b406-c0f449121d2e",
   "metadata": {},
   "outputs": [
    {
     "name": "stderr",
     "output_type": "stream",
     "text": [
      "C:\\Anaconda3\\lib\\site-packages\\sklearn\\model_selection\\_validation.py:372: FitFailedWarning: \n",
      "273000 fits failed out of a total of 546000.\n",
      "The score on these train-test partitions for these parameters will be set to nan.\n",
      "If these failures are not expected, you can try to debug them by setting error_score='raise'.\n",
      "\n",
      "Below are more details about the failures:\n",
      "--------------------------------------------------------------------------------\n",
      "273000 fits failed with the following error:\n",
      "Traceback (most recent call last):\n",
      "  File \"C:\\Anaconda3\\lib\\site-packages\\sklearn\\model_selection\\_validation.py\", line 680, in _fit_and_score\n",
      "    estimator.fit(X_train, y_train, **fit_params)\n",
      "  File \"C:\\Anaconda3\\lib\\site-packages\\sklearn\\linear_model\\_logistic.py\", line 1461, in fit\n",
      "    solver = _check_solver(self.solver, self.penalty, self.dual)\n",
      "  File \"C:\\Anaconda3\\lib\\site-packages\\sklearn\\linear_model\\_logistic.py\", line 447, in _check_solver\n",
      "    raise ValueError(\n",
      "ValueError: Solver lbfgs supports only 'l2' or 'none' penalties, got l1 penalty.\n",
      "\n",
      "  warnings.warn(some_fits_failed_message, FitFailedWarning)\n",
      "C:\\Anaconda3\\lib\\site-packages\\sklearn\\model_selection\\_search.py:969: UserWarning: One or more of the test scores are non-finite: [       nan 0.49942941        nan ... 0.49943154        nan 0.49621546]\n",
      "  warnings.warn(\n"
     ]
    },
    {
     "name": "stdout",
     "output_type": "stream",
     "text": [
      "Best score: 0.49988188076394047 with param: {'C': 0.5, 'class_weight': {0: 0.001, 1: 1.0}, 'fit_intercept': True, 'penalty': 'l2'}\n"
     ]
    }
   ],
   "source": [
    "# logistic model classifier\n",
    "lg4 = LogisticRegression(random_state=13)\n",
    "# define evaluation procedure\n",
    "grid = GridSearchCV(lg4,hyperparam_grid,scoring=\"roc_auc\", cv=100, n_jobs=-1, refit=True)\n",
    "grid.fit(x,y)\n",
    "print(f'Best score: {grid.best_score_} with param: {grid.best_params_}')"
   ]
  },
  {
   "cell_type": "code",
   "execution_count": null,
   "id": "74385552-107d-4aff-9649-d62d1b96a46f",
   "metadata": {},
   "outputs": [],
   "source": []
  }
 ],
 "metadata": {
  "kernelspec": {
   "display_name": "Python 3",
   "language": "python",
   "name": "python3"
  },
  "language_info": {
   "codemirror_mode": {
    "name": "ipython",
    "version": 3
   },
   "file_extension": ".py",
   "mimetype": "text/x-python",
   "name": "python",
   "nbconvert_exporter": "python",
   "pygments_lexer": "ipython3",
   "version": "3.9.13"
  }
 },
 "nbformat": 4,
 "nbformat_minor": 5
}
