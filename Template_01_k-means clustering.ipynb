{
 "cells": [
  {
   "cell_type": "markdown",
   "metadata": {},
   "source": [
    "# Segmenting Data with k-Means Clustering\n",
    "\n",
    "This project is adapted from the notebook of the LinkedIn Learning course indicated below:\n",
    "Source (Frederick Nwanganga):https://www.linkedin.com/learning/machine-learning-with-python-k-means-clustering"
   ]
  },
  {
   "cell_type": "markdown",
   "metadata": {},
   "source": [
    "## Project Objective\n",
    "Use k-means clustering to segment retail card customers based on their income and an assigned spending score."
   ]
  },
  {
   "cell_type": "markdown",
   "metadata": {},
   "source": [
    "## Importing the Python Packages\n",
    "\n",
    "import the required Python packages."
   ]
  },
  {
   "cell_type": "code",
   "execution_count": 540,
   "metadata": {},
   "outputs": [],
   "source": [
    "import pandas as pd\n",
    "import numpy as np\n",
    "from matplotlib import pyplot as plt\n",
    "from sklearn.preprocessing import StandardScaler\n",
    "scaler = StandardScaler()\n",
    "from sklearn.metrics import silhouette_score\n",
    "from sklearn.metrics import calinski_harabasz_score\n",
    "import seaborn as sns\n",
    "sns.set_theme()\n",
    "sns.set(font_scale=2)\n",
    "sns.set(rc={\"figure.figsize\":(10, 6)}) #width=6, height=5\n",
    "from scipy.stats import pearsonr # import pearsonr function to calculate  Pearson correlation coefficient"
   ]
  },
  {
   "cell_type": "markdown",
   "metadata": {},
   "source": [
    "## 1. Collect the Data\n",
    "Import the data into a dataframe called `df`."
   ]
  },
  {
   "cell_type": "code",
   "execution_count": 541,
   "metadata": {},
   "outputs": [],
   "source": [
    "df = pd.read_csv(\"C:/Users/ke337467/OneDrive - Oxfordshire County Council/Data Scientist Apprenticeship/Module Data Analytics/k-means clustering/mallcustomers.csv\")"
   ]
  },
  {
   "cell_type": "markdown",
   "metadata": {},
   "source": [
    "To verify that the import worked as expected, preview the data using the `head()` method."
   ]
  },
  {
   "cell_type": "code",
   "execution_count": 542,
   "metadata": {},
   "outputs": [
    {
     "data": {
      "text/html": [
       "<div>\n",
       "<style scoped>\n",
       "    .dataframe tbody tr th:only-of-type {\n",
       "        vertical-align: middle;\n",
       "    }\n",
       "\n",
       "    .dataframe tbody tr th {\n",
       "        vertical-align: top;\n",
       "    }\n",
       "\n",
       "    .dataframe thead th {\n",
       "        text-align: right;\n",
       "    }\n",
       "</style>\n",
       "<table border=\"1\" class=\"dataframe\">\n",
       "  <thead>\n",
       "    <tr style=\"text-align: right;\">\n",
       "      <th></th>\n",
       "      <th>CustomerID</th>\n",
       "      <th>Gender</th>\n",
       "      <th>Age</th>\n",
       "      <th>Income</th>\n",
       "      <th>SpendingScore</th>\n",
       "    </tr>\n",
       "  </thead>\n",
       "  <tbody>\n",
       "    <tr>\n",
       "      <th>0</th>\n",
       "      <td>1</td>\n",
       "      <td>Male</td>\n",
       "      <td>19</td>\n",
       "      <td>15000</td>\n",
       "      <td>39</td>\n",
       "    </tr>\n",
       "    <tr>\n",
       "      <th>1</th>\n",
       "      <td>2</td>\n",
       "      <td>Male</td>\n",
       "      <td>21</td>\n",
       "      <td>15000</td>\n",
       "      <td>81</td>\n",
       "    </tr>\n",
       "    <tr>\n",
       "      <th>2</th>\n",
       "      <td>3</td>\n",
       "      <td>Female</td>\n",
       "      <td>20</td>\n",
       "      <td>16000</td>\n",
       "      <td>6</td>\n",
       "    </tr>\n",
       "    <tr>\n",
       "      <th>3</th>\n",
       "      <td>4</td>\n",
       "      <td>Female</td>\n",
       "      <td>23</td>\n",
       "      <td>16000</td>\n",
       "      <td>77</td>\n",
       "    </tr>\n",
       "    <tr>\n",
       "      <th>4</th>\n",
       "      <td>5</td>\n",
       "      <td>Female</td>\n",
       "      <td>31</td>\n",
       "      <td>17000</td>\n",
       "      <td>40</td>\n",
       "    </tr>\n",
       "  </tbody>\n",
       "</table>\n",
       "</div>"
      ],
      "text/plain": [
       "   CustomerID  Gender  Age  Income  SpendingScore\n",
       "0           1    Male   19   15000             39\n",
       "1           2    Male   21   15000             81\n",
       "2           3  Female   20   16000              6\n",
       "3           4  Female   23   16000             77\n",
       "4           5  Female   31   17000             40"
      ]
     },
     "execution_count": 542,
     "metadata": {},
     "output_type": "execute_result"
    }
   ],
   "source": [
    "df.head()"
   ]
  },
  {
   "cell_type": "markdown",
   "metadata": {},
   "source": [
    "## 2. Tidy up the data set\n",
    "Check the data set for any missing data"
   ]
  },
  {
   "cell_type": "code",
   "execution_count": 543,
   "metadata": {},
   "outputs": [
    {
     "data": {
      "text/plain": [
       "CustomerID       0\n",
       "Gender           0\n",
       "Age              0\n",
       "Income           0\n",
       "SpendingScore    0\n",
       "dtype: int64"
      ]
     },
     "execution_count": 543,
     "metadata": {},
     "output_type": "execute_result"
    }
   ],
   "source": [
    "df.isnull().sum(axis=0)"
   ]
  },
  {
   "cell_type": "markdown",
   "metadata": {},
   "source": [
    "## 3. Explore the Data\n",
    "Next, let's get a concise summary of the structure and the values within the dataset:"
   ]
  },
  {
   "cell_type": "code",
   "execution_count": 544,
   "metadata": {
    "scrolled": true
   },
   "outputs": [
    {
     "name": "stdout",
     "output_type": "stream",
     "text": [
      "<class 'pandas.core.frame.DataFrame'>\n",
      "RangeIndex: 200 entries, 0 to 199\n",
      "Data columns (total 5 columns):\n",
      " #   Column         Non-Null Count  Dtype \n",
      "---  ------         --------------  ----- \n",
      " 0   CustomerID     200 non-null    int64 \n",
      " 1   Gender         200 non-null    object\n",
      " 2   Age            200 non-null    int64 \n",
      " 3   Income         200 non-null    int64 \n",
      " 4   SpendingScore  200 non-null    int64 \n",
      "dtypes: int64(4), object(1)\n",
      "memory usage: 7.9+ KB\n"
     ]
    }
   ],
   "source": [
    "df.info()"
   ]
  },
  {
   "cell_type": "markdown",
   "metadata": {},
   "source": [
    "### 3.1. Data Frame Summary\n",
    "There are 200 instances (or rows) in the dataset.  \n",
    "\n",
    "The dataset consists of 5 features (or columns). Note that the Gender column is a text column while the others are all integer values.  \n",
    "\n",
    "Summary statistics for the numeric features in the data by calling the describe() method.  \n",
    "#### 3.1.2. Using the .describe() method\n",
    "The default of df.describe() is to return summary statistics for numeric columns. If summary statistics are required for ALL columns, then include the ‘all’ argument.  \n",
    "\n",
    "> <span style=\"color:green\">df.describe(include = 'all') </span>\n",
    "\n",
    "The summary statistics can be neatened by including a round function to round all number to a specified number of places.\n",
    "\n",
    "> <span style=\"color:green\">df.describe(include = 'all').round(2) </span>\n"
   ]
  },
  {
   "cell_type": "code",
   "execution_count": 545,
   "metadata": {},
   "outputs": [
    {
     "data": {
      "text/html": [
       "<div>\n",
       "<style scoped>\n",
       "    .dataframe tbody tr th:only-of-type {\n",
       "        vertical-align: middle;\n",
       "    }\n",
       "\n",
       "    .dataframe tbody tr th {\n",
       "        vertical-align: top;\n",
       "    }\n",
       "\n",
       "    .dataframe thead th {\n",
       "        text-align: right;\n",
       "    }\n",
       "</style>\n",
       "<table border=\"1\" class=\"dataframe\">\n",
       "  <thead>\n",
       "    <tr style=\"text-align: right;\">\n",
       "      <th></th>\n",
       "      <th>CustomerID</th>\n",
       "      <th>Gender</th>\n",
       "      <th>Age</th>\n",
       "      <th>Income</th>\n",
       "      <th>SpendingScore</th>\n",
       "    </tr>\n",
       "  </thead>\n",
       "  <tbody>\n",
       "    <tr>\n",
       "      <th>count</th>\n",
       "      <td>200.00</td>\n",
       "      <td>200</td>\n",
       "      <td>200.00</td>\n",
       "      <td>200.00</td>\n",
       "      <td>200.00</td>\n",
       "    </tr>\n",
       "    <tr>\n",
       "      <th>unique</th>\n",
       "      <td>NaN</td>\n",
       "      <td>2</td>\n",
       "      <td>NaN</td>\n",
       "      <td>NaN</td>\n",
       "      <td>NaN</td>\n",
       "    </tr>\n",
       "    <tr>\n",
       "      <th>top</th>\n",
       "      <td>NaN</td>\n",
       "      <td>Female</td>\n",
       "      <td>NaN</td>\n",
       "      <td>NaN</td>\n",
       "      <td>NaN</td>\n",
       "    </tr>\n",
       "    <tr>\n",
       "      <th>freq</th>\n",
       "      <td>NaN</td>\n",
       "      <td>112</td>\n",
       "      <td>NaN</td>\n",
       "      <td>NaN</td>\n",
       "      <td>NaN</td>\n",
       "    </tr>\n",
       "    <tr>\n",
       "      <th>mean</th>\n",
       "      <td>100.50</td>\n",
       "      <td>NaN</td>\n",
       "      <td>38.85</td>\n",
       "      <td>60560.00</td>\n",
       "      <td>50.20</td>\n",
       "    </tr>\n",
       "    <tr>\n",
       "      <th>std</th>\n",
       "      <td>57.88</td>\n",
       "      <td>NaN</td>\n",
       "      <td>13.97</td>\n",
       "      <td>26264.72</td>\n",
       "      <td>25.82</td>\n",
       "    </tr>\n",
       "    <tr>\n",
       "      <th>min</th>\n",
       "      <td>1.00</td>\n",
       "      <td>NaN</td>\n",
       "      <td>18.00</td>\n",
       "      <td>15000.00</td>\n",
       "      <td>1.00</td>\n",
       "    </tr>\n",
       "    <tr>\n",
       "      <th>25%</th>\n",
       "      <td>50.75</td>\n",
       "      <td>NaN</td>\n",
       "      <td>28.75</td>\n",
       "      <td>41500.00</td>\n",
       "      <td>34.75</td>\n",
       "    </tr>\n",
       "    <tr>\n",
       "      <th>50%</th>\n",
       "      <td>100.50</td>\n",
       "      <td>NaN</td>\n",
       "      <td>36.00</td>\n",
       "      <td>61500.00</td>\n",
       "      <td>50.00</td>\n",
       "    </tr>\n",
       "    <tr>\n",
       "      <th>75%</th>\n",
       "      <td>150.25</td>\n",
       "      <td>NaN</td>\n",
       "      <td>49.00</td>\n",
       "      <td>78000.00</td>\n",
       "      <td>73.00</td>\n",
       "    </tr>\n",
       "    <tr>\n",
       "      <th>max</th>\n",
       "      <td>200.00</td>\n",
       "      <td>NaN</td>\n",
       "      <td>70.00</td>\n",
       "      <td>137000.00</td>\n",
       "      <td>99.00</td>\n",
       "    </tr>\n",
       "  </tbody>\n",
       "</table>\n",
       "</div>"
      ],
      "text/plain": [
       "        CustomerID  Gender     Age     Income  SpendingScore\n",
       "count       200.00     200  200.00     200.00         200.00\n",
       "unique         NaN       2     NaN        NaN            NaN\n",
       "top            NaN  Female     NaN        NaN            NaN\n",
       "freq           NaN     112     NaN        NaN            NaN\n",
       "mean        100.50     NaN   38.85   60560.00          50.20\n",
       "std          57.88     NaN   13.97   26264.72          25.82\n",
       "min           1.00     NaN   18.00   15000.00           1.00\n",
       "25%          50.75     NaN   28.75   41500.00          34.75\n",
       "50%         100.50     NaN   36.00   61500.00          50.00\n",
       "75%         150.25     NaN   49.00   78000.00          73.00\n",
       "max         200.00     NaN   70.00  137000.00          99.00"
      ]
     },
     "execution_count": 545,
     "metadata": {},
     "output_type": "execute_result"
    }
   ],
   "source": [
    "df.describe(include = 'all').round(2)"
   ]
  },
  {
   "cell_type": "markdown",
   "metadata": {},
   "source": [
    "**Note 1:** The dataset does not have any missing values.    \n",
    "\n",
    "**Note 2:** that the top three rows in the data statistics refer to the text columns in the dataset, in this example the Gender column.   \n",
    "\n",
    "**Note3:** The NaN in the statistics apply to portions of the table where the numeric functions are not applicable."
   ]
  },
  {
   "cell_type": "markdown",
   "metadata": {},
   "source": [
    "### 3.2. Visual exploration of the dataset "
   ]
  },
  {
   "cell_type": "markdown",
   "metadata": {},
   "source": [
    "A visual exploration of the dataset provides additional insight."
   ]
  },
  {
   "cell_type": "markdown",
   "metadata": {},
   "source": [
    "#### 3.2.1. Boxplot to evaluate the income differences between male and female shoppers"
   ]
  },
  {
   "cell_type": "code",
   "execution_count": 546,
   "metadata": {},
   "outputs": [
    {
     "data": {
      "image/png": "[encoded data removed]",
      "text/plain": [
       "<Figure size 720x432 with 1 Axes>"
      ]
     },
     "metadata": {},
     "output_type": "display_data"
    }
   ],
   "source": [
    "ax = sns.boxplot(data = df, \n",
    "                 x = 'Gender', \n",
    "                 y = 'Income', \n",
    "                 palette = 'Accent')"
   ]
  },
  {
   "cell_type": "markdown",
   "metadata": {},
   "source": [
    "#### 3.2.2. Observations:\n",
    "* These is not a significant difference between the genders.\n",
    "* Women earn slightly less than men\n",
    "* There is a wider spread of income between men and women and women earn less than men overall\n",
    "\n",
    "### 3.3. Boxplot to evaluate the age differences between male and female shoppers\n"
   ]
  },
  {
   "cell_type": "code",
   "execution_count": 547,
   "metadata": {},
   "outputs": [
    {
     "data": {
      "image/png": "[encoded data removed]",
      "text/plain": [
       "<Figure size 720x432 with 1 Axes>"
      ]
     },
     "metadata": {},
     "output_type": "display_data"
    }
   ],
   "source": [
    "ax = sns.boxplot(data = df, \n",
    "                 x = 'Gender', \n",
    "                 y = 'Age', \n",
    "                 palette = 'Accent')"
   ]
  },
  {
   "cell_type": "markdown",
   "metadata": {},
   "source": [
    "#### 3.3.1. Observations:\n",
    "* There is a wider age spread of men compared to women.\n",
    "* The mean age of women shoppers in less than that of men.\n",
    "* There are more older male shoppers than female.\n",
    "* The youngest and oldest shoppers are men\n",
    "\n",
    "\n",
    "### 3.4. Boxplot to evaluate the differences in spending scores between male and female shoppers"
   ]
  },
  {
   "cell_type": "code",
   "execution_count": 548,
   "metadata": {},
   "outputs": [
    {
     "data": {
      "image/png": "[encoded data removed]",
      "text/plain": [
       "<Figure size 720x432 with 1 Axes>"
      ]
     },
     "metadata": {},
     "output_type": "display_data"
    }
   ],
   "source": [
    "ax = sns.boxplot(data = df, \n",
    "                 x = 'Gender', \n",
    "                 y = 'SpendingScore', \n",
    "                 palette = 'Accent')"
   ]
  },
  {
   "cell_type": "markdown",
   "metadata": {},
   "source": [
    "#### 3.4.1. Observations:\n",
    "* There is not a significant difference between men and women.\n",
    "* Women shoppers tend to spend more than men."
   ]
  },
  {
   "cell_type": "markdown",
   "metadata": {},
   "source": [
    "### 3.5. Correlation between age and income\n",
    "#### 3.5.1. Scatterplot to evaluate the relationship betweeen age and income"
   ]
  },
  {
   "cell_type": "code",
   "execution_count": 549,
   "metadata": {},
   "outputs": [
    {
     "data": {
      "image/png": "[encoded data removed]",
      "text/plain": [
       "<Figure size 720x432 with 1 Axes>"
      ]
     },
     "metadata": {},
     "output_type": "display_data"
    }
   ],
   "source": [
    "ax = sns.scatterplot(data = df,\n",
    "                     x = 'Age', \n",
    "                     y = 'Income', \n",
    "                     palette= 'Accent',\n",
    "                     s = 50,  \n",
    "                     hue=\"Gender\")\n"
   ]
  },
  {
   "cell_type": "markdown",
   "metadata": {},
   "source": [
    "#### 3.5.2. Pearson correlation coefficient between age and income"
   ]
  },
  {
   "cell_type": "code",
   "execution_count": 550,
   "metadata": {},
   "outputs": [
    {
     "data": {
      "text/plain": [
       "PearsonRResult(statistic=-0.012398042736060134, pvalue=0.8616748930180701)"
      ]
     },
     "execution_count": 550,
     "metadata": {},
     "output_type": "execute_result"
    }
   ],
   "source": [
    "pc1 = pearsonr(df['Age'], df['Income'])\n",
    "pc1"
   ]
  },
  {
   "cell_type": "markdown",
   "metadata": {},
   "source": [
    "####  3.5.2.1. Observations:\n",
    "Pearson correlation coefficient (r) = `-0.0124`indicates a <span style=\"color:red\">**NO correlation**</span> between  age `Age`and income `Income`\n",
    " \n",
    "Two-tailed p-value (p) = `0.8617`being greater than the level of significance ` p > 0.05` indicates that there is <span style=\"color:red\">**not a statistically significant association**</span>  between between  age `Age`and income `Income`"
   ]
  },
  {
   "cell_type": "markdown",
   "metadata": {},
   "source": [
    "### 3.6. Correlation between age and spending score\n",
    "#### 3.6.1. Scatterplot to evaluate the relationship between age and spending score"
   ]
  },
  {
   "cell_type": "code",
   "execution_count": 551,
   "metadata": {},
   "outputs": [
    {
     "data": {
      "image/png": "[encoded data removed]",
      "text/plain": [
       "<Figure size 720x432 with 1 Axes>"
      ]
     },
     "metadata": {},
     "output_type": "display_data"
    }
   ],
   "source": [
    "ax = sns.scatterplot(data = df, \n",
    "                     x = 'Age', \n",
    "                     y = 'SpendingScore',\n",
    "                     palette= 'Accent',\n",
    "                     hue=\"Gender\",\n",
    "                     s = 50)"
   ]
  },
  {
   "cell_type": "markdown",
   "metadata": {},
   "source": [
    "#### 3.6.2. Pearson correlation coefficient between age and spending score"
   ]
  },
  {
   "cell_type": "code",
   "execution_count": 552,
   "metadata": {},
   "outputs": [
    {
     "data": {
      "text/plain": [
       "PearsonRResult(statistic=-0.32722684603909, pvalue=2.2502957035653357e-06)"
      ]
     },
     "execution_count": 552,
     "metadata": {},
     "output_type": "execute_result"
    }
   ],
   "source": [
    "pc2 = pearsonr(df['Age'], df['SpendingScore'])\n",
    "pc2"
   ]
  },
  {
   "cell_type": "markdown",
   "metadata": {},
   "source": [
    "####  3.6.3. Observations:\n",
    "Pearson correlation coefficient (r) = `-0.3272`indicates a <span style=\"color:red\">** weak negative correlation**</span> between  age `Age`and income `SpendingScore`\n",
    " \n",
    "Two-tailed p-value (p) = `2.2503`being greater than the level of significance ` p > 0.05` indicates that there is <span style=\"color:red\">**not a statistically significant association**</span>  between between  age `Age`and `SpendingScore`"
   ]
  },
  {
   "cell_type": "markdown",
   "metadata": {},
   "source": [
    "### 3.7. Correlation between income and spending score\n",
    "#### 3.7.1. Scatterplot to evaluate the relationship betweeen income and spending score"
   ]
  },
  {
   "cell_type": "code",
   "execution_count": 553,
   "metadata": {},
   "outputs": [
    {
     "data": {
      "image/png": "[encoded data removed]",
      "text/plain": [
       "<Figure size 720x432 with 1 Axes>"
      ]
     },
     "metadata": {},
     "output_type": "display_data"
    }
   ],
   "source": [
    "ax = sns.scatterplot(data = df, \n",
    "                     x = 'Income', \n",
    "                     y = 'SpendingScore',\n",
    "                palette= 'Accent',\n",
    "                    hue=\"Gender\",\n",
    "                     s = 50)"
   ]
  },
  {
   "cell_type": "markdown",
   "metadata": {},
   "source": [
    "#### 3.7.2. Pearson correlation coefficient between income and spending score"
   ]
  },
  {
   "cell_type": "code",
   "execution_count": 554,
   "metadata": {},
   "outputs": [
    {
     "data": {
      "text/plain": [
       "PearsonRResult(statistic=0.00990284809403762, pvalue=0.8893134370274359)"
      ]
     },
     "execution_count": 554,
     "metadata": {},
     "output_type": "execute_result"
    }
   ],
   "source": [
    "pc3 = pearsonr(df['Income'], df['SpendingScore'])\n",
    "pc3"
   ]
  },
  {
   "cell_type": "markdown",
   "metadata": {},
   "source": [
    "####  3.7.3. Observations:\n",
    "Pearson correlation coefficient (r) = `0.0099`indicates a <span style=\"color:red\">**NO correlation**</span> between  age `Income`and income `SpendingScore`.\n",
    " \n",
    "Two-tailed p-value (p) = `0.8893`being greater than the level of significance ` p > 0.05` indicates that there is <span style=\"color:red\">**not a statistically significant association**</span>  between between  age `Income`and `SpendingScore`.\n",
    "\n",
    "In the scatterplot it is possible  to get a sense of possibly five or six obvious clusters.\n",
    "\n",
    "There is a significant difference in the range of values between income and spending  score.\n"
   ]
  },
  {
   "cell_type": "markdown",
   "metadata": {},
   "source": [
    "## 4. Prepare the Data"
   ]
  },
  {
   "cell_type": "markdown",
   "metadata": {},
   "source": [
    "### 4.1. Return the summary statistics for the Income and SpendingScore columns\n",
    "\n",
    "To resolve the wide range in income and spending score return the summary statistics of `Income` and `SpendingScore` using the .describe() method. Only return the two fields not the entire data frame."
   ]
  },
  {
   "cell_type": "code",
   "execution_count": 555,
   "metadata": {
    "tags": []
   },
   "outputs": [
    {
     "data": {
      "text/html": [
       "<div>\n",
       "<style scoped>\n",
       "    .dataframe tbody tr th:only-of-type {\n",
       "        vertical-align: middle;\n",
       "    }\n",
       "\n",
       "    .dataframe tbody tr th {\n",
       "        vertical-align: top;\n",
       "    }\n",
       "\n",
       "    .dataframe thead th {\n",
       "        text-align: right;\n",
       "    }\n",
       "</style>\n",
       "<table border=\"1\" class=\"dataframe\">\n",
       "  <thead>\n",
       "    <tr style=\"text-align: right;\">\n",
       "      <th></th>\n",
       "      <th>Income</th>\n",
       "      <th>SpendingScore</th>\n",
       "    </tr>\n",
       "  </thead>\n",
       "  <tbody>\n",
       "    <tr>\n",
       "      <th>count</th>\n",
       "      <td>200.00</td>\n",
       "      <td>200.00</td>\n",
       "    </tr>\n",
       "    <tr>\n",
       "      <th>mean</th>\n",
       "      <td>60560.00</td>\n",
       "      <td>50.20</td>\n",
       "    </tr>\n",
       "    <tr>\n",
       "      <th>std</th>\n",
       "      <td>26264.72</td>\n",
       "      <td>25.82</td>\n",
       "    </tr>\n",
       "    <tr>\n",
       "      <th>min</th>\n",
       "      <td>15000.00</td>\n",
       "      <td>1.00</td>\n",
       "    </tr>\n",
       "    <tr>\n",
       "      <th>25%</th>\n",
       "      <td>41500.00</td>\n",
       "      <td>34.75</td>\n",
       "    </tr>\n",
       "    <tr>\n",
       "      <th>50%</th>\n",
       "      <td>61500.00</td>\n",
       "      <td>50.00</td>\n",
       "    </tr>\n",
       "    <tr>\n",
       "      <th>75%</th>\n",
       "      <td>78000.00</td>\n",
       "      <td>73.00</td>\n",
       "    </tr>\n",
       "    <tr>\n",
       "      <th>max</th>\n",
       "      <td>137000.00</td>\n",
       "      <td>99.00</td>\n",
       "    </tr>\n",
       "  </tbody>\n",
       "</table>\n",
       "</div>"
      ],
      "text/plain": [
       "          Income  SpendingScore\n",
       "count     200.00         200.00\n",
       "mean    60560.00          50.20\n",
       "std     26264.72          25.82\n",
       "min     15000.00           1.00\n",
       "25%     41500.00          34.75\n",
       "50%     61500.00          50.00\n",
       "75%     78000.00          73.00\n",
       "max    137000.00          99.00"
      ]
     },
     "execution_count": 555,
     "metadata": {},
     "output_type": "execute_result"
    }
   ],
   "source": [
    "df[['Income', 'SpendingScore']].describe().round(2)"
   ]
  },
  {
   "cell_type": "markdown",
   "metadata": {},
   "source": [
    "#### 4.1.2. Observations:\n",
    "* The standard deviation for `Income` is ` 26264.72` which illustrates a significant range in the income data that will need to be resolved.\n",
    "* The standard deviation for `SpendingScore` is ` 26264.72` which illustrates a significant range in the data spending score that will need to be resolved.\n",
    "* k-means clustering uses Euclidean distance to quantify similarity. The problem with these two fields is left as they are now the income feature will dominate the distance calculations and spending score will have little if any impact on the clustering process.\n",
    "* The resolution to this problem is to normalise (or standardise) the data in these two fields.\n",
    "* Standardisation rescales the two fields `Income` and `SpendingScore` to have a mean of 0 and a standard deviation of 1.\n",
    "\n",
    "Source (Frederick Nwanganga):https://www.linkedin.com/learning/machine-learning-with-python-k-means-clustering/how-to-segment-data-with-k-means-clustering-in-python?\n"
   ]
  },
  {
   "cell_type": "markdown",
   "metadata": {},
   "source": [
    "### 4.2. Normalise (or standardise) the data in the Income and SpendingScore fields.\n",
    "\n",
    "Use the scaler.fit_transform method from the sklearn.preprocessing subpackage to standerdise the `Income` and `SpendingScore` fields.\n"
   ]
  },
  {
   "cell_type": "code",
   "execution_count": 556,
   "metadata": {},
   "outputs": [
    {
     "name": "stdout",
     "output_type": "stream",
     "text": [
      "[[-1.73899919 -0.43480148]\n",
      " [-1.73899919  1.19570407]\n",
      " [-1.70082976 -1.71591298]\n",
      " [-1.70082976  1.04041783]\n",
      " [-1.66266033 -0.39597992]]\n"
     ]
    }
   ],
   "source": [
    "dfs = scaler.fit_transform(df[['Income', 'SpendingScore']])\n",
    "print(dfs[0:5]) # print the first five elements in the array"
   ]
  },
  {
   "cell_type": "markdown",
   "metadata": {},
   "source": [
    "The scaler transformation returns a NumPy array that needs to be converted to a data frame (for convenience)."
   ]
  },
  {
   "cell_type": "code",
   "execution_count": 557,
   "metadata": {},
   "outputs": [],
   "source": [
    "dfs = pd.DataFrame(dfs, columns = ['Income', 'SpendingScore'])"
   ]
  },
  {
   "cell_type": "code",
   "execution_count": 558,
   "metadata": {
    "tags": []
   },
   "outputs": [
    {
     "data": {
      "text/html": [
       "<div>\n",
       "<style scoped>\n",
       "    .dataframe tbody tr th:only-of-type {\n",
       "        vertical-align: middle;\n",
       "    }\n",
       "\n",
       "    .dataframe tbody tr th {\n",
       "        vertical-align: top;\n",
       "    }\n",
       "\n",
       "    .dataframe thead th {\n",
       "        text-align: right;\n",
       "    }\n",
       "</style>\n",
       "<table border=\"1\" class=\"dataframe\">\n",
       "  <thead>\n",
       "    <tr style=\"text-align: right;\">\n",
       "      <th></th>\n",
       "      <th>Income</th>\n",
       "      <th>SpendingScore</th>\n",
       "    </tr>\n",
       "  </thead>\n",
       "  <tbody>\n",
       "    <tr>\n",
       "      <th>count</th>\n",
       "      <td>200.00</td>\n",
       "      <td>200.00</td>\n",
       "    </tr>\n",
       "    <tr>\n",
       "      <th>mean</th>\n",
       "      <td>-0.00</td>\n",
       "      <td>-0.00</td>\n",
       "    </tr>\n",
       "    <tr>\n",
       "      <th>std</th>\n",
       "      <td>1.00</td>\n",
       "      <td>1.00</td>\n",
       "    </tr>\n",
       "    <tr>\n",
       "      <th>min</th>\n",
       "      <td>-1.74</td>\n",
       "      <td>-1.91</td>\n",
       "    </tr>\n",
       "    <tr>\n",
       "      <th>25%</th>\n",
       "      <td>-0.73</td>\n",
       "      <td>-0.60</td>\n",
       "    </tr>\n",
       "    <tr>\n",
       "      <th>50%</th>\n",
       "      <td>0.04</td>\n",
       "      <td>-0.01</td>\n",
       "    </tr>\n",
       "    <tr>\n",
       "      <th>75%</th>\n",
       "      <td>0.67</td>\n",
       "      <td>0.89</td>\n",
       "    </tr>\n",
       "    <tr>\n",
       "      <th>max</th>\n",
       "      <td>2.92</td>\n",
       "      <td>1.89</td>\n",
       "    </tr>\n",
       "  </tbody>\n",
       "</table>\n",
       "</div>"
      ],
      "text/plain": [
       "       Income  SpendingScore\n",
       "count  200.00         200.00\n",
       "mean    -0.00          -0.00\n",
       "std      1.00           1.00\n",
       "min     -1.74          -1.91\n",
       "25%     -0.73          -0.60\n",
       "50%      0.04          -0.01\n",
       "75%      0.67           0.89\n",
       "max      2.92           1.89"
      ]
     },
     "execution_count": 558,
     "metadata": {},
     "output_type": "execute_result"
    }
   ],
   "source": [
    "dfs.describe().round(2)"
   ]
  },
  {
   "cell_type": "markdown",
   "metadata": {},
   "source": [
    "### 4.3. The standardised values in both Income and SpendingScore.\n",
    "Reviewing the data frame above note that both `Income` and `SpendingScore` now have a standard deviation of one and a mean of zero. The approach is Z-score normalization.\n"
   ]
  },
  {
   "cell_type": "markdown",
   "metadata": {},
   "source": [
    "## 5. Create the Clusters\n",
    "To cluster the data using k-means clustering it is necessary to add the appropriate python packages.  \n",
    "Import the k-means class from the sklearn.cluster subpackage."
   ]
  },
  {
   "cell_type": "code",
   "execution_count": 559,
   "metadata": {},
   "outputs": [],
   "source": [
    "from sklearn.cluster import KMeans"
   ]
  },
  {
   "cell_type": "markdown",
   "metadata": {},
   "source": [
    "### 5.1. Setting up the k-means clustering algorithm\n",
    "Create a new object called `kmeans` from the k-means class.  \n",
    "k-means requires three arguments:  \n",
    "* 1. ` n_clusters` argument determines the number of clusters. In the example it is set to 3.  \n",
    "* 2. ` n_init` this argument sets the number of times the k-means algorithm should be run with different central seeds. The default is 10. Set here to 25. \n",
    "* 3. `random_state` this argument sets the random initialisation seed which will be used to generate the cluster centres to 1, 2, 3, 4. Using this argument enables the reproduction of the results.  \n"
   ]
  },
  {
   "cell_type": "code",
   "execution_count": 560,
   "metadata": {},
   "outputs": [],
   "source": [
    "kmeans = KMeans(n_clusters = 3, n_init = 25, random_state = 1234)"
   ]
  },
  {
   "cell_type": "markdown",
   "metadata": {},
   "source": [
    "#### 5.1.1. Use the fit method\n",
    "* Use the fit method of the kmeans object to cluster the data.   "
   ]
  },
  {
   "cell_type": "code",
   "execution_count": 561,
   "metadata": {},
   "outputs": [
    {
     "data": {
      "text/plain": [
       "KMeans(n_clusters=3, n_init=25, random_state=1234)"
      ]
     },
     "execution_count": 561,
     "metadata": {},
     "output_type": "execute_result"
    }
   ],
   "source": [
    "kmeans.fit(dfs)"
   ]
  },
  {
   "cell_type": "markdown",
   "metadata": {},
   "source": [
    "### 5.2. Assign reference labels\n",
    "*  get `cluster assignments` reference the labels attributes of the km object.  \n",
    "* Cluster assignments correspond to the order of instances in the customer scale data set.  \n",
    "* Output is a NumPy array of cluster assignments. "
   ]
  },
  {
   "cell_type": "code",
   "execution_count": 562,
   "metadata": {},
   "outputs": [
    {
     "data": {
      "text/plain": [
       "array([0, 0, 0, 0, 0, 0, 0, 0, 0, 0, 0, 0, 0, 0, 0, 0, 0, 0, 0, 0, 0, 0,\n",
       "       0, 0, 0, 0, 0, 0, 0, 0, 0, 0, 0, 0, 0, 0, 0, 0, 0, 0, 0, 0, 0, 0,\n",
       "       0, 0, 0, 0, 0, 0, 0, 0, 0, 0, 0, 0, 0, 0, 0, 0, 0, 0, 0, 0, 0, 0,\n",
       "       0, 0, 0, 0, 0, 0, 0, 0, 0, 0, 0, 0, 0, 0, 0, 0, 0, 0, 0, 0, 0, 0,\n",
       "       0, 0, 0, 0, 0, 0, 0, 0, 0, 0, 0, 0, 0, 0, 0, 0, 0, 0, 0, 0, 0, 0,\n",
       "       0, 0, 0, 0, 0, 0, 0, 0, 0, 0, 0, 0, 0, 2, 1, 2, 1, 2, 1, 2, 1, 2,\n",
       "       1, 2, 1, 2, 1, 2, 1, 2, 1, 2, 1, 2, 1, 2, 1, 2, 1, 2, 1, 2, 1, 2,\n",
       "       1, 2, 1, 2, 1, 2, 1, 2, 1, 2, 1, 2, 1, 2, 1, 2, 1, 2, 1, 2, 1, 2,\n",
       "       1, 2, 1, 2, 1, 2, 1, 2, 1, 2, 1, 2, 1, 2, 1, 2, 1, 2, 1, 2, 1, 2,\n",
       "       1, 2])"
      ]
     },
     "execution_count": 562,
     "metadata": {},
     "output_type": "execute_result"
    }
   ],
   "source": [
    "kmeans.labels_"
   ]
  },
  {
   "cell_type": "markdown",
   "metadata": {},
   "source": [
    "#### 5.2.1. Notes about labels\n",
    "Cluster assignments correspond to the order of instances in the customer scale data frame. \n",
    "For example:\n",
    "* first item in the output array (also the first item in the dataset) is assigned to cluster 0\n",
    "* second last item is assigned to cluster 1\n",
    "* the last item in the array is in cluster 2.\n"
   ]
  },
  {
   "cell_type": "markdown",
   "metadata": {},
   "source": [
    "### 5.3. Using the inertia_ attribute in the k-means sub package\n",
    "The output of this code is the total `WCSS (within-cluster sum of squares)` for the clusters.\n"
   ]
  },
  {
   "cell_type": "code",
   "execution_count": 563,
   "metadata": {},
   "outputs": [
    {
     "data": {
      "text/plain": [
       "157.70400815035947"
      ]
     },
     "execution_count": 563,
     "metadata": {},
     "output_type": "execute_result"
    }
   ],
   "source": [
    "kmeans.inertia_"
   ]
  },
  {
   "cell_type": "markdown",
   "metadata": {},
   "source": [
    "## 6. Evaluate and Visualise the Clusters \n",
    "Count the number of items in each cluster"
   ]
  },
  {
   "cell_type": "code",
   "execution_count": 564,
   "metadata": {},
   "outputs": [
    {
     "data": {
      "text/plain": [
       "0    123\n",
       "1     38\n",
       "2     39\n",
       "dtype: int64"
      ]
     },
     "execution_count": 564,
     "metadata": {},
     "output_type": "execute_result"
    }
   ],
   "source": [
    "pd.Series(kmeans.labels_).value_counts().sort_index()"
   ]
  },
  {
   "cell_type": "markdown",
   "metadata": {},
   "source": [
    "### 6.1. Comparing cluster size\n",
    "The first cluster is disproportionately larger than the other two clusters and will need further attention bring more balance to the clusters.  \n",
    "It is possible that the initial number of clusters is not appropriate for this data set.\n",
    "The centre of each cluster will provide useful information about the quality of the clusters."
   ]
  },
  {
   "cell_type": "markdown",
   "metadata": {},
   "source": [
    "### 6.2. Return the coordinates of the centroids\n",
    "The cluster_centers attribute returns the coordinates of the centroids (cluster centres) as a NumPy array.\n"
   ]
  },
  {
   "cell_type": "code",
   "execution_count": 565,
   "metadata": {},
   "outputs": [
    {
     "data": {
      "text/plain": [
       "array([[-0.62618966, -0.01439238],\n",
       "       [ 1.00919971, -1.22553537],\n",
       "       [ 0.99158305,  1.23950275]])"
      ]
     },
     "execution_count": 565,
     "metadata": {},
     "output_type": "execute_result"
    }
   ],
   "source": [
    "kmeans.cluster_centers_"
   ]
  },
  {
   "cell_type": "markdown",
   "metadata": {},
   "source": [
    "#### 6.2.1. Convert the NumPy array to a data frame "
   ]
  },
  {
   "cell_type": "code",
   "execution_count": 566,
   "metadata": {
    "tags": []
   },
   "outputs": [
    {
     "data": {
      "text/html": [
       "<div>\n",
       "<style scoped>\n",
       "    .dataframe tbody tr th:only-of-type {\n",
       "        vertical-align: middle;\n",
       "    }\n",
       "\n",
       "    .dataframe tbody tr th {\n",
       "        vertical-align: top;\n",
       "    }\n",
       "\n",
       "    .dataframe thead th {\n",
       "        text-align: right;\n",
       "    }\n",
       "</style>\n",
       "<table border=\"1\" class=\"dataframe\">\n",
       "  <thead>\n",
       "    <tr style=\"text-align: right;\">\n",
       "      <th></th>\n",
       "      <th>Income</th>\n",
       "      <th>SpendingScore</th>\n",
       "    </tr>\n",
       "  </thead>\n",
       "  <tbody>\n",
       "    <tr>\n",
       "      <th>0</th>\n",
       "      <td>-0.626190</td>\n",
       "      <td>-0.014392</td>\n",
       "    </tr>\n",
       "    <tr>\n",
       "      <th>1</th>\n",
       "      <td>1.009200</td>\n",
       "      <td>-1.225535</td>\n",
       "    </tr>\n",
       "    <tr>\n",
       "      <th>2</th>\n",
       "      <td>0.991583</td>\n",
       "      <td>1.239503</td>\n",
       "    </tr>\n",
       "  </tbody>\n",
       "</table>\n",
       "</div>"
      ],
      "text/plain": [
       "     Income  SpendingScore\n",
       "0 -0.626190      -0.014392\n",
       "1  1.009200      -1.225535\n",
       "2  0.991583       1.239503"
      ]
     },
     "execution_count": 566,
     "metadata": {},
     "output_type": "execute_result"
    }
   ],
   "source": [
    "cluster_centers = pd.DataFrame(kmeans.cluster_centers_, \n",
    "                               columns = ['Income', 'SpendingScore'])\n",
    "cluster_centers"
   ]
  },
  {
   "cell_type": "markdown",
   "metadata": {},
   "source": [
    "#### 6.2.2. Understanding the coordinates of the centroids\n",
    "  \n",
    "The *Z-score* approach was used to standardise the data therefore the  coordinates for the average income and average spending score will be zero.  \n",
    "  \n",
    "  \n",
    "**Z-score normalisation** is the process of normalising every value in a feature so that the average (mean) of all the feature’s values equals zero and the standard deviation is one.  \n",
    "  \n",
    "(*Source Z-score normalisation:* https://www.statology.org/z-score-normalization/)\n",
    "  \n",
    "**First cluster centroid** Therefore examining the numbers for the first cluster centroid `(labelled 0)`  indicates that customers in this cluster have a slightly lower than average income `-0.626190` and about average spending scores `-0.014392`.  \n",
    "  \n",
    "**Second cluster centroid** The numbers for the second cluster centroid `(labelled 1)`  indicate that customers in this cluster have higher than average income `1.00919971` but lower than average spending scores ` -1.22553537`.   \n",
    "  \n",
    "**Third cluster centroid** The numbers for the third cluster centroid `(labelled 2)`  indicate that customers in this cluster have higher than average income `0.99158305` higher than average spending scores `1.23950275`.  \n",
    "  "
   ]
  },
  {
   "cell_type": "markdown",
   "metadata": {},
   "source": [
    "#### 6.2.3 Visualise the clusters and cluster centroids with scatter plots.\n",
    "\n",
    "Parameters for the first scatter plot - customer scale data:\n",
    "x = `Income`\n",
    "y = `SpendingScore` \n",
    "hue = `cluster labels` \n",
    "colour transparency  (alpha) = 0.8\n",
    "size of plot points s = 50\n"
   ]
  },
  {
   "cell_type": "code",
   "execution_count": 567,
   "metadata": {},
   "outputs": [
    {
     "data": {
      "image/png": "[encoded data removed]",
      "text/plain": [
       "<Figure size 720x576 with 1 Axes>"
      ]
     },
     "metadata": {},
     "output_type": "display_data"
    }
   ],
   "source": [
    "# Set the figure size\n",
    "plt.figure(figsize=(10, 8))\n",
    "\n",
    "#Plot the Clusters\n",
    "ax = sns.scatterplot(data = dfs,\n",
    "                     x = 'Income',\n",
    "                     y = 'SpendingScore', \n",
    "                     hue = kmeans.labels_, \n",
    "                     palette= 'Dark2',\n",
    "                     #alpha = 0.8, not required with the Accent palette \n",
    "                     s = 50,\n",
    "                     legend = False)\n",
    "\n",
    "#Plot the Centroids\n",
    "ax = sns.scatterplot(data = cluster_centers, \n",
    "                     x = 'Income',\n",
    "                     y = 'SpendingScore', \n",
    "                     hue = cluster_centers.index, \n",
    "                     palette = 'Accent', \n",
    "                     s = 600,\n",
    "                     marker = 'D',\n",
    "                     ec = 'black', \n",
    "                     legend = False)\n",
    "\n",
    "# Add Centroid Labels\n",
    "for i in range(len(cluster_centers)):\n",
    "               plt.text(x = cluster_centers.Income[i], \n",
    "                        y = cluster_centers.SpendingScore[i],\n",
    "                        s = i, \n",
    "                        horizontalalignment='center',\n",
    "                        verticalalignment='center',\n",
    "                        size = 20,\n",
    "                        weight = 'bold',\n",
    "                        color = 'red')"
   ]
  },
  {
   "cell_type": "markdown",
   "metadata": {},
   "source": [
    "#### 6.2.4. Evaluation of the centroid scatterplot\n",
    "Examining the scatterplot indicates that `cluster 0` could be partitioned further possibly into two clusters.   \n",
    "This confirms the findings in `Section 6.1` \n"
   ]
  },
  {
   "cell_type": "markdown",
   "metadata": {},
   "source": [
    "## 7. Choose the right number of Clusters"
   ]
  },
  {
   "cell_type": "markdown",
   "metadata": {},
   "source": [
    "### 7.1. Using statistical measures to calculate the appropriate number of clusters\n",
    "\n",
    "*Within Cluster Sum of Squares (WCSS)\n",
    "*Average Silhouette Score\n",
    "*Calinski Harabasz Score\n"
   ]
  },
  {
   "cell_type": "markdown",
   "metadata": {},
   "source": [
    "### 7.2. The Within Cluster Sum of Squares (WCSS)\n",
    "This approach is also known as the “Elbow method”  \n",
    "\n",
    "Approach used:\n",
    "* Create and empty list `wcss`\n",
    "* Iterate values for k from 2 to 10. (*Note:* stop value in the range function, 11 is exclusive)\n",
    "* For each `k`, cluster the data (as done in `Section 5.1` and `5.1.1.` but note that the value for the number of clusters is `k`).\n",
    "* The second last step in the iteration `(kmeans.inertia_)` calculates the `wcss value` for each iteration\n",
    "* The last step in the iteration appends the `wcss value` to the `wcss` list.\n",
    "\n",
    "**Note:** after irritating all nine k values, the `wcss` list will contain the `wcss value` for each `k` in the list.\n",
    "\n",
    "* When the loop is completed convert the wcss list into a Pandas Series\n",
    "\n",
    "Create a line plot with\n",
    "* y-axis = wcss\n",
    "* x-axis = k values\n"
   ]
  },
  {
   "cell_type": "code",
   "execution_count": 568,
   "metadata": {},
   "outputs": [
    {
     "data": {
      "image/png": "[encoded data removed]",
      "text/plain": [
       "<Figure size 576x432 with 1 Axes>"
      ]
     },
     "metadata": {},
     "output_type": "display_data"
    }
   ],
   "source": [
    "wcss = []\n",
    "for k in range(2, 11):\n",
    "    kmeans = KMeans(n_clusters = k, n_init = 25, random_state = 1234)\n",
    "    kmeans.fit(dfs)\n",
    "    wcss.append(kmeans.inertia_)\n",
    "\n",
    "wcss_series = pd.Series(wcss, index = range(2, 11))\n",
    "\n",
    "plt.figure(figsize=(8, 6))\n",
    "ax = sns.lineplot(y = wcss_series, x = wcss_series.index)\n",
    "ax = sns.scatterplot(y = wcss_series, x = wcss_series.index, s = 150)\n",
    "ax = ax.set(xlabel = 'Number of Clusters (k)', \n",
    "            ylabel = 'Within Cluster Sum of Squares (WCSS)')"
   ]
  },
  {
   "cell_type": "markdown",
   "metadata": {},
   "source": [
    "#### 7.2.1. Observation\n",
    "\n",
    "Examining the plot the elbow is at `k = 5` (it is at this point that increasing the value of `k` no longer reduces WCSS significantly.\n"
   ]
  },
  {
   "cell_type": "markdown",
   "metadata": {},
   "source": [
    "### 7.3. The Average Silhouette Score\n",
    "\n",
    "Approach used:  \n",
    "* Create and empty list `silhouette`\n",
    "* Iterate values for k from 2 to 10. (Note: stop value in the range function, 11 is exclusive)\n",
    "* For each k, cluster the data (as done in Section 5.1 and 5.1.1. but note that the value for the number of clusters is `k`)\n",
    "* The second last step in the iteration `( silhouette_score)` calculates the average `silhouette_score` for each k during each iteration\n",
    "* The last step in the iteration appends the `silhouette_score`.\n",
    "\n",
    "**Note:** after irritating all nine k values, the `silhouette` list will contain the `silhouette_score` for each k in the list.\n",
    "\n",
    "* When the loop is completed convert the `silhouette` list into a Pandas Series\n",
    "\n",
    "Create a line plot with:\n",
    "* y-axis = silhouette score\n",
    "* x-axis = k values\n"
   ]
  },
  {
   "cell_type": "code",
   "execution_count": 569,
   "metadata": {},
   "outputs": [
    {
     "data": {
      "image/png": "[encoded data removed]",
      "text/plain": [
       "<Figure size 576x432 with 1 Axes>"
      ]
     },
     "metadata": {},
     "output_type": "display_data"
    }
   ],
   "source": [
    "silhouette = []\n",
    "for k in range(2, 11):\n",
    "    kmeans = KMeans(n_clusters = k, n_init = 25, random_state = 1234)\n",
    "    kmeans.fit(dfs)\n",
    "    silhouette.append(silhouette_score(dfs, kmeans.labels_))\n",
    "\n",
    "silhouette_series = pd.Series(silhouette, index = range(2, 11))\n",
    "\n",
    "plt.figure(figsize=(8, 6))\n",
    "ax = sns.lineplot(y = silhouette_series, x = silhouette_series.index)\n",
    "ax = sns.scatterplot(y = silhouette_series, x = silhouette_series.index, s = 150)\n",
    "ax = ax.set(xlabel = 'Number of Clusters (k)', \n",
    "            ylabel = 'Average Silhouette Score')"
   ]
  },
  {
   "cell_type": "markdown",
   "metadata": {},
   "source": [
    "\n",
    "#### 7.3.1 Observations\n",
    "\n",
    "With the average silhouette method, the k value corresponding to the highest average silhouette score represents the optimal number of clusters. \n",
    "\n",
    "Examining the chart reveals that the values peak  when `k = 5`. This k value is the same as the `WCSS k value`.\n"
   ]
  },
  {
   "cell_type": "markdown",
   "metadata": {},
   "source": [
    "### 7.4. The Calinski Harabasz Score\n",
    "\n",
    "Approach used:  \n",
    "* Create and empty list `chs`\n",
    "* Iterate values for k from 2 to 10. (Note: stop value in the range function, 11 is exclusive)\n",
    "* For each k, cluster the data (as done in Section 5.1 and 5.1.1. but note that the value for the number of clusters is `k`)\n",
    "* The second last step in the iteration `( calinski_harabasz_score)` calculates the `calinski_harabasz_score` for each k during each iteration\n",
    "* The last step in the iteration appends the `calinski_harabasz_score` to the list `chs`\n",
    "\n",
    "**Note:** after irritating all nine k values, the `chs` list will contain the `calinski_harabasz_score` for each k in the list.\n",
    "\n",
    "* When the loop is completed convert the `chs` list into a Pandas Series\n",
    "\n",
    "Create a line plot with\n",
    "* y-axis = Calinski Harabasz Score\n",
    "* x-axis = k values\n",
    "\n"
   ]
  },
  {
   "cell_type": "code",
   "execution_count": 570,
   "metadata": {},
   "outputs": [
    {
     "data": {
      "image/png": "[encoded data removed]",
      "text/plain": [
       "<Figure size 576x432 with 1 Axes>"
      ]
     },
     "metadata": {},
     "output_type": "display_data"
    }
   ],
   "source": [
    "chs = []\n",
    "for k in range(2, 11):\n",
    "    kmeans = KMeans(n_clusters = k, n_init = 25, random_state = 1234)\n",
    "    kmeans.fit(dfs)\n",
    "    chs.append(calinski_harabasz_score(dfs, kmeans.labels_))\n",
    "\n",
    "calinski_series = pd.Series(chs, index = range(2, 11))\n",
    "\n",
    "plt.figure(figsize=(8, 6))\n",
    "ax = sns.lineplot(y = calinski_series, x = calinski_series.index)\n",
    "ax = sns.scatterplot(y = calinski_series, x = calinski_series.index, s = 150)\n",
    "ax = ax.set(xlabel = 'Number of Clusters (k)', \n",
    "            ylabel = 'Calinski Harabasz Score')"
   ]
  },
  {
   "cell_type": "markdown",
   "metadata": {},
   "source": [
    "\n",
    "#### 7.4.1. Observations\n",
    "\n",
    "Using the Calinski-Harabasz score, the optimal value for k is that which corresponds to either the highest score or the first abrupt elbow in the chart. \n",
    "\n",
    "* The first abrupt elbow is when `k = 5`.\n",
    "* The highest score is when `k = 9`.\n",
    "\n",
    "Results of the three tests\n",
    "* Within Cluster Sum of Squares (WCSS): `k = 5`.\n",
    "* Silhouette Score: `k = 5`.\n",
    "* Calinski-Harabasz score: `k = 5` or `k = 9`.\n",
    "\n",
    "Considering that the `WCSS` and `Silhouette` both returned `k = 5` and the `Calinski-Harabasz` is `k = 5` or `k = 9`.\n",
    "\n",
    "The optimal k value confirmed by all three tests is when `k = 5`.\n"
   ]
  },
  {
   "cell_type": "markdown",
   "metadata": {},
   "source": [
    "## 8. Analyze and Interpret the Clusters"
   ]
  },
  {
   "cell_type": "markdown",
   "metadata": {},
   "source": [
    "### 8.1. Adjusting the k-means clustering algorithm\n",
    "Create a new object called `kmeans` from the k-means class.  \n",
    "k-means requires three arguments:  \n",
    "* 1. ` n_clusters` argument determines the number of clusters. The correct number of clusters based on the three tests above (`WCSS`, `Silhouette` and `Calinski-Harabasz`) set `k = 5`.  \n",
    "* 2. ` n_init` this argument sets the number of times the k-means algorithm should be run with different central seeds. The default is 10. Set it to 25 (just to be sure). \n",
    "* 3. `random_state` this argument sets the random initialisation seed which will be used to generate the cluster centres to 1, 2, 3, 4. Using this argument enables the reproduction of the results.  \n"
   ]
  },
  {
   "cell_type": "code",
   "execution_count": 571,
   "metadata": {},
   "outputs": [],
   "source": [
    "kmeans = KMeans(n_clusters = 5, n_init = 25, random_state = 1234)"
   ]
  },
  {
   "cell_type": "markdown",
   "metadata": {},
   "source": [
    "#### 8.1.1. Use the fit method\n",
    "* Use the fit method of the kmeans object to cluster the data.   "
   ]
  },
  {
   "cell_type": "code",
   "execution_count": 572,
   "metadata": {},
   "outputs": [
    {
     "data": {
      "text/plain": [
       "KMeans(n_clusters=5, n_init=25, random_state=1234)"
      ]
     },
     "execution_count": 572,
     "metadata": {},
     "output_type": "execute_result"
    }
   ],
   "source": [
    "kmeans.fit(dfs)"
   ]
  },
  {
   "cell_type": "markdown",
   "metadata": {},
   "source": [
    "#### 8.1.2. Create a data frame for the cluster centroids\n",
    "Create a data frame for the cluster centroids called `cluster_centers`."
   ]
  },
  {
   "cell_type": "code",
   "execution_count": 573,
   "metadata": {},
   "outputs": [],
   "source": [
    "cluster_centers = pd.DataFrame(kmeans.cluster_centers_, columns = ['Income', 'SpendingScore'])"
   ]
  },
  {
   "cell_type": "code",
   "execution_count": 574,
   "metadata": {},
   "outputs": [
    {
     "data": {
      "image/png": "[encoded data removed]",
      "text/plain": [
       "<Figure size 720x576 with 1 Axes>"
      ]
     },
     "metadata": {},
     "output_type": "display_data"
    }
   ],
   "source": [
    "# Set the figure size\n",
    "plt.figure(figsize=(10, 8))\n",
    "\n",
    "#Plot the Clusters\n",
    "ax = sns.scatterplot(data = dfs,\n",
    "                     x = 'Income',\n",
    "                     y = 'SpendingScore', \n",
    "                     hue = kmeans.labels_, \n",
    "                     palette = 'Dark2', \n",
    "                     alpha = 0.8, \n",
    "                     s = 50,\n",
    "                     legend = False)\n",
    "\n",
    "#Plot the Centroids\n",
    "ax = sns.scatterplot(data = cluster_centers, \n",
    "                     x = 'Income',\n",
    "                     y = 'SpendingScore', \n",
    "                     hue = cluster_centers.index, \n",
    "                     palette = 'Accent', \n",
    "                     s = 600,\n",
    "                     marker = 'D',\n",
    "                     ec = 'black', \n",
    "                     legend = False)\n",
    "\n",
    "\n",
    "# Add Centroid Labels\n",
    "for i in range(len(cluster_centers)):\n",
    "               plt.text(x = cluster_centers.Income[i], \n",
    "                        y = cluster_centers.SpendingScore[i],\n",
    "                        s = i, \n",
    "                          horizontalalignment='center',\n",
    "                        verticalalignment='center',\n",
    "                        size = 20,\n",
    "                        weight = 'bold',\n",
    "                        color = 'red')"
   ]
  },
  {
   "cell_type": "markdown",
   "metadata": {},
   "source": [
    "#### 8.1.3. Observations\n",
    "\n",
    "*The chart now displays five clusters instead of the initial three. The previous `cluster 0` has been transformed into three clusters namely `cluster 0`, `cluster 3` and `cluster 4`. \n",
    "*`cluster 1` and `cluster 2` have remained basically the same as the previous iteration.\n"
   ]
  },
  {
   "cell_type": "markdown",
   "metadata": {},
   "source": [
    "### 8.2. Assigning cluster numbers to the original data\n",
    "\n",
    "* Create a new column in the dataset to hold the cluster assignment.\n",
    "* Assign the cluster numbers to the customers in the original data frame.\n",
    "* The next step is the analyze the the characteristics of each segment."
   ]
  },
  {
   "cell_type": "code",
   "execution_count": 575,
   "metadata": {},
   "outputs": [
    {
     "data": {
      "text/html": [
       "<div>\n",
       "<style scoped>\n",
       "    .dataframe tbody tr th:only-of-type {\n",
       "        vertical-align: middle;\n",
       "    }\n",
       "\n",
       "    .dataframe tbody tr th {\n",
       "        vertical-align: top;\n",
       "    }\n",
       "\n",
       "    .dataframe thead th {\n",
       "        text-align: right;\n",
       "    }\n",
       "</style>\n",
       "<table border=\"1\" class=\"dataframe\">\n",
       "  <thead>\n",
       "    <tr style=\"text-align: right;\">\n",
       "      <th></th>\n",
       "      <th>CustomerID</th>\n",
       "      <th>Gender</th>\n",
       "      <th>Age</th>\n",
       "      <th>Income</th>\n",
       "      <th>SpendingScore</th>\n",
       "      <th>Cluster</th>\n",
       "    </tr>\n",
       "  </thead>\n",
       "  <tbody>\n",
       "    <tr>\n",
       "      <th>0</th>\n",
       "      <td>1</td>\n",
       "      <td>Male</td>\n",
       "      <td>19</td>\n",
       "      <td>15000</td>\n",
       "      <td>39</td>\n",
       "      <td>0</td>\n",
       "    </tr>\n",
       "    <tr>\n",
       "      <th>1</th>\n",
       "      <td>2</td>\n",
       "      <td>Male</td>\n",
       "      <td>21</td>\n",
       "      <td>15000</td>\n",
       "      <td>81</td>\n",
       "      <td>3</td>\n",
       "    </tr>\n",
       "    <tr>\n",
       "      <th>2</th>\n",
       "      <td>3</td>\n",
       "      <td>Female</td>\n",
       "      <td>20</td>\n",
       "      <td>16000</td>\n",
       "      <td>6</td>\n",
       "      <td>0</td>\n",
       "    </tr>\n",
       "    <tr>\n",
       "      <th>3</th>\n",
       "      <td>4</td>\n",
       "      <td>Female</td>\n",
       "      <td>23</td>\n",
       "      <td>16000</td>\n",
       "      <td>77</td>\n",
       "      <td>3</td>\n",
       "    </tr>\n",
       "    <tr>\n",
       "      <th>4</th>\n",
       "      <td>5</td>\n",
       "      <td>Female</td>\n",
       "      <td>31</td>\n",
       "      <td>17000</td>\n",
       "      <td>40</td>\n",
       "      <td>0</td>\n",
       "    </tr>\n",
       "    <tr>\n",
       "      <th>5</th>\n",
       "      <td>6</td>\n",
       "      <td>Female</td>\n",
       "      <td>22</td>\n",
       "      <td>17000</td>\n",
       "      <td>76</td>\n",
       "      <td>3</td>\n",
       "    </tr>\n",
       "    <tr>\n",
       "      <th>6</th>\n",
       "      <td>7</td>\n",
       "      <td>Female</td>\n",
       "      <td>35</td>\n",
       "      <td>18000</td>\n",
       "      <td>6</td>\n",
       "      <td>0</td>\n",
       "    </tr>\n",
       "    <tr>\n",
       "      <th>7</th>\n",
       "      <td>8</td>\n",
       "      <td>Female</td>\n",
       "      <td>23</td>\n",
       "      <td>18000</td>\n",
       "      <td>94</td>\n",
       "      <td>3</td>\n",
       "    </tr>\n",
       "    <tr>\n",
       "      <th>8</th>\n",
       "      <td>9</td>\n",
       "      <td>Male</td>\n",
       "      <td>64</td>\n",
       "      <td>19000</td>\n",
       "      <td>3</td>\n",
       "      <td>0</td>\n",
       "    </tr>\n",
       "    <tr>\n",
       "      <th>9</th>\n",
       "      <td>10</td>\n",
       "      <td>Female</td>\n",
       "      <td>30</td>\n",
       "      <td>19000</td>\n",
       "      <td>72</td>\n",
       "      <td>3</td>\n",
       "    </tr>\n",
       "  </tbody>\n",
       "</table>\n",
       "</div>"
      ],
      "text/plain": [
       "   CustomerID  Gender  Age  Income  SpendingScore  Cluster\n",
       "0           1    Male   19   15000             39        0\n",
       "1           2    Male   21   15000             81        3\n",
       "2           3  Female   20   16000              6        0\n",
       "3           4  Female   23   16000             77        3\n",
       "4           5  Female   31   17000             40        0\n",
       "5           6  Female   22   17000             76        3\n",
       "6           7  Female   35   18000              6        0\n",
       "7           8  Female   23   18000             94        3\n",
       "8           9    Male   64   19000              3        0\n",
       "9          10  Female   30   19000             72        3"
      ]
     },
     "execution_count": 575,
     "metadata": {},
     "output_type": "execute_result"
    }
   ],
   "source": [
    "df['Cluster'] = kmeans.labels_.tolist()\n",
    "df.head(10)"
   ]
  },
  {
   "cell_type": "markdown",
   "metadata": {},
   "source": [
    "### 8.3. Setting up the original data frame for cluster analysis\n",
    "\n",
    "* The `gender` feature is categorical with text which is not helpful.\n",
    "* Dummy code the `gender` feature to two new features `Gender_Female` and `Gender_Male`.\n"
   ]
  },
  {
   "cell_type": "code",
   "execution_count": 576,
   "metadata": {},
   "outputs": [
    {
     "data": {
      "text/html": [
       "<div>\n",
       "<style scoped>\n",
       "    .dataframe tbody tr th:only-of-type {\n",
       "        vertical-align: middle;\n",
       "    }\n",
       "\n",
       "    .dataframe tbody tr th {\n",
       "        vertical-align: top;\n",
       "    }\n",
       "\n",
       "    .dataframe thead th {\n",
       "        text-align: right;\n",
       "    }\n",
       "</style>\n",
       "<table border=\"1\" class=\"dataframe\">\n",
       "  <thead>\n",
       "    <tr style=\"text-align: right;\">\n",
       "      <th></th>\n",
       "      <th>CustomerID</th>\n",
       "      <th>Age</th>\n",
       "      <th>Income</th>\n",
       "      <th>SpendingScore</th>\n",
       "      <th>Cluster</th>\n",
       "      <th>Gender_Female</th>\n",
       "      <th>Gender_Male</th>\n",
       "    </tr>\n",
       "  </thead>\n",
       "  <tbody>\n",
       "    <tr>\n",
       "      <th>0</th>\n",
       "      <td>1</td>\n",
       "      <td>19</td>\n",
       "      <td>15000</td>\n",
       "      <td>39</td>\n",
       "      <td>0</td>\n",
       "      <td>0</td>\n",
       "      <td>1</td>\n",
       "    </tr>\n",
       "    <tr>\n",
       "      <th>1</th>\n",
       "      <td>2</td>\n",
       "      <td>21</td>\n",
       "      <td>15000</td>\n",
       "      <td>81</td>\n",
       "      <td>3</td>\n",
       "      <td>0</td>\n",
       "      <td>1</td>\n",
       "    </tr>\n",
       "    <tr>\n",
       "      <th>2</th>\n",
       "      <td>3</td>\n",
       "      <td>20</td>\n",
       "      <td>16000</td>\n",
       "      <td>6</td>\n",
       "      <td>0</td>\n",
       "      <td>1</td>\n",
       "      <td>0</td>\n",
       "    </tr>\n",
       "    <tr>\n",
       "      <th>3</th>\n",
       "      <td>4</td>\n",
       "      <td>23</td>\n",
       "      <td>16000</td>\n",
       "      <td>77</td>\n",
       "      <td>3</td>\n",
       "      <td>1</td>\n",
       "      <td>0</td>\n",
       "    </tr>\n",
       "    <tr>\n",
       "      <th>4</th>\n",
       "      <td>5</td>\n",
       "      <td>31</td>\n",
       "      <td>17000</td>\n",
       "      <td>40</td>\n",
       "      <td>0</td>\n",
       "      <td>1</td>\n",
       "      <td>0</td>\n",
       "    </tr>\n",
       "    <tr>\n",
       "      <th>5</th>\n",
       "      <td>6</td>\n",
       "      <td>22</td>\n",
       "      <td>17000</td>\n",
       "      <td>76</td>\n",
       "      <td>3</td>\n",
       "      <td>1</td>\n",
       "      <td>0</td>\n",
       "    </tr>\n",
       "    <tr>\n",
       "      <th>6</th>\n",
       "      <td>7</td>\n",
       "      <td>35</td>\n",
       "      <td>18000</td>\n",
       "      <td>6</td>\n",
       "      <td>0</td>\n",
       "      <td>1</td>\n",
       "      <td>0</td>\n",
       "    </tr>\n",
       "    <tr>\n",
       "      <th>7</th>\n",
       "      <td>8</td>\n",
       "      <td>23</td>\n",
       "      <td>18000</td>\n",
       "      <td>94</td>\n",
       "      <td>3</td>\n",
       "      <td>1</td>\n",
       "      <td>0</td>\n",
       "    </tr>\n",
       "    <tr>\n",
       "      <th>8</th>\n",
       "      <td>9</td>\n",
       "      <td>64</td>\n",
       "      <td>19000</td>\n",
       "      <td>3</td>\n",
       "      <td>0</td>\n",
       "      <td>0</td>\n",
       "      <td>1</td>\n",
       "    </tr>\n",
       "    <tr>\n",
       "      <th>9</th>\n",
       "      <td>10</td>\n",
       "      <td>30</td>\n",
       "      <td>19000</td>\n",
       "      <td>72</td>\n",
       "      <td>3</td>\n",
       "      <td>1</td>\n",
       "      <td>0</td>\n",
       "    </tr>\n",
       "  </tbody>\n",
       "</table>\n",
       "</div>"
      ],
      "text/plain": [
       "   CustomerID  Age  Income  SpendingScore  Cluster  Gender_Female  Gender_Male\n",
       "0           1   19   15000             39        0              0            1\n",
       "1           2   21   15000             81        3              0            1\n",
       "2           3   20   16000              6        0              1            0\n",
       "3           4   23   16000             77        3              1            0\n",
       "4           5   31   17000             40        0              1            0\n",
       "5           6   22   17000             76        3              1            0\n",
       "6           7   35   18000              6        0              1            0\n",
       "7           8   23   18000             94        3              1            0\n",
       "8           9   64   19000              3        0              0            1\n",
       "9          10   30   19000             72        3              1            0"
      ]
     },
     "execution_count": 576,
     "metadata": {},
     "output_type": "execute_result"
    }
   ],
   "source": [
    "df = pd.get_dummies(df, columns = ['Gender'])\n",
    "df.head(10)"
   ]
  },
  {
   "cell_type": "markdown",
   "metadata": {},
   "source": [
    "### 8.4. Return descriptive statistics for each feature\n",
    "* Return descriptive statistics for Gender, Age, Income  and SpendingScore features."
   ]
  },
  {
   "cell_type": "code",
   "execution_count": 577,
   "metadata": {},
   "outputs": [
    {
     "data": {
      "text/plain": [
       "Gender_Female        0.56\n",
       "Gender_Male          0.44\n",
       "Age                 36.00\n",
       "Income           61500.00\n",
       "SpendingScore       50.00\n",
       "dtype: float64"
      ]
     },
     "execution_count": 577,
     "metadata": {},
     "output_type": "execute_result"
    }
   ],
   "source": [
    "df.agg({\n",
    "    'Gender_Female': 'mean',\n",
    "    'Gender_Male': 'mean',\n",
    "    'Age': 'median',\n",
    "    'Income': 'median',\n",
    "    'SpendingScore': 'median'}).round(2)"
   ]
  },
  {
   "cell_type": "markdown",
   "metadata": {},
   "source": [
    "### 8.5. Return descriptive statistics for each cluster\n",
    "* Return descriptive statistics for each features, but grouped by cluster. \n"
   ]
  },
  {
   "cell_type": "code",
   "execution_count": 578,
   "metadata": {},
   "outputs": [
    {
     "data": {
      "text/html": [
       "<div>\n",
       "<style scoped>\n",
       "    .dataframe tbody tr th:only-of-type {\n",
       "        vertical-align: middle;\n",
       "    }\n",
       "\n",
       "    .dataframe tbody tr th {\n",
       "        vertical-align: top;\n",
       "    }\n",
       "\n",
       "    .dataframe thead th {\n",
       "        text-align: right;\n",
       "    }\n",
       "</style>\n",
       "<table border=\"1\" class=\"dataframe\">\n",
       "  <thead>\n",
       "    <tr style=\"text-align: right;\">\n",
       "      <th></th>\n",
       "      <th>Gender_Female</th>\n",
       "      <th>Gender_Male</th>\n",
       "      <th>Age</th>\n",
       "      <th>Income</th>\n",
       "      <th>SpendingScore</th>\n",
       "    </tr>\n",
       "    <tr>\n",
       "      <th>Cluster</th>\n",
       "      <th></th>\n",
       "      <th></th>\n",
       "      <th></th>\n",
       "      <th></th>\n",
       "      <th></th>\n",
       "    </tr>\n",
       "  </thead>\n",
       "  <tbody>\n",
       "    <tr>\n",
       "      <th>0</th>\n",
       "      <td>0.61</td>\n",
       "      <td>0.39</td>\n",
       "      <td>46.0</td>\n",
       "      <td>25000.0</td>\n",
       "      <td>17.0</td>\n",
       "    </tr>\n",
       "    <tr>\n",
       "      <th>1</th>\n",
       "      <td>0.46</td>\n",
       "      <td>0.54</td>\n",
       "      <td>42.0</td>\n",
       "      <td>85000.0</td>\n",
       "      <td>16.0</td>\n",
       "    </tr>\n",
       "    <tr>\n",
       "      <th>2</th>\n",
       "      <td>0.54</td>\n",
       "      <td>0.46</td>\n",
       "      <td>32.0</td>\n",
       "      <td>79000.0</td>\n",
       "      <td>83.0</td>\n",
       "    </tr>\n",
       "    <tr>\n",
       "      <th>3</th>\n",
       "      <td>0.59</td>\n",
       "      <td>0.41</td>\n",
       "      <td>23.5</td>\n",
       "      <td>24500.0</td>\n",
       "      <td>77.0</td>\n",
       "    </tr>\n",
       "    <tr>\n",
       "      <th>4</th>\n",
       "      <td>0.59</td>\n",
       "      <td>0.41</td>\n",
       "      <td>46.0</td>\n",
       "      <td>54000.0</td>\n",
       "      <td>50.0</td>\n",
       "    </tr>\n",
       "  </tbody>\n",
       "</table>\n",
       "</div>"
      ],
      "text/plain": [
       "         Gender_Female  Gender_Male   Age   Income  SpendingScore\n",
       "Cluster                                                          \n",
       "0                 0.61         0.39  46.0  25000.0           17.0\n",
       "1                 0.46         0.54  42.0  85000.0           16.0\n",
       "2                 0.54         0.46  32.0  79000.0           83.0\n",
       "3                 0.59         0.41  23.5  24500.0           77.0\n",
       "4                 0.59         0.41  46.0  54000.0           50.0"
      ]
     },
     "execution_count": 578,
     "metadata": {},
     "output_type": "execute_result"
    }
   ],
   "source": [
    "dfg = df.groupby('Cluster').agg({\n",
    "    'Gender_Female': 'mean',\n",
    "    'Gender_Male': 'mean',\n",
    "    'Age': 'median',\n",
    "    'Income': 'median',\n",
    "    'SpendingScore': 'median'}).round(2)\n",
    "dfg"
   ]
  },
  {
   "cell_type": "markdown",
   "metadata": {},
   "source": [
    "### 8.6 Conclusion and Observations\n"
   ]
  },
  {
   "cell_type": "code",
   "execution_count": 579,
   "metadata": {},
   "outputs": [
    {
     "data": {
      "text/html": [
       "<div>\n",
       "<style scoped>\n",
       "    .dataframe tbody tr th:only-of-type {\n",
       "        vertical-align: middle;\n",
       "    }\n",
       "\n",
       "    .dataframe tbody tr th {\n",
       "        vertical-align: top;\n",
       "    }\n",
       "\n",
       "    .dataframe thead th {\n",
       "        text-align: right;\n",
       "    }\n",
       "</style>\n",
       "<table border=\"1\" class=\"dataframe\">\n",
       "  <thead>\n",
       "    <tr style=\"text-align: right;\">\n",
       "      <th></th>\n",
       "      <th>Gender_Female</th>\n",
       "      <th>Gender_Male</th>\n",
       "      <th>Age</th>\n",
       "      <th>Income</th>\n",
       "      <th>SpendingScore</th>\n",
       "    </tr>\n",
       "    <tr>\n",
       "      <th>Cluster</th>\n",
       "      <th></th>\n",
       "      <th></th>\n",
       "      <th></th>\n",
       "      <th></th>\n",
       "      <th></th>\n",
       "    </tr>\n",
       "  </thead>\n",
       "  <tbody>\n",
       "    <tr>\n",
       "      <th>0</th>\n",
       "      <td>61</td>\n",
       "      <td>39</td>\n",
       "      <td>46.0</td>\n",
       "      <td>25000</td>\n",
       "      <td>17</td>\n",
       "    </tr>\n",
       "    <tr>\n",
       "      <th>1</th>\n",
       "      <td>46</td>\n",
       "      <td>54</td>\n",
       "      <td>42.0</td>\n",
       "      <td>85000</td>\n",
       "      <td>16</td>\n",
       "    </tr>\n",
       "    <tr>\n",
       "      <th>2</th>\n",
       "      <td>54</td>\n",
       "      <td>46</td>\n",
       "      <td>32.0</td>\n",
       "      <td>79000</td>\n",
       "      <td>83</td>\n",
       "    </tr>\n",
       "    <tr>\n",
       "      <th>3</th>\n",
       "      <td>59</td>\n",
       "      <td>41</td>\n",
       "      <td>23.5</td>\n",
       "      <td>24500</td>\n",
       "      <td>77</td>\n",
       "    </tr>\n",
       "    <tr>\n",
       "      <th>4</th>\n",
       "      <td>59</td>\n",
       "      <td>41</td>\n",
       "      <td>46.0</td>\n",
       "      <td>54000</td>\n",
       "      <td>50</td>\n",
       "    </tr>\n",
       "  </tbody>\n",
       "</table>\n",
       "</div>"
      ],
      "text/plain": [
       "         Gender_Female  Gender_Male   Age  Income  SpendingScore\n",
       "Cluster                                                         \n",
       "0                   61           39  46.0   25000             17\n",
       "1                   46           54  42.0   85000             16\n",
       "2                   54           46  32.0   79000             83\n",
       "3                   59           41  23.5   24500             77\n",
       "4                   59           41  46.0   54000             50"
      ]
     },
     "execution_count": 579,
     "metadata": {},
     "output_type": "execute_result"
    }
   ],
   "source": [
    "dfg['Gender_Female'] = dfg['Gender_Female'] *100\n",
    "dfg['Gender_Male'] = dfg['Gender_Male'] *100\n",
    "dfg[['Gender_Male', 'Gender_Female','Income','SpendingScore']] = dfg[['Gender_Male', 'Gender_Female','Income','SpendingScore']].astype('int64')\n",
    "dfg"
   ]
  },
  {
   "cell_type": "markdown",
   "metadata": {},
   "source": [
    "#### 8.6.1. Observations\n",
    "\n",
    "* Cluster 0: older (mostly women), earn and spend less than the other clusters. \n",
    "* Cluster 1: slightly younger than cluster 0, slightly more men, `earn the most` and spend the least.\n",
    "* Cluster 2: younger but not the youngest,slightly more women who `earn well` (2nd highest earners) and `spend the most`.\n",
    "* Cluster 3: `youngest` (more women) who earn the least and are `second highest spenders`.\n",
    "* Cluster 4: oldest (mostly women), who are in the middle in terms of earning and spending habits. \n",
    "\n",
    "\n",
    "<table>\n",
    "<thead>\n",
    "<tr><th>Cluster</th><th>Majority_Sex</th><th>Avg_Age</th><th>Income</th><th>Spending</th></tr>\n",
    "</thead>\n",
    "<tbody>\n",
    "<tr><td>0</td><td>Female</td><td>46</td><td>2nd lowest</td><td>2nd lowest</td></tr>\n",
    "<tr><td>1</td><td>Male</td><td>42</td><td>Highest</td><td>Lowest</td></tr>\n",
    "<tr><td>2</td><td>Female</td><td>32</td><td>2nd Highest</td><td>Highest</td></tr>\n",
    "<tr><td>2</td><td>Female</td><td>23.5</td><td>Lowest</td><td>2nd Highest</td></tr>\n",
    "<tr><td>4</td><td>Female</td><td>46</td><td>Middle</td><td>Middle</td></tr>\n",
    "</tbody>\n",
    "</table>\n",
    "\n",
    "#### 8.6.2. Recomendations\n",
    "Focus attention on: \n",
    "* Cluster 1 who are the highest earners but the lowest spenders.\n",
    "* Cluster 2 are the best customers – keep them happy.\n",
    "* Monitor Cluster 3 who are the biggest spenders but who earn the least.\n",
    "* Four of the five clusters are women who the bigger audience. Marketing should consider how best to tailor messages, that appeal to women shoppers, and particularly the younger women in cluster 3.\n"
   ]
  },
  {
   "cell_type": "markdown",
   "metadata": {},
   "source": [
    "## END"
   ]
  },
  {
   "cell_type": "code",
   "execution_count": null,
   "metadata": {},
   "outputs": [],
   "source": []
  }
 ],
 "metadata": {
  "kernelspec": {
   "display_name": "Python 3",
   "language": "python",
   "name": "python3"
  },
  "language_info": {
   "codemirror_mode": {
    "name": "ipython",
    "version": 3
   },
   "file_extension": ".py",
   "mimetype": "text/x-python",
   "name": "python",
   "nbconvert_exporter": "python",
   "pygments_lexer": "ipython3",
   "version": "3.9.13"
  }
 },
 "nbformat": 4,
 "nbformat_minor": 4
}
